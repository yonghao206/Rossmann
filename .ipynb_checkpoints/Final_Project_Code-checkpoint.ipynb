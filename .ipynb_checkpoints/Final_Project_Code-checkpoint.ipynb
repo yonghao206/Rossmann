{
 "cells": [
  {
   "cell_type": "markdown",
   "metadata": {
    "toc": true
   },
   "source": [
    "<h1>Table of Contents<span class=\"tocSkip\"></span></h1>\n",
    "<div class=\"toc\"><ul class=\"toc-item\"><li><span><a href=\"#Import-Package-and-Learn-about-Data\" data-toc-modified-id=\"Import-Package-and-Learn-about-Data-1\"><span class=\"toc-item-num\">1&nbsp;&nbsp;</span>Import Package and Learn about Data</a></span></li><li><span><a href=\"#Exploratory-Data-Analysis(EDA)\" data-toc-modified-id=\"Exploratory-Data-Analysis(EDA)-2\"><span class=\"toc-item-num\">2&nbsp;&nbsp;</span>Exploratory Data Analysis(EDA)</a></span><ul class=\"toc-item\"><li><span><a href=\"#Basic-Info-for-Data\" data-toc-modified-id=\"Basic-Info-for-Data-2.1\"><span class=\"toc-item-num\">2.1&nbsp;&nbsp;</span>Basic Info for Data</a></span></li><li><span><a href=\"#DayOfWeek-and-Sales\" data-toc-modified-id=\"DayOfWeek-and-Sales-2.2\"><span class=\"toc-item-num\">2.2&nbsp;&nbsp;</span>DayOfWeek and Sales</a></span></li><li><span><a href=\"#Sales,Customers-on-Promo\" data-toc-modified-id=\"Sales,Customers-on-Promo-2.3\"><span class=\"toc-item-num\">2.3&nbsp;&nbsp;</span>Sales,Customers on Promo</a></span></li><li><span><a href=\"#Count-of-StateHoliday-&amp;-Average-Sales/Customers-of-StateHoliday\" data-toc-modified-id=\"Count-of-StateHoliday-&amp;-Average-Sales/Customers-of-StateHoliday-2.4\"><span class=\"toc-item-num\">2.4&nbsp;&nbsp;</span>Count of StateHoliday &amp; Average Sales/Customers of StateHoliday</a></span></li><li><span><a href=\"#Count-of-SchoolHoliday-&amp;-Average-Sales/Customers-of-SchoolHoliday\" data-toc-modified-id=\"Count-of-SchoolHoliday-&amp;-Average-Sales/Customers-of-SchoolHoliday-2.5\"><span class=\"toc-item-num\">2.5&nbsp;&nbsp;</span>Count of SchoolHoliday &amp; Average Sales/Customers of SchoolHoliday</a></span></li><li><span><a href=\"#Sales/Customers-distribution\" data-toc-modified-id=\"Sales/Customers-distribution-2.6\"><span class=\"toc-item-num\">2.6&nbsp;&nbsp;</span>Sales/Customers distribution</a></span></li><li><span><a href=\"#Sales-Changing-with-Time\" data-toc-modified-id=\"Sales-Changing-with-Time-2.7\"><span class=\"toc-item-num\">2.7&nbsp;&nbsp;</span>Sales Changing with Time</a></span></li><li><span><a href=\"#StoreType:-count-&amp;-average-sales/customers\" data-toc-modified-id=\"StoreType:-count-&amp;-average-sales/customers-2.8\"><span class=\"toc-item-num\">2.8&nbsp;&nbsp;</span>StoreType: count &amp; average sales/customers</a></span></li><li><span><a href=\"#Assortment:-count-&amp;-average-sales/customers\" data-toc-modified-id=\"Assortment:-count-&amp;-average-sales/customers-2.9\"><span class=\"toc-item-num\">2.9&nbsp;&nbsp;</span>Assortment: count &amp; average sales/customers</a></span></li><li><span><a href=\"#Competition-Distance\" data-toc-modified-id=\"Competition-Distance-2.10\"><span class=\"toc-item-num\">2.10&nbsp;&nbsp;</span>Competition Distance</a></span></li><li><span><a href=\"#the-Competition's-effect-on-Sales\" data-toc-modified-id=\"the-Competition's-effect-on-Sales-2.11\"><span class=\"toc-item-num\">2.11&nbsp;&nbsp;</span>the Competition's effect on Sales</a></span></li><li><span><a href=\"#Sales/Customers-on-Promo2\" data-toc-modified-id=\"Sales/Customers-on-Promo2-2.12\"><span class=\"toc-item-num\">2.12&nbsp;&nbsp;</span>Sales/Customers on Promo2</a></span></li></ul></li><li><span><a href=\"#Data-Preprocessing\" data-toc-modified-id=\"Data-Preprocessing-3\"><span class=\"toc-item-num\">3&nbsp;&nbsp;</span>Data Preprocessing</a></span></li><li><span><a href=\"#Feature-Engineering\" data-toc-modified-id=\"Feature-Engineering-4\"><span class=\"toc-item-num\">4&nbsp;&nbsp;</span>Feature Engineering</a></span></li><li><span><a href=\"#modeling\" data-toc-modified-id=\"modeling-5\"><span class=\"toc-item-num\">5&nbsp;&nbsp;</span>modeling</a></span><ul class=\"toc-item\"><li><span><a href=\"#benchmark1：-Linear-Regression-Without-extra-features-and-combo-features\" data-toc-modified-id=\"benchmark1：-Linear-Regression-Without-extra-features-and-combo-features-5.1\"><span class=\"toc-item-num\">5.1&nbsp;&nbsp;</span>benchmark1： Linear Regression Without extra features and combo features</a></span><ul class=\"toc-item\"><li><span><a href=\"#Linear-Regression\" data-toc-modified-id=\"Linear-Regression-5.1.1\"><span class=\"toc-item-num\">5.1.1&nbsp;&nbsp;</span>Linear Regression</a></span></li></ul></li><li><span><a href=\"#Evaluation-Function\" data-toc-modified-id=\"Evaluation-Function-5.2\"><span class=\"toc-item-num\">5.2&nbsp;&nbsp;</span>Evaluation Function</a></span></li><li><span><a href=\"#benchmark2：-XGBoost-Without-extra-features-and-combo-features\" data-toc-modified-id=\"benchmark2：-XGBoost-Without-extra-features-and-combo-features-5.3\"><span class=\"toc-item-num\">5.3&nbsp;&nbsp;</span>benchmark2： XGBoost Without extra features and combo features</a></span></li><li><span><a href=\"#Adding-extra-and-combo-features\" data-toc-modified-id=\"Adding-extra-and-combo-features-5.4\"><span class=\"toc-item-num\">5.4&nbsp;&nbsp;</span>Adding extra and combo features</a></span><ul class=\"toc-item\"><li><span><a href=\"#Based-on-explorary-data-analysis-result，related-features-can-be-created-by-combing-store,-dayofweek,-promo,-year-features\" data-toc-modified-id=\"Based-on-explorary-data-analysis-result，related-features-can-be-created-by-combing-store,-dayofweek,-promo,-year-features-5.4.1\"><span class=\"toc-item-num\">5.4.1&nbsp;&nbsp;</span>Based on explorary data analysis result，related features can be created by combing store, dayofweek, promo, year features</a></span></li><li><span><a href=\"#Add-state-info-for-each-store\" data-toc-modified-id=\"Add-state-info-for-each-store-5.4.2\"><span class=\"toc-item-num\">5.4.2&nbsp;&nbsp;</span>Add state info for each store</a></span></li></ul></li><li><span><a href=\"#remove-outlier-based-on-MAD-for-each-store\" data-toc-modified-id=\"remove-outlier-based-on-MAD-for-each-store-5.5\"><span class=\"toc-item-num\">5.5&nbsp;&nbsp;</span>remove outlier based on MAD for each store</a></span></li><li><span><a href=\"#Tune-XGBoost-Parameters\" data-toc-modified-id=\"Tune-XGBoost-Parameters-5.6\"><span class=\"toc-item-num\">5.6&nbsp;&nbsp;</span>Tune XGBoost Parameters</a></span><ul class=\"toc-item\"><li><span><a href=\"#Original-Parameter\" data-toc-modified-id=\"Original-Parameter-5.6.1\"><span class=\"toc-item-num\">5.6.1&nbsp;&nbsp;</span>Original Parameter</a></span></li><li><span><a href=\"#Tune-Paramters:-eta,-max_depth,-subsample,-colsample_bytree\" data-toc-modified-id=\"Tune-Paramters:-eta,-max_depth,-subsample,-colsample_bytree-5.6.2\"><span class=\"toc-item-num\">5.6.2&nbsp;&nbsp;</span>Tune Paramters: eta, max_depth, subsample, colsample_bytree</a></span></li><li><span><a href=\"#when-max_depth-is-10,-the-valid-loss-is-minimal\" data-toc-modified-id=\"when-max_depth-is-10,-the-valid-loss-is-minimal-5.6.3\"><span class=\"toc-item-num\">5.6.3&nbsp;&nbsp;</span>when max_depth is 10, the valid loss is minimal</a></span></li><li><span><a href=\"#subsample-=-0.9-and-colsample_bytreee-=-0.7,-eval_rmspe-is-miminal,-choose-the-two-parameters\" data-toc-modified-id=\"subsample-=-0.9-and-colsample_bytreee-=-0.7,-eval_rmspe-is-miminal,-choose-the-two-parameters-5.6.4\"><span class=\"toc-item-num\">5.6.4&nbsp;&nbsp;</span>subsample = 0.9 and colsample_bytreee = 0.7, eval_rmspe is miminal, choose the two parameters</a></span></li><li><span><a href=\"#lower-eta-to-obtain-a-better-eval_rmspe,-eta=0.02-and-0.01-are-good-enough\" data-toc-modified-id=\"lower-eta-to-obtain-a-better-eval_rmspe,-eta=0.02-and-0.01-are-good-enough-5.6.5\"><span class=\"toc-item-num\">5.6.5&nbsp;&nbsp;</span>lower eta to obtain a better eval_rmspe, eta=0.02 and 0.01 are good enough</a></span></li><li><span><a href=\"#Split-Train-Data-into-Train-and-Valid-Data\" data-toc-modified-id=\"Split-Train-Data-into-Train-and-Valid-Data-5.6.6\"><span class=\"toc-item-num\">5.6.6&nbsp;&nbsp;</span>Split Train Data into Train and Valid Data</a></span><ul class=\"toc-item\"><li><span><a href=\"#split-train-data-based-on-2015-06-01--and-change-eta-at-the-same-time.\" data-toc-modified-id=\"split-train-data-based-on-2015-06-01--and-change-eta-at-the-same-time.-5.6.6.1\"><span class=\"toc-item-num\">5.6.6.1&nbsp;&nbsp;</span>split train data based on 2015-06-01  and change eta at the same time.</a></span></li><li><span><a href=\"#split-train-data-based-on-2015-07-01-and-change-eta-at-the-same-time.\" data-toc-modified-id=\"split-train-data-based-on-2015-07-01-and-change-eta-at-the-same-time.-5.6.6.2\"><span class=\"toc-item-num\">5.6.6.2&nbsp;&nbsp;</span>split train data based on 2015-07-01 and change eta at the same time.</a></span></li><li><span><a href=\"#split-train-data-based-on-2015-07-15-and-change-eta-at-the-same-time.\" data-toc-modified-id=\"split-train-data-based-on-2015-07-15-and-change-eta-at-the-same-time.-5.6.6.3\"><span class=\"toc-item-num\">5.6.6.3&nbsp;&nbsp;</span>split train data based on 2015-07-15 and change eta at the same time.</a></span></li><li><span><a href=\"#result-of-Valid_RMSPE-based-on-time-split\" data-toc-modified-id=\"result-of-Valid_RMSPE-based-on-time-split-5.6.6.4\"><span class=\"toc-item-num\">5.6.6.4&nbsp;&nbsp;</span>result of Valid_RMSPE based on time split</a></span></li></ul></li><li><span><a href=\"#Using-different-seed(different-initialization-for-parameters)\" data-toc-modified-id=\"Using-different-seed(different-initialization-for-parameters)-5.6.7\"><span class=\"toc-item-num\">5.6.7&nbsp;&nbsp;</span>Using different seed(different initialization for parameters)</a></span></li><li><span><a href=\"#Final-Parameter-Choice\" data-toc-modified-id=\"Final-Parameter-Choice-5.6.8\"><span class=\"toc-item-num\">5.6.8&nbsp;&nbsp;</span>Final Parameter Choice</a></span></li></ul></li></ul></li></ul></div>"
   ]
  },
  {
   "cell_type": "markdown",
   "metadata": {},
   "source": [
    "# Final Project Code"
   ]
  },
  {
   "cell_type": "markdown",
   "metadata": {},
   "source": [
    "## Import Package and Learn about Data"
   ]
  },
  {
   "cell_type": "code",
   "execution_count": 2,
   "metadata": {
    "ExecuteTime": {
     "end_time": "2018-12-11T18:40:56.593417Z",
     "start_time": "2018-12-11T18:40:38.875554Z"
    },
    "collapsed": true
   },
   "outputs": [],
   "source": [
    "import time\n",
    "\n",
    "import numpy as np\n",
    "import pandas as pd\n",
    "from sklearn.model_selection import train_test_split\n",
    "from sklearn.model_selection import GridSearchCV\n",
    "\n",
    "import xgboost as xgb\n",
    "\n",
    "import matplotlib.pyplot as plt\n",
    "import seaborn as sns  \n",
    "%matplotlib inline \n",
    "%config lnlineBackend.figure_format='retina'\n",
    "\n",
    "pd.set_option('display.width', 1000)\n",
    "sns.set_style('whitegrid')"
   ]
  },
  {
   "cell_type": "code",
   "execution_count": 3,
   "metadata": {
    "ExecuteTime": {
     "end_time": "2018-12-11T18:40:58.310795Z",
     "start_time": "2018-12-11T18:40:56.600599Z"
    },
    "collapsed": true
   },
   "outputs": [],
   "source": [
    "# load data\n",
    "train = pd.read_csv('./input/train.csv',dtype={'StateHoliday':object}) \n",
    "store =  pd.read_csv('./input/store.csv') # basic info for each store \n",
    "test = pd.read_csv('./input/test.csv')"
   ]
  },
  {
   "cell_type": "code",
   "execution_count": 10,
   "metadata": {
    "ExecuteTime": {
     "end_time": "2018-12-10T22:14:23.748373Z",
     "start_time": "2018-12-10T22:14:23.177766Z"
    }
   },
   "outputs": [
    {
     "data": {
      "text/plain": [
       "(1017209, 9)"
      ]
     },
     "execution_count": 10,
     "metadata": {},
     "output_type": "execute_result"
    },
    {
     "name": "stdout",
     "output_type": "stream",
     "text": [
      "<class 'pandas.core.frame.DataFrame'>\n",
      "RangeIndex: 1017209 entries, 0 to 1017208\n",
      "Data columns (total 9 columns):\n",
      "Store            1017209 non-null int64\n",
      "DayOfWeek        1017209 non-null int64\n",
      "Date             1017209 non-null object\n",
      "Sales            1017209 non-null int64\n",
      "Customers        1017209 non-null int64\n",
      "Open             1017209 non-null int64\n",
      "Promo            1017209 non-null int64\n",
      "StateHoliday     1017209 non-null object\n",
      "SchoolHoliday    1017209 non-null int64\n",
      "dtypes: int64(7), object(2)\n",
      "memory usage: 69.8+ MB\n"
     ]
    },
    {
     "data": {
      "text/html": [
       "<div>\n",
       "<style scoped>\n",
       "    .dataframe tbody tr th:only-of-type {\n",
       "        vertical-align: middle;\n",
       "    }\n",
       "\n",
       "    .dataframe tbody tr th {\n",
       "        vertical-align: top;\n",
       "    }\n",
       "\n",
       "    .dataframe thead th {\n",
       "        text-align: right;\n",
       "    }\n",
       "</style>\n",
       "<table border=\"1\" class=\"dataframe\">\n",
       "  <thead>\n",
       "    <tr style=\"text-align: right;\">\n",
       "      <th></th>\n",
       "      <th>Store</th>\n",
       "      <th>DayOfWeek</th>\n",
       "      <th>Sales</th>\n",
       "      <th>Customers</th>\n",
       "      <th>Open</th>\n",
       "      <th>Promo</th>\n",
       "      <th>SchoolHoliday</th>\n",
       "    </tr>\n",
       "  </thead>\n",
       "  <tbody>\n",
       "    <tr>\n",
       "      <th>count</th>\n",
       "      <td>1.017209e+06</td>\n",
       "      <td>1.017209e+06</td>\n",
       "      <td>1.017209e+06</td>\n",
       "      <td>1.017209e+06</td>\n",
       "      <td>1.017209e+06</td>\n",
       "      <td>1.017209e+06</td>\n",
       "      <td>1.017209e+06</td>\n",
       "    </tr>\n",
       "    <tr>\n",
       "      <th>mean</th>\n",
       "      <td>5.584297e+02</td>\n",
       "      <td>3.998341e+00</td>\n",
       "      <td>5.773819e+03</td>\n",
       "      <td>6.331459e+02</td>\n",
       "      <td>8.301067e-01</td>\n",
       "      <td>3.815145e-01</td>\n",
       "      <td>1.786467e-01</td>\n",
       "    </tr>\n",
       "    <tr>\n",
       "      <th>std</th>\n",
       "      <td>3.219087e+02</td>\n",
       "      <td>1.997391e+00</td>\n",
       "      <td>3.849926e+03</td>\n",
       "      <td>4.644117e+02</td>\n",
       "      <td>3.755392e-01</td>\n",
       "      <td>4.857586e-01</td>\n",
       "      <td>3.830564e-01</td>\n",
       "    </tr>\n",
       "    <tr>\n",
       "      <th>min</th>\n",
       "      <td>1.000000e+00</td>\n",
       "      <td>1.000000e+00</td>\n",
       "      <td>0.000000e+00</td>\n",
       "      <td>0.000000e+00</td>\n",
       "      <td>0.000000e+00</td>\n",
       "      <td>0.000000e+00</td>\n",
       "      <td>0.000000e+00</td>\n",
       "    </tr>\n",
       "    <tr>\n",
       "      <th>25%</th>\n",
       "      <td>2.800000e+02</td>\n",
       "      <td>2.000000e+00</td>\n",
       "      <td>3.727000e+03</td>\n",
       "      <td>4.050000e+02</td>\n",
       "      <td>1.000000e+00</td>\n",
       "      <td>0.000000e+00</td>\n",
       "      <td>0.000000e+00</td>\n",
       "    </tr>\n",
       "    <tr>\n",
       "      <th>50%</th>\n",
       "      <td>5.580000e+02</td>\n",
       "      <td>4.000000e+00</td>\n",
       "      <td>5.744000e+03</td>\n",
       "      <td>6.090000e+02</td>\n",
       "      <td>1.000000e+00</td>\n",
       "      <td>0.000000e+00</td>\n",
       "      <td>0.000000e+00</td>\n",
       "    </tr>\n",
       "    <tr>\n",
       "      <th>75%</th>\n",
       "      <td>8.380000e+02</td>\n",
       "      <td>6.000000e+00</td>\n",
       "      <td>7.856000e+03</td>\n",
       "      <td>8.370000e+02</td>\n",
       "      <td>1.000000e+00</td>\n",
       "      <td>1.000000e+00</td>\n",
       "      <td>0.000000e+00</td>\n",
       "    </tr>\n",
       "    <tr>\n",
       "      <th>max</th>\n",
       "      <td>1.115000e+03</td>\n",
       "      <td>7.000000e+00</td>\n",
       "      <td>4.155100e+04</td>\n",
       "      <td>7.388000e+03</td>\n",
       "      <td>1.000000e+00</td>\n",
       "      <td>1.000000e+00</td>\n",
       "      <td>1.000000e+00</td>\n",
       "    </tr>\n",
       "  </tbody>\n",
       "</table>\n",
       "</div>"
      ],
      "text/plain": [
       "              Store     DayOfWeek         Sales     Customers          Open         Promo  SchoolHoliday\n",
       "count  1.017209e+06  1.017209e+06  1.017209e+06  1.017209e+06  1.017209e+06  1.017209e+06   1.017209e+06\n",
       "mean   5.584297e+02  3.998341e+00  5.773819e+03  6.331459e+02  8.301067e-01  3.815145e-01   1.786467e-01\n",
       "std    3.219087e+02  1.997391e+00  3.849926e+03  4.644117e+02  3.755392e-01  4.857586e-01   3.830564e-01\n",
       "min    1.000000e+00  1.000000e+00  0.000000e+00  0.000000e+00  0.000000e+00  0.000000e+00   0.000000e+00\n",
       "25%    2.800000e+02  2.000000e+00  3.727000e+03  4.050000e+02  1.000000e+00  0.000000e+00   0.000000e+00\n",
       "50%    5.580000e+02  4.000000e+00  5.744000e+03  6.090000e+02  1.000000e+00  0.000000e+00   0.000000e+00\n",
       "75%    8.380000e+02  6.000000e+00  7.856000e+03  8.370000e+02  1.000000e+00  1.000000e+00   0.000000e+00\n",
       "max    1.115000e+03  7.000000e+00  4.155100e+04  7.388000e+03  1.000000e+00  1.000000e+00   1.000000e+00"
      ]
     },
     "execution_count": 10,
     "metadata": {},
     "output_type": "execute_result"
    },
    {
     "data": {
      "text/html": [
       "<div>\n",
       "<style scoped>\n",
       "    .dataframe tbody tr th:only-of-type {\n",
       "        vertical-align: middle;\n",
       "    }\n",
       "\n",
       "    .dataframe tbody tr th {\n",
       "        vertical-align: top;\n",
       "    }\n",
       "\n",
       "    .dataframe thead th {\n",
       "        text-align: right;\n",
       "    }\n",
       "</style>\n",
       "<table border=\"1\" class=\"dataframe\">\n",
       "  <thead>\n",
       "    <tr style=\"text-align: right;\">\n",
       "      <th></th>\n",
       "      <th>Store</th>\n",
       "      <th>DayOfWeek</th>\n",
       "      <th>Date</th>\n",
       "      <th>Sales</th>\n",
       "      <th>Customers</th>\n",
       "      <th>Open</th>\n",
       "      <th>Promo</th>\n",
       "      <th>StateHoliday</th>\n",
       "      <th>SchoolHoliday</th>\n",
       "    </tr>\n",
       "  </thead>\n",
       "  <tbody>\n",
       "    <tr>\n",
       "      <th>0</th>\n",
       "      <td>1</td>\n",
       "      <td>5</td>\n",
       "      <td>2015-07-31</td>\n",
       "      <td>5263</td>\n",
       "      <td>555</td>\n",
       "      <td>1</td>\n",
       "      <td>1</td>\n",
       "      <td>0</td>\n",
       "      <td>1</td>\n",
       "    </tr>\n",
       "    <tr>\n",
       "      <th>1</th>\n",
       "      <td>2</td>\n",
       "      <td>5</td>\n",
       "      <td>2015-07-31</td>\n",
       "      <td>6064</td>\n",
       "      <td>625</td>\n",
       "      <td>1</td>\n",
       "      <td>1</td>\n",
       "      <td>0</td>\n",
       "      <td>1</td>\n",
       "    </tr>\n",
       "    <tr>\n",
       "      <th>2</th>\n",
       "      <td>3</td>\n",
       "      <td>5</td>\n",
       "      <td>2015-07-31</td>\n",
       "      <td>8314</td>\n",
       "      <td>821</td>\n",
       "      <td>1</td>\n",
       "      <td>1</td>\n",
       "      <td>0</td>\n",
       "      <td>1</td>\n",
       "    </tr>\n",
       "    <tr>\n",
       "      <th>3</th>\n",
       "      <td>4</td>\n",
       "      <td>5</td>\n",
       "      <td>2015-07-31</td>\n",
       "      <td>13995</td>\n",
       "      <td>1498</td>\n",
       "      <td>1</td>\n",
       "      <td>1</td>\n",
       "      <td>0</td>\n",
       "      <td>1</td>\n",
       "    </tr>\n",
       "    <tr>\n",
       "      <th>4</th>\n",
       "      <td>5</td>\n",
       "      <td>5</td>\n",
       "      <td>2015-07-31</td>\n",
       "      <td>4822</td>\n",
       "      <td>559</td>\n",
       "      <td>1</td>\n",
       "      <td>1</td>\n",
       "      <td>0</td>\n",
       "      <td>1</td>\n",
       "    </tr>\n",
       "  </tbody>\n",
       "</table>\n",
       "</div>"
      ],
      "text/plain": [
       "   Store  DayOfWeek        Date  Sales  Customers  Open  Promo StateHoliday  SchoolHoliday\n",
       "0      1          5  2015-07-31   5263        555     1      1            0              1\n",
       "1      2          5  2015-07-31   6064        625     1      1            0              1\n",
       "2      3          5  2015-07-31   8314        821     1      1            0              1\n",
       "3      4          5  2015-07-31  13995       1498     1      1            0              1\n",
       "4      5          5  2015-07-31   4822        559     1      1            0              1"
      ]
     },
     "execution_count": 10,
     "metadata": {},
     "output_type": "execute_result"
    }
   ],
   "source": [
    "# take train data as an example to learn about basic info of data\n",
    "train.shape\n",
    "train.info()\n",
    "train.describe()\n",
    "train.head()"
   ]
  },
  {
   "cell_type": "code",
   "execution_count": 11,
   "metadata": {
    "ExecuteTime": {
     "end_time": "2018-12-10T22:14:38.429702Z",
     "start_time": "2018-12-10T22:14:38.415808Z"
    }
   },
   "outputs": [
    {
     "data": {
      "text/html": [
       "<div>\n",
       "<style scoped>\n",
       "    .dataframe tbody tr th:only-of-type {\n",
       "        vertical-align: middle;\n",
       "    }\n",
       "\n",
       "    .dataframe tbody tr th {\n",
       "        vertical-align: top;\n",
       "    }\n",
       "\n",
       "    .dataframe thead th {\n",
       "        text-align: right;\n",
       "    }\n",
       "</style>\n",
       "<table border=\"1\" class=\"dataframe\">\n",
       "  <thead>\n",
       "    <tr style=\"text-align: right;\">\n",
       "      <th></th>\n",
       "      <th>Store</th>\n",
       "      <th>StoreType</th>\n",
       "      <th>Assortment</th>\n",
       "      <th>CompetitionDistance</th>\n",
       "      <th>CompetitionOpenSinceMonth</th>\n",
       "      <th>CompetitionOpenSinceYear</th>\n",
       "      <th>Promo2</th>\n",
       "      <th>Promo2SinceWeek</th>\n",
       "      <th>Promo2SinceYear</th>\n",
       "      <th>PromoInterval</th>\n",
       "    </tr>\n",
       "  </thead>\n",
       "  <tbody>\n",
       "    <tr>\n",
       "      <th>0</th>\n",
       "      <td>1</td>\n",
       "      <td>c</td>\n",
       "      <td>a</td>\n",
       "      <td>1270.0</td>\n",
       "      <td>9.0</td>\n",
       "      <td>2008.0</td>\n",
       "      <td>0</td>\n",
       "      <td>NaN</td>\n",
       "      <td>NaN</td>\n",
       "      <td>NaN</td>\n",
       "    </tr>\n",
       "    <tr>\n",
       "      <th>1</th>\n",
       "      <td>2</td>\n",
       "      <td>a</td>\n",
       "      <td>a</td>\n",
       "      <td>570.0</td>\n",
       "      <td>11.0</td>\n",
       "      <td>2007.0</td>\n",
       "      <td>1</td>\n",
       "      <td>13.0</td>\n",
       "      <td>2010.0</td>\n",
       "      <td>Jan,Apr,Jul,Oct</td>\n",
       "    </tr>\n",
       "    <tr>\n",
       "      <th>2</th>\n",
       "      <td>3</td>\n",
       "      <td>a</td>\n",
       "      <td>a</td>\n",
       "      <td>14130.0</td>\n",
       "      <td>12.0</td>\n",
       "      <td>2006.0</td>\n",
       "      <td>1</td>\n",
       "      <td>14.0</td>\n",
       "      <td>2011.0</td>\n",
       "      <td>Jan,Apr,Jul,Oct</td>\n",
       "    </tr>\n",
       "    <tr>\n",
       "      <th>3</th>\n",
       "      <td>4</td>\n",
       "      <td>c</td>\n",
       "      <td>c</td>\n",
       "      <td>620.0</td>\n",
       "      <td>9.0</td>\n",
       "      <td>2009.0</td>\n",
       "      <td>0</td>\n",
       "      <td>NaN</td>\n",
       "      <td>NaN</td>\n",
       "      <td>NaN</td>\n",
       "    </tr>\n",
       "    <tr>\n",
       "      <th>4</th>\n",
       "      <td>5</td>\n",
       "      <td>a</td>\n",
       "      <td>a</td>\n",
       "      <td>29910.0</td>\n",
       "      <td>4.0</td>\n",
       "      <td>2015.0</td>\n",
       "      <td>0</td>\n",
       "      <td>NaN</td>\n",
       "      <td>NaN</td>\n",
       "      <td>NaN</td>\n",
       "    </tr>\n",
       "  </tbody>\n",
       "</table>\n",
       "</div>"
      ],
      "text/plain": [
       "   Store StoreType Assortment  CompetitionDistance  CompetitionOpenSinceMonth  CompetitionOpenSinceYear  Promo2  Promo2SinceWeek  Promo2SinceYear    PromoInterval\n",
       "0      1         c          a               1270.0                        9.0                    2008.0       0              NaN              NaN              NaN\n",
       "1      2         a          a                570.0                       11.0                    2007.0       1             13.0           2010.0  Jan,Apr,Jul,Oct\n",
       "2      3         a          a              14130.0                       12.0                    2006.0       1             14.0           2011.0  Jan,Apr,Jul,Oct\n",
       "3      4         c          c                620.0                        9.0                    2009.0       0              NaN              NaN              NaN\n",
       "4      5         a          a              29910.0                        4.0                    2015.0       0              NaN              NaN              NaN"
      ]
     },
     "execution_count": 11,
     "metadata": {},
     "output_type": "execute_result"
    }
   ],
   "source": [
    "store.head()"
   ]
  },
  {
   "cell_type": "code",
   "execution_count": 5,
   "metadata": {
    "ExecuteTime": {
     "end_time": "2018-12-07T19:45:58.500373Z",
     "start_time": "2018-12-07T19:45:58.491777Z"
    }
   },
   "outputs": [
    {
     "data": {
      "text/plain": [
       "Index(['Store', 'StoreType', 'Assortment', 'CompetitionDistance', 'CompetitionOpenSinceMonth', 'CompetitionOpenSinceYear', 'Promo2', 'Promo2SinceWeek', 'Promo2SinceYear', 'PromoInterval'], dtype='object')"
      ]
     },
     "execution_count": 5,
     "metadata": {},
     "output_type": "execute_result"
    }
   ],
   "source": [
    "store.columns"
   ]
  },
  {
   "cell_type": "code",
   "execution_count": 6,
   "metadata": {
    "ExecuteTime": {
     "end_time": "2018-12-07T19:45:59.419896Z",
     "start_time": "2018-12-07T19:45:59.411513Z"
    }
   },
   "outputs": [
    {
     "data": {
      "text/plain": [
       "Index(['Store', 'DayOfWeek', 'Date', 'Sales', 'Customers', 'Open', 'Promo', 'StateHoliday', 'SchoolHoliday'], dtype='object')"
      ]
     },
     "execution_count": 6,
     "metadata": {},
     "output_type": "execute_result"
    }
   ],
   "source": [
    "train.columns"
   ]
  },
  {
   "cell_type": "code",
   "execution_count": 7,
   "metadata": {
    "ExecuteTime": {
     "end_time": "2018-12-07T19:46:00.385606Z",
     "start_time": "2018-12-07T19:46:00.371579Z"
    }
   },
   "outputs": [
    {
     "data": {
      "text/plain": [
       "(1017209, 9)"
      ]
     },
     "execution_count": 7,
     "metadata": {},
     "output_type": "execute_result"
    },
    {
     "data": {
      "text/plain": [
       "(41088, 8)"
      ]
     },
     "execution_count": 7,
     "metadata": {},
     "output_type": "execute_result"
    },
    {
     "data": {
      "text/plain": [
       "(1115, 10)"
      ]
     },
     "execution_count": 7,
     "metadata": {},
     "output_type": "execute_result"
    }
   ],
   "source": [
    "train.shape\n",
    "test.shape\n",
    "store.shape"
   ]
  },
  {
   "cell_type": "code",
   "execution_count": 4,
   "metadata": {
    "ExecuteTime": {
     "end_time": "2018-12-10T22:09:25.597367Z",
     "start_time": "2018-12-10T22:09:25.328188Z"
    },
    "scrolled": true
   },
   "outputs": [
    {
     "name": "stdout",
     "output_type": "stream",
     "text": [
      "train null number: \n",
      " Store            0\n",
      "DayOfWeek        0\n",
      "Date             0\n",
      "Sales            0\n",
      "Customers        0\n",
      "Open             0\n",
      "Promo            0\n",
      "StateHoliday     0\n",
      "SchoolHoliday    0\n",
      "dtype: int64\n",
      "test null number: \n",
      " Id                0\n",
      "Store             0\n",
      "DayOfWeek         0\n",
      "Date              0\n",
      "Open             11\n",
      "Promo             0\n",
      "StateHoliday      0\n",
      "SchoolHoliday     0\n",
      "dtype: int64\n",
      "store null number：\n",
      " Store                          0\n",
      "StoreType                      0\n",
      "Assortment                     0\n",
      "CompetitionDistance            3\n",
      "CompetitionOpenSinceMonth    354\n",
      "CompetitionOpenSinceYear     354\n",
      "Promo2                         0\n",
      "Promo2SinceWeek              544\n",
      "Promo2SinceYear              544\n",
      "PromoInterval                544\n",
      "dtype: int64\n"
     ]
    }
   ],
   "source": [
    "# count the number of null for each attribute\n",
    "print('train null number: \\n',train.isnull().sum())\n",
    "print('test null number: \\n',test.isnull().sum())\n",
    "print('store null number：\\n', store.isnull().sum())"
   ]
  },
  {
   "cell_type": "markdown",
   "metadata": {
    "ExecuteTime": {
     "end_time": "2018-04-28T06:44:57.975799Z",
     "start_time": "2018-04-28T06:44:57.968307Z"
    }
   },
   "source": [
    "## Exploratory Data Analysis(EDA)"
   ]
  },
  {
   "cell_type": "code",
   "execution_count": 10,
   "metadata": {
    "ExecuteTime": {
     "end_time": "2018-12-11T18:59:14.481229Z",
     "start_time": "2018-12-11T18:59:13.973748Z"
    },
    "code_folding": [],
    "collapsed": true
   },
   "outputs": [],
   "source": [
    "# combine train and test data with basic store info\n",
    "train=pd.merge(train,store,how='left', on='Store')\n",
    "test=pd.merge(test,store,how='left', on='Store')"
   ]
  },
  {
   "cell_type": "markdown",
   "metadata": {},
   "source": [
    "**From the feature list, the relationships between Sales(label) and  features will be visualized.  The features contain DayOfWeek, Promo, StateHoliday, SchoolHoliday, StoreType, Assortment, CompetitionDistance, CompetitionOpenSinceMonth, CompetitionOpenSinceYear**"
   ]
  },
  {
   "cell_type": "code",
   "execution_count": null,
   "metadata": {
    "ExecuteTime": {
     "end_time": "2018-12-11T18:59:01.439023Z",
     "start_time": "2018-12-11T18:56:51.519Z"
    },
    "collapsed": true,
    "scrolled": true
   },
   "outputs": [],
   "source": [
    "# all of features train data has \n",
    "train.columns.tolist()"
   ]
  },
  {
   "cell_type": "markdown",
   "metadata": {},
   "source": [
    "### Basic Info for Data"
   ]
  },
  {
   "cell_type": "markdown",
   "metadata": {},
   "source": [
    "Store number"
   ]
  },
  {
   "cell_type": "code",
   "execution_count": 8,
   "metadata": {
    "ExecuteTime": {
     "end_time": "2018-11-21T02:15:25.082636Z",
     "start_time": "2018-11-21T02:15:25.040229Z"
    },
    "scrolled": true
   },
   "outputs": [
    {
     "data": {
      "text/plain": [
       "1115"
      ]
     },
     "execution_count": 8,
     "metadata": {},
     "output_type": "execute_result"
    },
    {
     "data": {
      "text/plain": [
       "1"
      ]
     },
     "execution_count": 8,
     "metadata": {},
     "output_type": "execute_result"
    },
    {
     "data": {
      "text/plain": [
       "1115"
      ]
     },
     "execution_count": 8,
     "metadata": {},
     "output_type": "execute_result"
    }
   ],
   "source": [
    "len(train.Store.value_counts()) # 1115 stores will be involved in the data\n",
    "train.Store.values.min() #  min store number\n",
    "train.Store.values.max() # max store number"
   ]
  },
  {
   "cell_type": "markdown",
   "metadata": {},
   "source": [
    "Date Info"
   ]
  },
  {
   "cell_type": "code",
   "execution_count": 22,
   "metadata": {
    "ExecuteTime": {
     "end_time": "2018-12-07T19:49:04.778625Z",
     "start_time": "2018-12-07T19:49:04.472646Z"
    },
    "scrolled": true
   },
   "outputs": [
    {
     "data": {
      "text/plain": [
       "942"
      ]
     },
     "execution_count": 22,
     "metadata": {},
     "output_type": "execute_result"
    },
    {
     "data": {
      "text/plain": [
       "'2013-01-01'"
      ]
     },
     "execution_count": 22,
     "metadata": {},
     "output_type": "execute_result"
    },
    {
     "data": {
      "text/plain": [
       "'2015-07-31'"
      ]
     },
     "execution_count": 22,
     "metadata": {},
     "output_type": "execute_result"
    },
    {
     "data": {
      "text/plain": [
       "'2015-08-01'"
      ]
     },
     "execution_count": 22,
     "metadata": {},
     "output_type": "execute_result"
    },
    {
     "data": {
      "text/plain": [
       "'2015-09-17'"
      ]
     },
     "execution_count": 22,
     "metadata": {},
     "output_type": "execute_result"
    }
   ],
   "source": [
    "len(train.Date.value_counts()) # 942 days store sales for train data and 48 days for test data \n",
    "(train.Date.min())#time start for train data \n",
    "(train.Date.max())#time end for train data \n",
    "(test.Date.min())#time start for test data \n",
    "(test.Date.max())# time end for test data "
   ]
  },
  {
   "cell_type": "markdown",
   "metadata": {},
   "source": [
    "### DayOfWeek and Sales "
   ]
  },
  {
   "cell_type": "code",
   "execution_count": 11,
   "metadata": {
    "ExecuteTime": {
     "end_time": "2018-12-11T18:59:39.434760Z",
     "start_time": "2018-12-11T18:59:19.502114Z"
    }
   },
   "outputs": [
    {
     "data": {
      "text/plain": [
       "Text(0.5,1,'Mean Sales of Dayofweek')"
      ]
     },
     "execution_count": 11,
     "metadata": {},
     "output_type": "execute_result"
    },
    {
     "data": {
      "image/png": "[encoded data removed]",
      "text/plain": [
       "<Figure size 504x360 with 1 Axes>"
      ]
     },
     "metadata": {},
     "output_type": "display_data"
    }
   ],
   "source": [
    "fig, ax = plt.subplots(1, 1, figsize=(7,5))\n",
    "sns.barplot(x='DayOfWeek', y='Sales', data=train.query('Open==1'), ax=ax).set_title(\"Mean Sales of Dayofweek\")"
   ]
  },
  {
   "cell_type": "code",
   "execution_count": 12,
   "metadata": {
    "ExecuteTime": {
     "end_time": "2018-12-11T19:00:17.915122Z",
     "start_time": "2018-12-11T18:59:39.902464Z"
    }
   },
   "outputs": [
    {
     "data": {
      "text/plain": [
       "Text(0.5,1,'Mean of Sales on DayOfWeek')"
      ]
     },
     "execution_count": 12,
     "metadata": {},
     "output_type": "execute_result"
    },
    {
     "data": {
      "text/plain": [
       "Text(0.5,1,'Mean of Customers on DayOfWeek')"
      ]
     },
     "execution_count": 12,
     "metadata": {},
     "output_type": "execute_result"
    },
    {
     "data": {
      "text/plain": [
       "Text(0.5,1,'Mean of SalesPerCustomer on DayOfWeek')"
      ]
     },
     "execution_count": 12,
     "metadata": {},
     "output_type": "execute_result"
    },
    {
     "data": {
      "image/png": "[encoded data removed]",
      "text/plain": [
       "<Figure size 1512x360 with 3 Axes>"
      ]
     },
     "metadata": {},
     "output_type": "display_data"
    }
   ],
   "source": [
    "# mean of Sales,Customers,SalesPerCustomer on DayOfWeek(Only the open==1 is calculated)\n",
    "fig,(axis1,axis2, axis3)=plt.subplots(1,3,figsize=(21,5))\n",
    "sns.barplot(x='DayOfWeek',y='Sales',data=train.loc[train.Open==1],order=[1,2,3,4,5,6,7],ax=axis1).set_title(\"Mean of Sales on DayOfWeek\")\n",
    "sns.barplot(x='DayOfWeek',y='Customers',data=train.loc[train.Open==1],order=[1,2,3,4,5,6,7],ax=axis2).set_title(\"Mean of Customers on DayOfWeek\")\n",
    "\n",
    "#calc the SalesPerCustomer\n",
    "temp=(train.loc[train.Open==1])[['Sales','Customers','DayOfWeek']].groupby('DayOfWeek').sum()\n",
    "temp['SalesPerCustomer']=temp['Sales']/temp['Customers']\n",
    "sns.barplot(x=temp.index,y='SalesPerCustomer',data=temp,order=[1,2,3,4,5,6,7],ax=axis3).set_title(\"Mean of SalesPerCustomer on DayOfWeek\")\n",
    "\n",
    "# temp=(train.loc[train.Open==1])[['Sales','Customers','StoreType']].groupby('StoreType').sum()\n",
    "# temp['SalesPerCustomer']=temp['Sales']/temp['Customers']\n",
    "# sns.barplot(x=temp.index,y='SalesPerCustomer',data=temp,order=['a', 'b', 'c', 'd'],ax=ax4).set_title(\"Mean of SalesPerCustomer on StoreType\")"
   ]
  },
  {
   "cell_type": "markdown",
   "metadata": {},
   "source": [
    "### Sales,Customers on Promo"
   ]
  },
  {
   "cell_type": "code",
   "execution_count": 13,
   "metadata": {
    "ExecuteTime": {
     "end_time": "2018-12-11T19:00:39.481437Z",
     "start_time": "2018-12-11T19:00:18.390456Z"
    }
   },
   "outputs": [
    {
     "data": {
      "text/plain": [
       "Text(0.5,1,'Mean of Sales on Promo')"
      ]
     },
     "execution_count": 13,
     "metadata": {},
     "output_type": "execute_result"
    },
    {
     "data": {
      "text/plain": [
       "Text(0.5,1,'Mean of Customers on Promo')"
      ]
     },
     "execution_count": 13,
     "metadata": {},
     "output_type": "execute_result"
    },
    {
     "data": {
      "image/png": "[encoded data removed]",
      "text/plain": [
       "<Figure size 1008x360 with 2 Axes>"
      ]
     },
     "metadata": {},
     "output_type": "display_data"
    }
   ],
   "source": [
    "# Sales,Customers on Promo vs Non-Promo\n",
    "fig,(ax1, ax2)=plt.subplots(1,2,figsize=(14,5))\n",
    "sns.barplot(x='Promo',y='Sales',data=train[train.Open==1],ax=ax1).set_title(\"Mean of Sales on Promo\")\n",
    "sns.barplot(x='Promo',y='Customers',data=train[train.Open==1],ax=ax2).set_title(\"Mean of Customers on Promo\")"
   ]
  },
  {
   "cell_type": "markdown",
   "metadata": {},
   "source": [
    "### Count of StateHoliday & Average Sales/Customers of StateHoliday "
   ]
  },
  {
   "cell_type": "code",
   "execution_count": 14,
   "metadata": {
    "ExecuteTime": {
     "end_time": "2018-12-11T19:01:03.372540Z",
     "start_time": "2018-12-11T19:00:39.962256Z"
    }
   },
   "outputs": [
    {
     "data": {
      "text/plain": [
       "Text(0.5,1,'Count of Stateholiday')"
      ]
     },
     "execution_count": 14,
     "metadata": {},
     "output_type": "execute_result"
    },
    {
     "data": {
      "text/plain": [
       "Text(0.5,1,'Mean Sales of Stateholiday')"
      ]
     },
     "execution_count": 14,
     "metadata": {},
     "output_type": "execute_result"
    },
    {
     "data": {
      "text/plain": [
       "Text(0.5,1,'Mean Customers of Stateholiday')"
      ]
     },
     "execution_count": 14,
     "metadata": {},
     "output_type": "execute_result"
    },
    {
     "data": {
      "image/png": "[encoded data removed]",
      "text/plain": [
       "<Figure size 1512x360 with 3 Axes>"
      ]
     },
     "metadata": {},
     "output_type": "display_data"
    }
   ],
   "source": [
    "fig, (ax1, ax2, ax3 )= plt.subplots(1,3, figsize=(21, 5))\n",
    "sns.countplot(x='StateHoliday', data=train, ax=ax1).set_title('Count of Stateholiday')\n",
    "sns.barplot(x='StateHoliday', y='Sales', data=train[train.Open==1], ax=ax2).set_title('Mean Sales of Stateholiday')\n",
    "sns.barplot(x='StateHoliday', y='Customers', data=train[train.Open==1], ax=ax3).set_title('Mean Customers of Stateholiday')"
   ]
  },
  {
   "cell_type": "markdown",
   "metadata": {},
   "source": [
    "### Count of SchoolHoliday & Average Sales/Customers of SchoolHoliday "
   ]
  },
  {
   "cell_type": "code",
   "execution_count": 15,
   "metadata": {
    "ExecuteTime": {
     "end_time": "2018-12-11T19:01:34.460072Z",
     "start_time": "2018-12-11T19:01:03.850391Z"
    }
   },
   "outputs": [
    {
     "data": {
      "text/plain": [
       "Text(0.5,1,'Count of Schoolholiday')"
      ]
     },
     "execution_count": 15,
     "metadata": {},
     "output_type": "execute_result"
    },
    {
     "data": {
      "text/plain": [
       "Text(0.5,1,'Mean Sales of Schoolholiday')"
      ]
     },
     "execution_count": 15,
     "metadata": {},
     "output_type": "execute_result"
    },
    {
     "data": {
      "text/plain": [
       "Text(0.5,1,'Mean Customers of Schoolholiday')"
      ]
     },
     "execution_count": 15,
     "metadata": {},
     "output_type": "execute_result"
    },
    {
     "data": {
      "image/png": "[encoded data removed]",
      "text/plain": [
       "<Figure size 1512x360 with 3 Axes>"
      ]
     },
     "metadata": {},
     "output_type": "display_data"
    }
   ],
   "source": [
    "fig, (ax1, ax2, ax3 )= plt.subplots(1,3, figsize=(21, 5))\n",
    "sns.countplot(x='SchoolHoliday', data=train, ax=ax1).set_title('Count of Schoolholiday')\n",
    "sns.barplot(x='SchoolHoliday', y='Sales', data=train[train.Open==1], ax=ax2).set_title('Mean Sales of Schoolholiday')\n",
    "sns.barplot(x='SchoolHoliday', y='Customers', data=train[train.Open==1], ax=ax3).set_title('Mean Customers of Schoolholiday')"
   ]
  },
  {
   "cell_type": "markdown",
   "metadata": {},
   "source": [
    "### Sales/Customers distribution "
   ]
  },
  {
   "cell_type": "code",
   "execution_count": 20,
   "metadata": {
    "ExecuteTime": {
     "end_time": "2018-12-11T19:01:44.590159Z",
     "start_time": "2018-12-11T19:01:44.582090Z"
    },
    "collapsed": true
   },
   "outputs": [],
   "source": [
    "train['Saleslog']=np.log1p(train.Sales)"
   ]
  },
  {
   "cell_type": "code",
   "execution_count": 24,
   "metadata": {
    "ExecuteTime": {
     "end_time": "2018-12-11T19:02:50.339384Z",
     "start_time": "2018-12-11T19:02:49.343838Z"
    }
   },
   "outputs": [
    {
     "data": {
      "image/png": "[encoded data removed]",
      "text/plain": [
       "<Figure size 864x360 with 2 Axes>"
      ]
     },
     "metadata": {},
     "output_type": "display_data"
    }
   ],
   "source": [
    "fig,( ax1, ax2)= plt.subplots(1,2, figsize=(12,5))\n",
    "_ = train.Sales.plot(kind='hist', bins=60,xlim=(0, 20000), title='Sales Distribtion',ax=ax1)\n",
    "_ = train.Customers.plot(kind='hist', bins=60, xlim=(0, 3000), title='Customers Distribtion', ax=ax2)"
   ]
  },
  {
   "cell_type": "code",
   "execution_count": 25,
   "metadata": {
    "ExecuteTime": {
     "end_time": "2018-12-11T19:02:53.157043Z",
     "start_time": "2018-12-11T19:02:52.745781Z"
    }
   },
   "outputs": [
    {
     "data": {
      "image/png": "[encoded data removed]",
      "text/plain": [
       "<Figure size 504x360 with 1 Axes>"
      ]
     },
     "metadata": {},
     "output_type": "display_data"
    }
   ],
   "source": [
    "fig,( ax1 )= plt.subplots(1, figsize=(7,5))\n",
    "_ = train.Saleslog[train.Saleslog>0].plot(kind='hist', bins=60,xlim=(6.5, 10.5), title='Log Sales Distribtion',ax=ax1)"
   ]
  },
  {
   "cell_type": "markdown",
   "metadata": {},
   "source": [
    "### Sales Changing with Time "
   ]
  },
  {
   "cell_type": "code",
   "execution_count": 24,
   "metadata": {
    "ExecuteTime": {
     "end_time": "2018-12-07T19:54:14.843254Z",
     "start_time": "2018-12-07T19:54:14.486029Z"
    },
    "collapsed": true
   },
   "outputs": [],
   "source": [
    "train.Date=pd.to_datetime(train.Date)\n",
    "train['Month']=train.Date.dt.month\n",
    "train['Year'] = train.Date.dt.year"
   ]
  },
  {
   "cell_type": "code",
   "execution_count": 26,
   "metadata": {
    "ExecuteTime": {
     "end_time": "2018-12-11T19:03:12.198346Z",
     "start_time": "2018-12-11T19:03:11.096845Z"
    }
   },
   "outputs": [
    {
     "data": {
      "image/png": "[encoded data removed]",
      "text/plain": [
       "<Figure size 504x720 with 2 Axes>"
      ]
     },
     "metadata": {},
     "output_type": "display_data"
    }
   ],
   "source": [
    "fig, (ax1, ax2)= plt.subplots(2, 1, figsize=(7,10), sharex=True)\n",
    "average_sales = train.query('Open==1').groupby(['Year','Month'])['Sales'].mean()\n",
    "pct_change_sales = train.query('Open==1').groupby(['Year','Month'])['Sales'].sum().pct_change()\n",
    "\n",
    "_ = average_sales.plot(legend=True, ax=ax1,  marker='o', title='Average Sales per Month')\n",
    "_ = _.set_xticks(range(len(average_sales)))\n",
    "_ =pct_change_sales.plot(ax=ax2, marker='o',rot=90,colormap='summer',title='Sum Sales Percent Change per Month')"
   ]
  },
  {
   "cell_type": "markdown",
   "metadata": {},
   "source": [
    "### StoreType: count & average sales/customers"
   ]
  },
  {
   "cell_type": "code",
   "execution_count": 28,
   "metadata": {
    "ExecuteTime": {
     "end_time": "2018-12-11T19:04:04.072853Z",
     "start_time": "2018-12-11T19:03:45.784784Z"
    }
   },
   "outputs": [
    {
     "data": {
      "image/png": "[encoded data removed]",
      "text/plain": [
       "<Figure size 1512x360 with 3 Axes>"
      ]
     },
     "metadata": {},
     "output_type": "display_data"
    }
   ],
   "source": [
    "fig, (ax1, ax2, ax3)=plt.subplots(1,3, figsize=(21,5))\n",
    "_ = sns.countplot(x='StoreType', data=train, order=['a','b','c','d'],ax=ax1)\n",
    "_ = sns.barplot(x='StoreType', y='Sales', data=train[train['Open']==1], order=['a','b','c','d'], ax=ax2)\n",
    "_ = sns.barplot(x='StoreType', y='Customers', data=train[train['Open']==1], order=['a','b','c','d'], ax=ax3)"
   ]
  },
  {
   "cell_type": "markdown",
   "metadata": {
    "collapsed": true
   },
   "source": [
    "### Assortment: count & average sales/customers"
   ]
  },
  {
   "cell_type": "code",
   "execution_count": 29,
   "metadata": {
    "ExecuteTime": {
     "end_time": "2018-12-11T19:04:27.518324Z",
     "start_time": "2018-12-11T19:04:04.626653Z"
    }
   },
   "outputs": [
    {
     "data": {
      "image/png": "[encoded data removed]",
      "text/plain": [
       "<Figure size 1512x360 with 3 Axes>"
      ]
     },
     "metadata": {},
     "output_type": "display_data"
    }
   ],
   "source": [
    "fig, (ax1, ax2, ax3) = plt.subplots(1, 3, figsize=(21,5))\n",
    "_ = sns.countplot(x='Assortment', data=train.query('Open==1'), order=['a', 'b', 'c'], ax=ax1).set_title('Store Count on Assortment')\n",
    "_ = sns.barplot(x='Assortment', y='Sales', data=train.query('Open==1'), order=['a', 'b', 'c'], ax=ax2).set_title('Store Sales on Assortment')\n",
    "_ = sns.barplot(x='Assortment', y='Customers', data=train.query('Open==1'), order=['a', 'b', 'c'], ax=ax3).set_title('Store Customers on Assortment')"
   ]
  },
  {
   "cell_type": "markdown",
   "metadata": {},
   "source": [
    "### Competition Distance"
   ]
  },
  {
   "cell_type": "code",
   "execution_count": 30,
   "metadata": {
    "ExecuteTime": {
     "end_time": "2018-12-11T19:04:28.218202Z",
     "start_time": "2018-12-11T19:04:27.980897Z"
    },
    "collapsed": true
   },
   "outputs": [],
   "source": [
    "tmp = train.loc[train.Open==1, ['Sales', 'Store', 'CompetitionDistance']].groupby('Store').mean()"
   ]
  },
  {
   "cell_type": "code",
   "execution_count": 31,
   "metadata": {
    "ExecuteTime": {
     "end_time": "2018-12-11T19:06:06.427042Z",
     "start_time": "2018-12-11T19:06:06.235119Z"
    }
   },
   "outputs": [
    {
     "data": {
      "text/plain": [
       "Text(0.5,1,'Scatter of Sales and CompetitionDistance')"
      ]
     },
     "execution_count": 31,
     "metadata": {},
     "output_type": "execute_result"
    },
    {
     "data": {
      "image/png": "[encoded data removed]",
      "text/plain": [
       "<Figure size 504x360 with 1 Axes>"
      ]
     },
     "metadata": {},
     "output_type": "display_data"
    }
   ],
   "source": [
    "tmp.plot(kind='scatter', x='CompetitionDistance', y='Sales', figsize=(7,5)).set_title('Scatter of Sales and CompetitionDistance')"
   ]
  },
  {
   "cell_type": "markdown",
   "metadata": {
    "ExecuteTime": {
     "end_time": "2018-05-09T04:58:24.560253Z",
     "start_time": "2018-05-09T04:58:24.556242Z"
    }
   },
   "source": [
    "### the Competition's effect on Sales"
   ]
  },
  {
   "cell_type": "code",
   "execution_count": 32,
   "metadata": {
    "ExecuteTime": {
     "end_time": "2018-12-11T19:06:26.706877Z",
     "start_time": "2018-12-11T19:06:26.667737Z"
    },
    "collapsed": true
   },
   "outputs": [],
   "source": [
    "# select samples having a competition\n",
    "tmp = train.loc[(train.CompetitionOpenSinceMonth>=train.Month)&(train.CompetitionOpenSinceYear>=train.Year),:]"
   ]
  },
  {
   "cell_type": "code",
   "execution_count": 33,
   "metadata": {
    "ExecuteTime": {
     "end_time": "2018-12-11T19:06:27.379085Z",
     "start_time": "2018-12-11T19:06:27.375670Z"
    },
    "collapsed": true
   },
   "outputs": [],
   "source": [
    "# random choose a store and look at the differenct sales before and after competition\n",
    "store_num = np.random.choice(tmp.Store.unique().tolist(),1)"
   ]
  },
  {
   "cell_type": "code",
   "execution_count": 34,
   "metadata": {
    "ExecuteTime": {
     "end_time": "2018-12-11T19:06:27.875865Z",
     "start_time": "2018-12-11T19:06:27.850857Z"
    },
    "collapsed": true
   },
   "outputs": [],
   "source": [
    "store_data_mean = train.loc[(train.Store==int(store_num))&(train.Open==1),:].groupby(['Year', 'Month']).mean()['Sales']\n",
    "store_data_sum = train.loc[(train.Store==int(store_num))&(train.Open==1),:].groupby(['Year', 'Month']).sum()['Sales']"
   ]
  },
  {
   "cell_type": "code",
   "execution_count": 35,
   "metadata": {
    "ExecuteTime": {
     "end_time": "2018-12-11T19:06:28.408353Z",
     "start_time": "2018-12-11T19:06:28.383810Z"
    }
   },
   "outputs": [
    {
     "name": "stdout",
     "output_type": "stream",
     "text": [
      "2013 9\n"
     ]
    }
   ],
   "source": [
    "y = int(train.loc[(train.Store==int(store_num))&(train.Open==1),:].groupby(['Year', 'Month']).mean().CompetitionOpenSinceYear.unique())\n",
    "m = int(train.loc[(train.Store==int(store_num))&(train.Open==1),:].groupby(['Year', 'Month']).mean().CompetitionOpenSinceMonth.unique())\n",
    "print(y,m)"
   ]
  },
  {
   "cell_type": "code",
   "execution_count": 36,
   "metadata": {
    "ExecuteTime": {
     "end_time": "2018-12-11T19:06:30.172871Z",
     "start_time": "2018-12-11T19:06:30.163428Z"
    },
    "collapsed": true
   },
   "outputs": [],
   "source": [
    "store_data  = train.loc[(train.Store==int(store_num))&(train.Open==1)]"
   ]
  },
  {
   "cell_type": "code",
   "execution_count": 37,
   "metadata": {
    "ExecuteTime": {
     "end_time": "2018-12-11T19:06:32.102347Z",
     "start_time": "2018-12-11T19:06:31.074961Z"
    }
   },
   "outputs": [
    {
     "data": {
      "image/png": "[encoded data removed]",
      "text/plain": [
       "<Figure size 504x360 with 1 Axes>"
      ]
     },
     "metadata": {},
     "output_type": "display_data"
    },
    {
     "data": {
      "image/png": "[encoded data removed]",
      "text/plain": [
       "<Figure size 504x360 with 1 Axes>"
      ]
     },
     "metadata": {},
     "output_type": "display_data"
    }
   ],
   "source": [
    "# fig, (ax1, ax2)=plt.subplots(2,1, figsize=(15,8), sharex=True)\n",
    "_ = plt.axvline(x=(y-2013)*12+(m-1),linewidth=5,color='red')\n",
    "\n",
    "_ = store_data_mean.plot(marker='o', figsize=(7,5), legend=True, rot=90,\n",
    "                                       title='Competition effect on Sales on Store {}'.format(int(store_num)))\n",
    "x = ax.set_xticks((range(len(store_data.index.tolist()))))\n",
    "_ = plt.show()\n",
    "_ = plt.axvline(x=(y-2013)*12+(m-1),linewidth=5,color='red')\n",
    "\n",
    "_ = store_data_sum.plot(marker='o', figsize=(7,5), legend=True, rot=90,\n",
    "                                       title='Competition effect on Sum Sales on Store {}'.format(int(store_num)))\n",
    "# _ = plt.show()"
   ]
  },
  {
   "cell_type": "markdown",
   "metadata": {},
   "source": [
    "### Sales/Customers on Promo2"
   ]
  },
  {
   "cell_type": "code",
   "execution_count": 38,
   "metadata": {
    "ExecuteTime": {
     "end_time": "2018-12-11T19:06:49.227358Z",
     "start_time": "2018-12-11T19:06:39.243367Z"
    }
   },
   "outputs": [
    {
     "data": {
      "text/plain": [
       "<matplotlib.axes._subplots.AxesSubplot at 0x2ae50059d828>"
      ]
     },
     "execution_count": 38,
     "metadata": {},
     "output_type": "execute_result"
    },
    {
     "data": {
      "image/png": "[encoded data removed]",
      "text/plain": [
       "<Figure size 504x360 with 1 Axes>"
      ]
     },
     "metadata": {},
     "output_type": "display_data"
    }
   ],
   "source": [
    "fig, ax = plt.subplots(figsize=(7, 5))\n",
    "sns.barplot(x='Promo', y='Sales', data=train.query(\"Open==1\"))"
   ]
  },
  {
   "cell_type": "code",
   "execution_count": 39,
   "metadata": {
    "ExecuteTime": {
     "end_time": "2018-12-11T19:06:55.481300Z",
     "start_time": "2018-12-11T19:06:49.859418Z"
    },
    "scrolled": false
   },
   "outputs": [
    {
     "data": {
      "text/plain": [
       "<matplotlib.axes._subplots.AxesSubplot at 0x2ae5005bcda0>"
      ]
     },
     "execution_count": 39,
     "metadata": {},
     "output_type": "execute_result"
    },
    {
     "data": {
      "image/png": "[encoded data removed]",
      "text/plain": [
       "<Figure size 504x360 with 1 Axes>"
      ]
     },
     "metadata": {},
     "output_type": "display_data"
    }
   ],
   "source": [
    "fig, ax = plt.subplots(figsize=(7, 5))\n",
    "sns.barplot(x='PromoInterval', y='Sales', data=train.query(\"Open==1\"))"
   ]
  },
  {
   "cell_type": "markdown",
   "metadata": {},
   "source": [
    "## Data Preprocessing"
   ]
  },
  {
   "cell_type": "code",
   "execution_count": 41,
   "metadata": {
    "ExecuteTime": {
     "end_time": "2018-12-11T19:49:28.641084Z",
     "start_time": "2018-12-11T19:49:27.699443Z"
    },
    "collapsed": true
   },
   "outputs": [],
   "source": [
    "#reread data\n",
    "train = pd.read_csv('./input/train.csv',dtype={'StateHoliday':object}) \n",
    "store =  pd.read_csv('./input/store.csv')\n",
    "test = pd.read_csv('./input/test.csv')"
   ]
  },
  {
   "cell_type": "code",
   "execution_count": 42,
   "metadata": {
    "ExecuteTime": {
     "end_time": "2018-12-11T19:49:29.527192Z",
     "start_time": "2018-12-11T19:49:29.253370Z"
    },
    "scrolled": false
   },
   "outputs": [
    {
     "data": {
      "text/plain": [
       "Store            0\n",
       "DayOfWeek        0\n",
       "Date             0\n",
       "Sales            0\n",
       "Customers        0\n",
       "Open             0\n",
       "Promo            0\n",
       "StateHoliday     0\n",
       "SchoolHoliday    0\n",
       "dtype: int64"
      ]
     },
     "execution_count": 42,
     "metadata": {},
     "output_type": "execute_result"
    },
    {
     "data": {
      "text/plain": [
       "Store                          0\n",
       "StoreType                      0\n",
       "Assortment                     0\n",
       "CompetitionDistance            3\n",
       "CompetitionOpenSinceMonth    354\n",
       "CompetitionOpenSinceYear     354\n",
       "Promo2                         0\n",
       "Promo2SinceWeek              544\n",
       "Promo2SinceYear              544\n",
       "PromoInterval                544\n",
       "dtype: int64"
      ]
     },
     "execution_count": 42,
     "metadata": {},
     "output_type": "execute_result"
    },
    {
     "data": {
      "text/plain": [
       "Id                0\n",
       "Store             0\n",
       "DayOfWeek         0\n",
       "Date              0\n",
       "Open             11\n",
       "Promo             0\n",
       "StateHoliday      0\n",
       "SchoolHoliday     0\n",
       "dtype: int64"
      ]
     },
     "execution_count": 42,
     "metadata": {},
     "output_type": "execute_result"
    }
   ],
   "source": [
    "# count null features\n",
    "train.isnull().sum()\n",
    "store.isnull().sum()\n",
    "test.isnull().sum()"
   ]
  },
  {
   "cell_type": "code",
   "execution_count": 43,
   "metadata": {
    "ExecuteTime": {
     "end_time": "2018-12-11T19:49:32.507514Z",
     "start_time": "2018-12-11T19:49:32.413712Z"
    }
   },
   "outputs": [
    {
     "data": {
      "text/html": [
       "<div>\n",
       "<style scoped>\n",
       "    .dataframe tbody tr th:only-of-type {\n",
       "        vertical-align: middle;\n",
       "    }\n",
       "\n",
       "    .dataframe tbody tr th {\n",
       "        vertical-align: top;\n",
       "    }\n",
       "\n",
       "    .dataframe thead th {\n",
       "        text-align: right;\n",
       "    }\n",
       "</style>\n",
       "<table border=\"1\" class=\"dataframe\">\n",
       "  <thead>\n",
       "    <tr style=\"text-align: right;\">\n",
       "      <th></th>\n",
       "      <th>Id</th>\n",
       "      <th>Store</th>\n",
       "      <th>DayOfWeek</th>\n",
       "      <th>Date</th>\n",
       "      <th>Open</th>\n",
       "      <th>Promo</th>\n",
       "      <th>StateHoliday</th>\n",
       "      <th>SchoolHoliday</th>\n",
       "    </tr>\n",
       "  </thead>\n",
       "  <tbody>\n",
       "    <tr>\n",
       "      <th>479</th>\n",
       "      <td>480</td>\n",
       "      <td>622</td>\n",
       "      <td>4</td>\n",
       "      <td>2015-09-17</td>\n",
       "      <td>NaN</td>\n",
       "      <td>1</td>\n",
       "      <td>0</td>\n",
       "      <td>0</td>\n",
       "    </tr>\n",
       "    <tr>\n",
       "      <th>1335</th>\n",
       "      <td>1336</td>\n",
       "      <td>622</td>\n",
       "      <td>3</td>\n",
       "      <td>2015-09-16</td>\n",
       "      <td>NaN</td>\n",
       "      <td>1</td>\n",
       "      <td>0</td>\n",
       "      <td>0</td>\n",
       "    </tr>\n",
       "    <tr>\n",
       "      <th>2191</th>\n",
       "      <td>2192</td>\n",
       "      <td>622</td>\n",
       "      <td>2</td>\n",
       "      <td>2015-09-15</td>\n",
       "      <td>NaN</td>\n",
       "      <td>1</td>\n",
       "      <td>0</td>\n",
       "      <td>0</td>\n",
       "    </tr>\n",
       "    <tr>\n",
       "      <th>3047</th>\n",
       "      <td>3048</td>\n",
       "      <td>622</td>\n",
       "      <td>1</td>\n",
       "      <td>2015-09-14</td>\n",
       "      <td>NaN</td>\n",
       "      <td>1</td>\n",
       "      <td>0</td>\n",
       "      <td>0</td>\n",
       "    </tr>\n",
       "    <tr>\n",
       "      <th>4759</th>\n",
       "      <td>4760</td>\n",
       "      <td>622</td>\n",
       "      <td>6</td>\n",
       "      <td>2015-09-12</td>\n",
       "      <td>NaN</td>\n",
       "      <td>0</td>\n",
       "      <td>0</td>\n",
       "      <td>0</td>\n",
       "    </tr>\n",
       "    <tr>\n",
       "      <th>5615</th>\n",
       "      <td>5616</td>\n",
       "      <td>622</td>\n",
       "      <td>5</td>\n",
       "      <td>2015-09-11</td>\n",
       "      <td>NaN</td>\n",
       "      <td>0</td>\n",
       "      <td>0</td>\n",
       "      <td>0</td>\n",
       "    </tr>\n",
       "    <tr>\n",
       "      <th>6471</th>\n",
       "      <td>6472</td>\n",
       "      <td>622</td>\n",
       "      <td>4</td>\n",
       "      <td>2015-09-10</td>\n",
       "      <td>NaN</td>\n",
       "      <td>0</td>\n",
       "      <td>0</td>\n",
       "      <td>0</td>\n",
       "    </tr>\n",
       "    <tr>\n",
       "      <th>7327</th>\n",
       "      <td>7328</td>\n",
       "      <td>622</td>\n",
       "      <td>3</td>\n",
       "      <td>2015-09-09</td>\n",
       "      <td>NaN</td>\n",
       "      <td>0</td>\n",
       "      <td>0</td>\n",
       "      <td>0</td>\n",
       "    </tr>\n",
       "    <tr>\n",
       "      <th>8183</th>\n",
       "      <td>8184</td>\n",
       "      <td>622</td>\n",
       "      <td>2</td>\n",
       "      <td>2015-09-08</td>\n",
       "      <td>NaN</td>\n",
       "      <td>0</td>\n",
       "      <td>0</td>\n",
       "      <td>0</td>\n",
       "    </tr>\n",
       "    <tr>\n",
       "      <th>9039</th>\n",
       "      <td>9040</td>\n",
       "      <td>622</td>\n",
       "      <td>1</td>\n",
       "      <td>2015-09-07</td>\n",
       "      <td>NaN</td>\n",
       "      <td>0</td>\n",
       "      <td>0</td>\n",
       "      <td>0</td>\n",
       "    </tr>\n",
       "    <tr>\n",
       "      <th>10751</th>\n",
       "      <td>10752</td>\n",
       "      <td>622</td>\n",
       "      <td>6</td>\n",
       "      <td>2015-09-05</td>\n",
       "      <td>NaN</td>\n",
       "      <td>0</td>\n",
       "      <td>0</td>\n",
       "      <td>0</td>\n",
       "    </tr>\n",
       "  </tbody>\n",
       "</table>\n",
       "</div>"
      ],
      "text/plain": [
       "          Id  Store  DayOfWeek        Date  Open  Promo StateHoliday  SchoolHoliday\n",
       "479      480    622          4  2015-09-17   NaN      1            0              0\n",
       "1335    1336    622          3  2015-09-16   NaN      1            0              0\n",
       "2191    2192    622          2  2015-09-15   NaN      1            0              0\n",
       "3047    3048    622          1  2015-09-14   NaN      1            0              0\n",
       "4759    4760    622          6  2015-09-12   NaN      0            0              0\n",
       "5615    5616    622          5  2015-09-11   NaN      0            0              0\n",
       "6471    6472    622          4  2015-09-10   NaN      0            0              0\n",
       "7327    7328    622          3  2015-09-09   NaN      0            0              0\n",
       "8183    8184    622          2  2015-09-08   NaN      0            0              0\n",
       "9039    9040    622          1  2015-09-07   NaN      0            0              0\n",
       "10751  10752    622          6  2015-09-05   NaN      0            0              0"
      ]
     },
     "execution_count": 43,
     "metadata": {},
     "output_type": "execute_result"
    }
   ],
   "source": [
    "# Only missing data for test data is the store number 622.\n",
    "# Data of store num 622 should be 0 based on the page description \n",
    "# page: https://www.kaggle.com/c/rossmann-store-sales/discussion/17048#96969\n",
    "test[test.Open.isnull()]\n",
    "test.fillna(0, inplace=True)"
   ]
  },
  {
   "cell_type": "code",
   "execution_count": 44,
   "metadata": {
    "ExecuteTime": {
     "end_time": "2018-12-11T19:49:34.904205Z",
     "start_time": "2018-12-11T19:49:34.899451Z"
    },
    "collapsed": true
   },
   "outputs": [],
   "source": [
    "#for all attributes, missing values are about Promo\n",
    "# it means that no promo and all attributes should be set to 0.\n",
    "store['Promo2SinceWeek'].fillna(0,inplace=True)\n",
    "store['Promo2SinceYear'].fillna(0,inplace=True)\n",
    "store['PromoInterval'].fillna(0,inplace=True)"
   ]
  },
  {
   "cell_type": "code",
   "execution_count": 45,
   "metadata": {
    "ExecuteTime": {
     "end_time": "2018-12-11T19:49:35.571801Z",
     "start_time": "2018-12-11T19:49:35.565341Z"
    },
    "scrolled": true
   },
   "outputs": [
    {
     "data": {
      "text/plain": [
       "Store                          0\n",
       "StoreType                      0\n",
       "Assortment                     0\n",
       "CompetitionDistance            3\n",
       "CompetitionOpenSinceMonth    354\n",
       "CompetitionOpenSinceYear     354\n",
       "Promo2                         0\n",
       "Promo2SinceWeek                0\n",
       "Promo2SinceYear                0\n",
       "PromoInterval                  0\n",
       "dtype: int64"
      ]
     },
     "execution_count": 45,
     "metadata": {},
     "output_type": "execute_result"
    }
   ],
   "source": [
    "store.isnull().sum()"
   ]
  },
  {
   "cell_type": "code",
   "execution_count": 18,
   "metadata": {
    "ExecuteTime": {
     "end_time": "2018-11-29T18:47:43.049465Z",
     "start_time": "2018-11-29T18:47:43.045011Z"
    },
    "collapsed": true
   },
   "outputs": [],
   "source": [
    "store.fillna(0, inplace=True) # to represent missing value by using 0"
   ]
  },
  {
   "cell_type": "code",
   "execution_count": 19,
   "metadata": {
    "ExecuteTime": {
     "end_time": "2018-11-29T18:47:45.837687Z",
     "start_time": "2018-11-29T18:47:45.749912Z"
    },
    "collapsed": true
   },
   "outputs": [],
   "source": [
    "# only choose data when feature Open is 1 for test data\n",
    "# for train data, the value of sales over than 0 will be chosen.\n",
    "test = test[test.Open==1]\n",
    "train = train[train.Sales>1]"
   ]
  },
  {
   "cell_type": "markdown",
   "metadata": {},
   "source": [
    "## Feature Engineering"
   ]
  },
  {
   "cell_type": "code",
   "execution_count": 21,
   "metadata": {
    "ExecuteTime": {
     "end_time": "2018-11-29T18:48:13.239219Z",
     "start_time": "2018-11-29T18:48:12.989794Z"
    },
    "code_folding": [],
    "scrolled": true
   },
   "outputs": [
    {
     "name": "stderr",
     "output_type": "stream",
     "text": [
      "/software/anaconda3/5.2.0/lib/python3.6/site-packages/ipykernel/__main__.py:5: FutureWarning: Sorting because non-concatenation axis is not aligned. A future version\n",
      "of pandas will change to not sort by default.\n",
      "\n",
      "To accept the future behavior, pass 'sort=True'.\n",
      "\n",
      "To retain the current behavior and silence the warning, pass sort=False\n",
      "\n"
     ]
    }
   ],
   "source": [
    "# combine train and test data so that they can dealt with together\n",
    "# create a feature set so that data can be easily split after feature engineering \n",
    "train['Set']=1\n",
    "test['Set']=0\n",
    "data = pd.concat([train, test])"
   ]
  },
  {
   "cell_type": "code",
   "execution_count": 22,
   "metadata": {
    "ExecuteTime": {
     "end_time": "2018-11-29T18:48:24.168808Z",
     "start_time": "2018-11-29T18:48:24.138688Z"
    }
   },
   "outputs": [
    {
     "data": {
      "text/plain": [
       "(844338, 10)"
      ]
     },
     "execution_count": 22,
     "metadata": {},
     "output_type": "execute_result"
    },
    {
     "data": {
      "text/plain": [
       "(35093, 9)"
      ]
     },
     "execution_count": 22,
     "metadata": {},
     "output_type": "execute_result"
    },
    {
     "data": {
      "text/plain": [
       "(879431, 11)"
      ]
     },
     "execution_count": 22,
     "metadata": {},
     "output_type": "execute_result"
    },
    {
     "data": {
      "text/html": [
       "<div>\n",
       "<style scoped>\n",
       "    .dataframe tbody tr th:only-of-type {\n",
       "        vertical-align: middle;\n",
       "    }\n",
       "\n",
       "    .dataframe tbody tr th {\n",
       "        vertical-align: top;\n",
       "    }\n",
       "\n",
       "    .dataframe thead th {\n",
       "        text-align: right;\n",
       "    }\n",
       "</style>\n",
       "<table border=\"1\" class=\"dataframe\">\n",
       "  <thead>\n",
       "    <tr style=\"text-align: right;\">\n",
       "      <th></th>\n",
       "      <th>Store</th>\n",
       "      <th>DayOfWeek</th>\n",
       "      <th>Date</th>\n",
       "      <th>Sales</th>\n",
       "      <th>Customers</th>\n",
       "      <th>Open</th>\n",
       "      <th>Promo</th>\n",
       "      <th>StateHoliday</th>\n",
       "      <th>SchoolHoliday</th>\n",
       "      <th>Set</th>\n",
       "    </tr>\n",
       "  </thead>\n",
       "  <tbody>\n",
       "    <tr>\n",
       "      <th>0</th>\n",
       "      <td>1</td>\n",
       "      <td>5</td>\n",
       "      <td>2015-07-31</td>\n",
       "      <td>5263</td>\n",
       "      <td>555</td>\n",
       "      <td>1</td>\n",
       "      <td>1</td>\n",
       "      <td>0</td>\n",
       "      <td>1</td>\n",
       "      <td>1</td>\n",
       "    </tr>\n",
       "    <tr>\n",
       "      <th>1</th>\n",
       "      <td>2</td>\n",
       "      <td>5</td>\n",
       "      <td>2015-07-31</td>\n",
       "      <td>6064</td>\n",
       "      <td>625</td>\n",
       "      <td>1</td>\n",
       "      <td>1</td>\n",
       "      <td>0</td>\n",
       "      <td>1</td>\n",
       "      <td>1</td>\n",
       "    </tr>\n",
       "    <tr>\n",
       "      <th>2</th>\n",
       "      <td>3</td>\n",
       "      <td>5</td>\n",
       "      <td>2015-07-31</td>\n",
       "      <td>8314</td>\n",
       "      <td>821</td>\n",
       "      <td>1</td>\n",
       "      <td>1</td>\n",
       "      <td>0</td>\n",
       "      <td>1</td>\n",
       "      <td>1</td>\n",
       "    </tr>\n",
       "  </tbody>\n",
       "</table>\n",
       "</div>"
      ],
      "text/plain": [
       "   Store  DayOfWeek        Date  Sales  Customers  Open  Promo StateHoliday  SchoolHoliday  Set\n",
       "0      1          5  2015-07-31   5263        555     1      1            0              1    1\n",
       "1      2          5  2015-07-31   6064        625     1      1            0              1    1\n",
       "2      3          5  2015-07-31   8314        821     1      1            0              1    1"
      ]
     },
     "execution_count": 22,
     "metadata": {},
     "output_type": "execute_result"
    },
    {
     "data": {
      "text/html": [
       "<div>\n",
       "<style scoped>\n",
       "    .dataframe tbody tr th:only-of-type {\n",
       "        vertical-align: middle;\n",
       "    }\n",
       "\n",
       "    .dataframe tbody tr th {\n",
       "        vertical-align: top;\n",
       "    }\n",
       "\n",
       "    .dataframe thead th {\n",
       "        text-align: right;\n",
       "    }\n",
       "</style>\n",
       "<table border=\"1\" class=\"dataframe\">\n",
       "  <thead>\n",
       "    <tr style=\"text-align: right;\">\n",
       "      <th></th>\n",
       "      <th>Id</th>\n",
       "      <th>Store</th>\n",
       "      <th>DayOfWeek</th>\n",
       "      <th>Date</th>\n",
       "      <th>Open</th>\n",
       "      <th>Promo</th>\n",
       "      <th>StateHoliday</th>\n",
       "      <th>SchoolHoliday</th>\n",
       "      <th>Set</th>\n",
       "    </tr>\n",
       "  </thead>\n",
       "  <tbody>\n",
       "    <tr>\n",
       "      <th>0</th>\n",
       "      <td>1</td>\n",
       "      <td>1</td>\n",
       "      <td>4</td>\n",
       "      <td>2015-09-17</td>\n",
       "      <td>1.0</td>\n",
       "      <td>1</td>\n",
       "      <td>0</td>\n",
       "      <td>0</td>\n",
       "      <td>0</td>\n",
       "    </tr>\n",
       "    <tr>\n",
       "      <th>1</th>\n",
       "      <td>2</td>\n",
       "      <td>3</td>\n",
       "      <td>4</td>\n",
       "      <td>2015-09-17</td>\n",
       "      <td>1.0</td>\n",
       "      <td>1</td>\n",
       "      <td>0</td>\n",
       "      <td>0</td>\n",
       "      <td>0</td>\n",
       "    </tr>\n",
       "    <tr>\n",
       "      <th>2</th>\n",
       "      <td>3</td>\n",
       "      <td>7</td>\n",
       "      <td>4</td>\n",
       "      <td>2015-09-17</td>\n",
       "      <td>1.0</td>\n",
       "      <td>1</td>\n",
       "      <td>0</td>\n",
       "      <td>0</td>\n",
       "      <td>0</td>\n",
       "    </tr>\n",
       "  </tbody>\n",
       "</table>\n",
       "</div>"
      ],
      "text/plain": [
       "   Id  Store  DayOfWeek        Date  Open  Promo StateHoliday  SchoolHoliday  Set\n",
       "0   1      1          4  2015-09-17   1.0      1            0              0    0\n",
       "1   2      3          4  2015-09-17   1.0      1            0              0    0\n",
       "2   3      7          4  2015-09-17   1.0      1            0              0    0"
      ]
     },
     "execution_count": 22,
     "metadata": {},
     "output_type": "execute_result"
    },
    {
     "data": {
      "text/html": [
       "<div>\n",
       "<style scoped>\n",
       "    .dataframe tbody tr th:only-of-type {\n",
       "        vertical-align: middle;\n",
       "    }\n",
       "\n",
       "    .dataframe tbody tr th {\n",
       "        vertical-align: top;\n",
       "    }\n",
       "\n",
       "    .dataframe thead th {\n",
       "        text-align: right;\n",
       "    }\n",
       "</style>\n",
       "<table border=\"1\" class=\"dataframe\">\n",
       "  <thead>\n",
       "    <tr style=\"text-align: right;\">\n",
       "      <th></th>\n",
       "      <th>Customers</th>\n",
       "      <th>Date</th>\n",
       "      <th>DayOfWeek</th>\n",
       "      <th>Id</th>\n",
       "      <th>Open</th>\n",
       "      <th>Promo</th>\n",
       "      <th>Sales</th>\n",
       "      <th>SchoolHoliday</th>\n",
       "      <th>Set</th>\n",
       "      <th>StateHoliday</th>\n",
       "      <th>Store</th>\n",
       "    </tr>\n",
       "  </thead>\n",
       "  <tbody>\n",
       "    <tr>\n",
       "      <th>0</th>\n",
       "      <td>555.0</td>\n",
       "      <td>2015-07-31</td>\n",
       "      <td>5</td>\n",
       "      <td>NaN</td>\n",
       "      <td>1.0</td>\n",
       "      <td>1</td>\n",
       "      <td>5263.0</td>\n",
       "      <td>1</td>\n",
       "      <td>1</td>\n",
       "      <td>0</td>\n",
       "      <td>1</td>\n",
       "    </tr>\n",
       "    <tr>\n",
       "      <th>1</th>\n",
       "      <td>625.0</td>\n",
       "      <td>2015-07-31</td>\n",
       "      <td>5</td>\n",
       "      <td>NaN</td>\n",
       "      <td>1.0</td>\n",
       "      <td>1</td>\n",
       "      <td>6064.0</td>\n",
       "      <td>1</td>\n",
       "      <td>1</td>\n",
       "      <td>0</td>\n",
       "      <td>2</td>\n",
       "    </tr>\n",
       "    <tr>\n",
       "      <th>2</th>\n",
       "      <td>821.0</td>\n",
       "      <td>2015-07-31</td>\n",
       "      <td>5</td>\n",
       "      <td>NaN</td>\n",
       "      <td>1.0</td>\n",
       "      <td>1</td>\n",
       "      <td>8314.0</td>\n",
       "      <td>1</td>\n",
       "      <td>1</td>\n",
       "      <td>0</td>\n",
       "      <td>3</td>\n",
       "    </tr>\n",
       "  </tbody>\n",
       "</table>\n",
       "</div>"
      ],
      "text/plain": [
       "   Customers        Date  DayOfWeek  Id  Open  Promo   Sales  SchoolHoliday  Set StateHoliday  Store\n",
       "0      555.0  2015-07-31          5 NaN   1.0      1  5263.0              1    1            0      1\n",
       "1      625.0  2015-07-31          5 NaN   1.0      1  6064.0              1    1            0      2\n",
       "2      821.0  2015-07-31          5 NaN   1.0      1  8314.0              1    1            0      3"
      ]
     },
     "execution_count": 22,
     "metadata": {},
     "output_type": "execute_result"
    }
   ],
   "source": [
    "train.shape\n",
    "test.shape\n",
    "data.shape\n",
    "train.head(3)\n",
    "test.head(3)\n",
    "data.head(3)"
   ]
  },
  {
   "cell_type": "code",
   "execution_count": 23,
   "metadata": {
    "ExecuteTime": {
     "end_time": "2018-11-29T18:48:28.619472Z",
     "start_time": "2018-11-29T18:48:28.615737Z"
    }
   },
   "outputs": [
    {
     "data": {
      "text/plain": [
       "Index(['Store', 'DayOfWeek', 'Date', 'Sales', 'Customers', 'Open', 'Promo', 'StateHoliday', 'SchoolHoliday', 'Set'], dtype='object')"
      ]
     },
     "execution_count": 23,
     "metadata": {},
     "output_type": "execute_result"
    }
   ],
   "source": [
    "train.columns"
   ]
  },
  {
   "cell_type": "code",
   "execution_count": 24,
   "metadata": {
    "ExecuteTime": {
     "end_time": "2018-11-29T18:49:05.356099Z",
     "start_time": "2018-11-29T18:49:05.072291Z"
    },
    "collapsed": true
   },
   "outputs": [],
   "source": [
    "# Obtain label\n",
    "# features will be used for modeling\n",
    "# convert label to log number ???why do we need to transform\n",
    "\n",
    "features =['Store', 'DayOfWeek', 'Promo']\n",
    "data['Saleslog']=np.log1p(data.Sales)\n",
    "label='Saleslog'"
   ]
  },
  {
   "cell_type": "code",
   "execution_count": 25,
   "metadata": {
    "ExecuteTime": {
     "end_time": "2018-11-29T18:49:06.720190Z",
     "start_time": "2018-11-29T18:49:06.415247Z"
    },
    "collapsed": true
   },
   "outputs": [],
   "source": [
    "# create more features by taking advantage of Date feature\n",
    "data['Date'] = pd.to_datetime(data['Date'])\n",
    "data['Year'] = data['Date'].dt.year\n",
    "data['Month'] = data['Date'].dt.month\n",
    "data['Day'] = data['Date'].dt.day\n",
    "data['WeekOfYear'] = data['Date'].dt.weekofyear\n",
    "data['Season'] = data['Date'].dt.quarter\n",
    "features.extend(['Year', 'Month', 'Day', 'WeekOfYear', 'Season'])"
   ]
  },
  {
   "cell_type": "code",
   "execution_count": 27,
   "metadata": {
    "ExecuteTime": {
     "end_time": "2018-11-29T18:49:57.743329Z",
     "start_time": "2018-11-29T18:49:57.448746Z"
    },
    "collapsed": true
   },
   "outputs": [],
   "source": [
    "# mering store data\n",
    "data = data.merge(store, how='left', on='Store')\n",
    "# features.extend(['SalesPerDay', 'CustomersPerDay', 'SalesPerCustomersPerDay'])\n"
   ]
  },
  {
   "cell_type": "code",
   "execution_count": 28,
   "metadata": {
    "ExecuteTime": {
     "end_time": "2018-11-29T18:49:59.565119Z",
     "start_time": "2018-11-29T18:49:59.353142Z"
    },
    "collapsed": true
   },
   "outputs": [],
   "source": [
    "# https://www.kaggle.com/cast42/xgboost-in-python-with-rmspe-v2/code\n",
    "# calculate competitionOpen based on competitionOpen time\n",
    "features.append('CompetitionOpen')\n",
    "data['CompetitionOpen'] = 12 * (data.Year - data.CompetitionOpenSinceYear) + \\\n",
    "    (data.Month - data.CompetitionOpenSinceMonth)"
   ]
  },
  {
   "cell_type": "code",
   "execution_count": 29,
   "metadata": {
    "ExecuteTime": {
     "end_time": "2018-11-29T18:50:44.908471Z",
     "start_time": "2018-11-29T18:50:44.440521Z"
    },
    "collapsed": true
   },
   "outputs": [],
   "source": [
    "# Promo open time in months\n",
    "# create feature PromoOpen time\n",
    "# filter some invalid data\n",
    "\n",
    "features.append('PromoOpen')\n",
    "data['PromoOpen'] = 12 * (data.Year - data.Promo2SinceYear) + \\\n",
    "    (data.WeekOfYear - data.Promo2SinceWeek) / 4.0\n",
    "data['PromoOpen'] = data.PromoOpen.apply(lambda x: x if x > 0 else 0)\n",
    "data.loc[data.Promo2SinceYear == 0, 'PromoOpen'] = 0"
   ]
  },
  {
   "cell_type": "code",
   "execution_count": 33,
   "metadata": {
    "ExecuteTime": {
     "end_time": "2018-11-29T18:51:44.170652Z",
     "start_time": "2018-11-29T18:51:41.865658Z"
    },
    "collapsed": true
   },
   "outputs": [],
   "source": [
    "# https://www.kaggle.com/cast42/xgboost-in-python-with-rmspe-v2/code\n",
    "# transfer feature PromoInterval to numbers\n",
    "\n",
    "features.append('IsPromoMonth')\n",
    "month2str = {1:'Jan', 2:'Feb', 3:'Mar', 4:'Apr', 5:'May', 6:'Jun', \\\n",
    "         7:'Jul', 8:'Aug', 9:'Sept', 10:'Oct', 11:'Nov', 12:'Dec'}\n",
    "data['monthStr'] = data.Month.map(month2str)\n",
    "data.loc[data.PromoInterval == 0, 'PromoInterval'] = ''\n",
    "data['IsPromoMonth'] = 0\n",
    "for interval in data.PromoInterval.unique():\n",
    "    if interval != '':\n",
    "        for month in interval.split(','):\n",
    "            data.loc[(data.monthStr == month) & (data.PromoInterval == interval), 'IsPromoMonth'] = 1"
   ]
  },
  {
   "cell_type": "code",
   "execution_count": 35,
   "metadata": {
    "ExecuteTime": {
     "end_time": "2018-11-29T18:51:57.429214Z",
     "start_time": "2018-11-29T18:51:57.346708Z"
    }
   },
   "outputs": [
    {
     "data": {
      "text/plain": [
       "                    438095\n",
       "Jan,Apr,Jul,Oct     254101\n",
       "Feb,May,Aug,Nov     102851\n",
       "Mar,Jun,Sept,Dec     84384\n",
       "Name: PromoInterval, dtype: int64"
      ]
     },
     "execution_count": 35,
     "metadata": {},
     "output_type": "execute_result"
    }
   ],
   "source": [
    "data.PromoInterval.value_counts()"
   ]
  },
  {
   "cell_type": "code",
   "execution_count": 36,
   "metadata": {
    "ExecuteTime": {
     "end_time": "2018-11-29T18:52:17.057166Z",
     "start_time": "2018-11-29T18:52:17.049844Z"
    },
    "scrolled": true
   },
   "outputs": [
    {
     "data": {
      "text/plain": [
       "StateHoliday     object\n",
       "StoreType        object\n",
       "Assortment       object\n",
       "PromoInterval    object\n",
       "monthStr         object\n",
       "dtype: object"
      ]
     },
     "execution_count": 36,
     "metadata": {},
     "output_type": "execute_result"
    }
   ],
   "source": [
    "data.dtypes[data.dtypes=='object'] #check object attributes and convert them later"
   ]
  },
  {
   "cell_type": "code",
   "execution_count": 37,
   "metadata": {
    "ExecuteTime": {
     "end_time": "2018-11-29T18:54:07.714875Z",
     "start_time": "2018-11-29T18:54:07.475832Z"
    },
    "collapsed": true
   },
   "outputs": [],
   "source": [
    "# used for benchmark model\n",
    "data = pd.concat([data, pd.get_dummies(data['StoreType'],prefix='StoreType',drop_first=True),pd.get_dummies(data['Assortment'],prefix='Assortment',drop_first=True), pd.get_dummies(data['StateHoliday'],prefix='StateHoliday',drop_first=True)],axis=1)"
   ]
  },
  {
   "cell_type": "code",
   "execution_count": 73,
   "metadata": {
    "ExecuteTime": {
     "end_time": "2018-11-29T20:05:27.019083Z",
     "start_time": "2018-11-29T20:05:27.015286Z"
    }
   },
   "outputs": [
    {
     "data": {
      "text/plain": [
       "Index(['Customers', 'Date', 'DayOfWeek', 'Id', 'Open', 'Promo', 'Sales', 'SchoolHoliday', 'Set', 'StateHoliday', 'Store', 'Saleslog', 'Year', 'Month', 'Day', 'WeekOfYear', 'Season', 'StoreType', 'Assortment', 'CompetitionDistance', 'CompetitionOpenSinceMonth', 'CompetitionOpenSinceYear', 'Promo2', 'Promo2SinceWeek', 'Promo2SinceYear', 'PromoInterval', 'CompetitionOpen', 'PromoOpen', 'monthStr', 'IsPromoMonth', 'StoreType_b', 'StoreType_c', 'StoreType_d', 'Assortment_b', 'Assortment_c', 'StateHoliday_a', 'StateHoliday_b', 'StateHoliday_c'], dtype='object')"
      ]
     },
     "execution_count": 73,
     "metadata": {},
     "output_type": "execute_result"
    }
   ],
   "source": [
    "data.columns"
   ]
  },
  {
   "cell_type": "code",
   "execution_count": 40,
   "metadata": {
    "ExecuteTime": {
     "end_time": "2018-11-29T18:54:40.245642Z",
     "start_time": "2018-11-29T18:54:40.242983Z"
    },
    "collapsed": true
   },
   "outputs": [],
   "source": [
    "features.extend(['StoreType_b', 'StoreType_c', 'StoreType_d', 'Assortment_b', 'Assortment_c', 'StateHoliday_a', 'StateHoliday_b','StateHoliday_c'])"
   ]
  },
  {
   "cell_type": "code",
   "execution_count": 41,
   "metadata": {
    "ExecuteTime": {
     "end_time": "2018-11-29T18:55:01.543801Z",
     "start_time": "2018-11-29T18:55:01.437284Z"
    },
    "collapsed": true
   },
   "outputs": [],
   "source": [
    "# directly used for tree model\n",
    "# data['PromoInterval'] = data['PromoInterval'].astype('category').cat.codes #不考虑此特征，已经更换为isPromoMonth\n",
    "\n",
    "data['StoreType'] = data['StoreType'].astype('category').cat.codes\n",
    "data['Assortment'] = data['Assortment'].astype('category').cat.codes\n",
    "data['StateHoliday'] = data['StateHoliday'].astype('category').cat.codes\n",
    "features.extend(['StoreType', 'Assortment', 'CompetitionDistance', 'Promo2'])"
   ]
  },
  {
   "cell_type": "code",
   "execution_count": 42,
   "metadata": {
    "ExecuteTime": {
     "end_time": "2018-11-29T18:55:04.020615Z",
     "start_time": "2018-11-29T18:55:03.988839Z"
    },
    "collapsed": true
   },
   "outputs": [],
   "source": [
    "# transfer data type to save memory \n",
    "data.IsPromoMonth = data.IsPromoMonth.astype('int16')\n",
    "data.Year = data.Year.astype('int16')\n",
    "data.Promo2SinceYear = data.Promo2SinceYear.astype('int16')\n",
    "data.Promo2SinceWeek = data.Promo2SinceWeek.astype('int16')\n",
    "data.Promo2 = data.Promo2.astype('int16')\n",
    "data.CompetitionDistance = data.CompetitionDistance.astype('int16')\n",
    "data.SchoolHoliday = data.SchoolHoliday.astype('int16')\n",
    "data.Set = data.Set.astype('int16')\n",
    "# data.Customers = data.Customers.astype('int16')   \n",
    "# data.Id = data.Id.astype('int16')  \n",
    "# data.Sales = data.Sales.astype('int16')   \n",
    "data.CompetitionOpenSinceMonth = data.CompetitionOpenSinceMonth.astype('int16')  \n",
    "data.CompetitionOpenSinceYear = data.CompetitionOpenSinceYear.astype('int16')  \n",
    "data.CompetitionOpen = data.CompetitionOpen.astype('int16') \n",
    "data.PromoOpen = data.PromoOpen.astype('int16')"
   ]
  },
  {
   "cell_type": "code",
   "execution_count": 55,
   "metadata": {
    "ExecuteTime": {
     "end_time": "2018-11-29T19:05:01.106952Z",
     "start_time": "2018-11-29T19:05:01.103174Z"
    },
    "collapsed": true
   },
   "outputs": [],
   "source": [
    "features_used_to_benchmark = ['Store','DayOfWeek','Promo','SchoolHoliday','Year','Month','Day','WeekOfYear','Season',\n",
    " 'CompetitionDistance','Promo2','CompetitionOpen', 'PromoOpen','IsPromoMonth',\n",
    "'StoreType_b', 'StoreType_c', 'StoreType_d', 'Assortment_b', 'Assortment_c', \n",
    "                            'StateHoliday_a', 'StateHoliday_b','StateHoliday_c']\n",
    "label='Saleslog'"
   ]
  },
  {
   "cell_type": "markdown",
   "metadata": {},
   "source": [
    "## modeling"
   ]
  },
  {
   "cell_type": "markdown",
   "metadata": {},
   "source": [
    "### benchmark1： Linear Regression Without extra features and combo features"
   ]
  },
  {
   "cell_type": "markdown",
   "metadata": {},
   "source": [
    "#### Linear Regression"
   ]
  },
  {
   "cell_type": "code",
   "execution_count": 6,
   "metadata": {
    "ExecuteTime": {
     "end_time": "2018-12-10T22:12:53.738962Z",
     "start_time": "2018-12-10T22:12:52.775245Z"
    },
    "collapsed": true
   },
   "outputs": [],
   "source": [
    "from sklearn.linear_model import ElasticNet\n",
    "from sklearn.model_selection import KFold, cross_val_score, train_test_split\n",
    "from sklearn.model_selection import GridSearchCV\n",
    "parameters = {'alpha':[0.005,0.0005,0.05], 'l1_ratio':[0.7, 0.8, 0.9]}\n",
    "clf = GridSearchCV(ElasticNet(),parameters,cv=10)"
   ]
  },
  {
   "cell_type": "code",
   "execution_count": 84,
   "metadata": {
    "ExecuteTime": {
     "end_time": "2018-11-29T20:25:47.669273Z",
     "start_time": "2018-11-29T20:24:49.834826Z"
    }
   },
   "outputs": [
    {
     "data": {
      "text/plain": [
       "GridSearchCV(cv=10, error_score='raise',\n",
       "       estimator=ElasticNet(alpha=1.0, copy_X=True, fit_intercept=True, l1_ratio=0.5,\n",
       "      max_iter=1000, normalize=False, positive=False, precompute=False,\n",
       "      random_state=None, selection='cyclic', tol=0.0001, warm_start=False),\n",
       "       fit_params=None, iid=True, n_jobs=1,\n",
       "       param_grid={'alpha': [0.005, 0.0005, 0.05], 'l1_ratio': [0.7, 0.8, 0.9]},\n",
       "       pre_dispatch='2*n_jobs', refit=True, return_train_score='warn',\n",
       "       scoring=None, verbose=0)"
      ]
     },
     "execution_count": 84,
     "metadata": {},
     "output_type": "execute_result"
    }
   ],
   "source": [
    "clf.fit(data.loc[(data['Set']==1)&(data['Open']==1)][features_used_to_benchmark], \n",
    "   data.loc[(data['Set']==1)&(data['Open']==1)][label])"
   ]
  },
  {
   "cell_type": "code",
   "execution_count": 103,
   "metadata": {
    "ExecuteTime": {
     "end_time": "2018-11-29T20:38:21.262647Z",
     "start_time": "2018-11-29T20:38:20.992127Z"
    },
    "collapsed": true,
    "scrolled": true
   },
   "outputs": [],
   "source": [
    "benchmark_result = pd.DataFrame({\"Id\": test[\"Id\"], 'Sales': np.expm1(clf.predict(data.loc[data['Set']==0][features_used_to_benchmark]))})\n",
    "a = pd.read_csv('./input/sample_submission.csv')\n",
    "benchmark_result.Id = benchmark_result.Id.astype('int')\n",
    "benchmark_result = a.merge(benchmark_result,how='left', on='Id')[['Id','Sales_y']].rename(columns={'Sales_y':'Sales'})\n",
    "benchmark_result.fillna(0,inplace=True)\n",
    "benchmark_result.to_csv('benchmark_result.csv',index=False )"
   ]
  },
  {
   "cell_type": "markdown",
   "metadata": {
    "ExecuteTime": {
     "end_time": "2018-11-29T01:25:55.518598Z",
     "start_time": "2018-11-29T01:25:55.505879Z"
    }
   },
   "source": [
    "### Evaluation Function"
   ]
  },
  {
   "cell_type": "code",
   "execution_count": 7,
   "metadata": {
    "ExecuteTime": {
     "end_time": "2018-12-11T18:48:01.417489Z",
     "start_time": "2018-12-11T18:48:01.411412Z"
    },
    "collapsed": true
   },
   "outputs": [],
   "source": [
    "# evaluation function\n",
    "def ToWeight(y):\n",
    "    w = np.zeros(y.shape, dtype=float)\n",
    "    ind = y != 0\n",
    "    w[ind] = 1./(y[ind]**2)\n",
    "    return w\n",
    "\n",
    "def rmspe(yhat, y):\n",
    "    w = ToWeight(y)\n",
    "    rmspe = np.sqrt(np.mean( w * (y - yhat)**2 ))\n",
    "    return rmspe\n",
    "\n",
    "def rmspe_xg(yhat, y):\n",
    "    # y = y.values\n",
    "    y = y.get_label()\n",
    "    y = np.exp(y) - 1\n",
    "    yhat = np.exp(yhat) - 1\n",
    "    w = ToWeight(y)\n",
    "    rmspe = np.sqrt(np.mean(w * (y - yhat)**2))\n",
    "    return \"rmspe\", rmspe"
   ]
  },
  {
   "cell_type": "markdown",
   "metadata": {},
   "source": [
    "### benchmark2： XGBoost Without extra features and combo features"
   ]
  },
  {
   "cell_type": "code",
   "execution_count": 40,
   "metadata": {
    "ExecuteTime": {
     "end_time": "2018-12-11T19:49:06.522243Z",
     "start_time": "2018-12-11T19:49:06.383618Z"
    },
    "scrolled": true
   },
   "outputs": [
    {
     "ename": "NameError",
     "evalue": "name 'data' is not defined",
     "output_type": "error",
     "traceback": [
      "\u001b[0;31m---------------------------------------------------------------------------\u001b[0m",
      "\u001b[0;31mNameError\u001b[0m                                 Traceback (most recent call last)",
      "\u001b[0;32m<ipython-input-40-7bdb9dd4c5f4>\u001b[0m in \u001b[0;36m<module>\u001b[0;34m()\u001b[0m\n\u001b[1;32m      2\u001b[0m \u001b[0;32mimport\u001b[0m \u001b[0mtime\u001b[0m\u001b[0;34m\u001b[0m\u001b[0m\n\u001b[1;32m      3\u001b[0m \u001b[0mstart\u001b[0m\u001b[0;34m=\u001b[0m\u001b[0mtime\u001b[0m\u001b[0;34m.\u001b[0m\u001b[0mtime\u001b[0m\u001b[0;34m(\u001b[0m\u001b[0;34m)\u001b[0m\u001b[0;34m\u001b[0m\u001b[0m\n\u001b[0;32m----> 4\u001b[0;31m X_train, X_test, y_train, y_test = train_test_split(data.loc[(data['Set'] == 1)&(data['Open']==1)][features],\n\u001b[0m\u001b[1;32m      5\u001b[0m                                                     data.loc[(data['Set'] == 1)&(data['Open']==1)][label], test_size=0.015, random_state=seed)\n\u001b[1;32m      6\u001b[0m \u001b[0;31m#     X_train = data.loc[(data.Set==1)&(data.Date<='2015-05')][features]\u001b[0m\u001b[0;34m\u001b[0m\u001b[0;34m\u001b[0m\u001b[0m\n",
      "\u001b[0;31mNameError\u001b[0m: name 'data' is not defined"
     ]
    }
   ],
   "source": [
    "seed = 42\n",
    "import time\n",
    "start=time.time()\n",
    "X_train, X_test, y_train, y_test = train_test_split(data.loc[(data['Set'] == 1)&(data['Open']==1)][features],\n",
    "                                                    data.loc[(data['Set'] == 1)&(data['Open']==1)][label], test_size=0.015, random_state=seed)\n",
    "#     X_train = data.loc[(data.Set==1)&(data.Date<='2015-05')][features]\n",
    "#     y_train = data.loc[(data.Set==1)&(data.Date<='2015-05')][label]\n",
    "#     X_test = data.loc[(data.Set==1)&(data.Date>'2015-05')][features]\n",
    "#     y_test = data.loc[(data.Set==1)&(data.Date>'2015-05')][label]\n",
    "dtrain = xgb.DMatrix(X_train, y_train)\n",
    "dtest = xgb.DMatrix(X_test, y_test)\n",
    "num_round = 20000\n",
    "evallist = [(dtrain, 'train'), (dtest, 'test')]\n",
    "param = {\"objective\": \"reg:linear\",\n",
    "          \"booster\" : \"gbtree\",\n",
    "          \"eta\": 0.01,\n",
    "          \"max_depth\": 10,\n",
    "          \"subsample\": 0.9,\n",
    "          \"colsample_bytree\": 0.7,\n",
    "          \"silent\": 1,\n",
    "          \"seed\": seed\n",
    "          }\n",
    "\n",
    "plst = param.items()\n",
    "bst1 = xgb.train(plst, dtrain, num_round, evallist, feval=rmspe_xg, verbose_eval=250, early_stopping_rounds=250)\n",
    "X_submit = data.loc[data['Set'] == 0]\n",
    "dsubmit = xgb.DMatrix(X_submit[features])\n",
    "ypred_bst = bst1.predict(dsubmit)\n",
    "\n",
    "data_ypred = X_submit['Id'].reset_index()\n",
    "del data_ypred['index']\n",
    "data_ypred['Id'] = data_ypred['Id'].astype('int')\n",
    "\n",
    "# data_ypred['Sales'] = (np.exp(ypred_bst) - 1) * 0.985\n",
    "data_ypred['Sales'] = (np.exp(ypred_bst) - 1) \n",
    "\n",
    "data_ypred.sort_values('Id', inplace=True)\n",
    "name =str(seed)+'benchmark'+'basicfeatures.csv'\n",
    "data_ypred[['Id', 'Sales']].to_csv(name, index=False)\n",
    "print(time.time()-start)"
   ]
  },
  {
   "cell_type": "code",
   "execution_count": 106,
   "metadata": {
    "ExecuteTime": {
     "end_time": "2018-11-29T20:48:46.302211Z",
     "start_time": "2018-11-29T20:48:46.280602Z"
    },
    "collapsed": true
   },
   "outputs": [],
   "source": [
    "a = pd.read_csv('./input/sample_submission.csv')\n",
    "b = pd.read_csv('./42benchmarkbasicfeatures.csv')"
   ]
  },
  {
   "cell_type": "code",
   "execution_count": 108,
   "metadata": {
    "ExecuteTime": {
     "end_time": "2018-11-29T20:49:19.659365Z",
     "start_time": "2018-11-29T20:49:19.529210Z"
    },
    "collapsed": true
   },
   "outputs": [],
   "source": [
    "b.Id = b.Id.astype('int')\n",
    "b = a.merge(b,how='left', on='Id')[['Id','Sales_y']].rename(columns={'Sales_y':'Sales'})\n",
    "b.fillna(0,inplace=True)\n",
    "b.to_csv('Benchmark2_XGBoost.csv',index=False )"
   ]
  },
  {
   "cell_type": "code",
   "execution_count": 32,
   "metadata": {
    "ExecuteTime": {
     "end_time": "2018-11-22T05:38:05.189561Z",
     "start_time": "2018-11-22T05:36:48.298417Z"
    },
    "scrolled": false
   },
   "outputs": [
    {
     "data": {
      "text/plain": [
       "<matplotlib.axes._subplots.AxesSubplot at 0x2b4ee6047fd0>"
      ]
     },
     "execution_count": 32,
     "metadata": {},
     "output_type": "execute_result"
    },
    {
     "data": {
      "image/png": "[encoded data removed]",
      "text/plain": [
       "<Figure size 1080x1080 with 1 Axes>"
      ]
     },
     "metadata": {},
     "output_type": "display_data"
    }
   ],
   "source": [
    "# feature importance plot \n",
    "fig, ax = plt.subplots(figsize=(15,7))\n",
    "xgb.plot_importance(bst1,ax=ax, )"
   ]
  },
  {
   "cell_type": "markdown",
   "metadata": {},
   "source": [
    "### Adding extra and combo features"
   ]
  },
  {
   "cell_type": "markdown",
   "metadata": {},
   "source": [
    "#### Based on explorary data analysis result，related features can be created by combing store, dayofweek, promo, year features"
   ]
  },
  {
   "cell_type": "code",
   "execution_count": 33,
   "metadata": {
    "ExecuteTime": {
     "end_time": "2018-11-22T05:59:16.981017Z",
     "start_time": "2018-11-22T05:59:16.978357Z"
    },
    "collapsed": true
   },
   "outputs": [],
   "source": [
    "columns = ['Store', 'DayOfWeek', 'Promo', 'Year']"
   ]
  },
  {
   "cell_type": "code",
   "execution_count": 34,
   "metadata": {
    "ExecuteTime": {
     "end_time": "2018-11-22T05:59:18.084096Z",
     "start_time": "2018-11-22T05:59:17.931784Z"
    },
    "collapsed": true
   },
   "outputs": [],
   "source": [
    "train = data[data.Set==1]\n",
    "test = data[data.Set==0]"
   ]
  },
  {
   "cell_type": "code",
   "execution_count": 35,
   "metadata": {
    "ExecuteTime": {
     "end_time": "2018-11-22T05:59:21.548619Z",
     "start_time": "2018-11-22T05:59:19.263703Z"
    },
    "collapsed": true
   },
   "outputs": [],
   "source": [
    "test = pd.merge(test, train.groupby(columns)['Sales'].mean().reset_index().rename(columns={'Sales':'MeanSales'}), on=columns,how='left')\n",
    "test = pd.merge(test, train.groupby(columns)['Sales'].median().reset_index().rename(columns={'Sales':'MedianSales'}), on=columns,how='left')\n",
    "train = pd.merge(train, train.groupby(columns)['Sales'].mean().reset_index().rename(columns={'Sales':'MeanSales'}), on=columns,how='left')\n",
    "train = pd.merge(train, train.groupby(columns)['Sales'].median().reset_index().rename(columns={'Sales':'MedianSales'}), on=columns,how='left')\n",
    "features.extend(['MeanSales', 'MedianSales'])"
   ]
  },
  {
   "cell_type": "code",
   "execution_count": 36,
   "metadata": {
    "ExecuteTime": {
     "end_time": "2018-11-22T05:59:22.937312Z",
     "start_time": "2018-11-22T05:59:22.931121Z"
    }
   },
   "outputs": [
    {
     "data": {
      "text/plain": [
       "Index(['Customers', 'Date', 'DayOfWeek', 'Id', 'Open', 'Promo', 'Sales', 'SchoolHoliday', 'Set', 'StateHoliday', 'Store', 'Saleslog', 'Year', 'Month', 'Day', 'WeekOfYear', 'Season', 'StoreType', 'Assortment', 'CompetitionDistance', 'CompetitionOpenSinceMonth', 'CompetitionOpenSinceYear', 'Promo2', 'Promo2SinceWeek', 'Promo2SinceYear', 'PromoInterval', 'CompetitionOpen', 'PromoOpen', 'monthStr', 'IsPromoMonth', 'MeanSales', 'MedianSales'], dtype='object')"
      ]
     },
     "execution_count": 36,
     "metadata": {},
     "output_type": "execute_result"
    }
   ],
   "source": [
    "train.columns"
   ]
  },
  {
   "cell_type": "code",
   "execution_count": 39,
   "metadata": {
    "ExecuteTime": {
     "end_time": "2018-11-22T05:59:36.670904Z",
     "start_time": "2018-11-22T05:59:34.559127Z"
    },
    "collapsed": true
   },
   "outputs": [],
   "source": [
    "test = pd.merge(test, train.groupby(columns)['Customers'].mean().reset_index().rename(columns={'Customers':'MeanCustomers'}), on=columns,how='left')\n",
    "test = pd.merge(test, train.groupby(columns)['Customers'].median().reset_index().rename(columns={'Customers':'MedianCustomers'}), on=columns,how='left')\n",
    "train = pd.merge(train, train.groupby(columns)['Customers'].mean().reset_index().rename(columns={'Customers':'MeanCustomers'}), on=columns,how='left')\n",
    "train = pd.merge(train, train.groupby(columns)['Customers'].median().reset_index().rename(columns={'Customers':'MedianCustomers'}), on=columns,how='left')\n",
    "features.extend(['MeanCustomers', 'MedianCustomers'])"
   ]
  },
  {
   "cell_type": "code",
   "execution_count": 40,
   "metadata": {
    "ExecuteTime": {
     "end_time": "2018-11-22T05:59:38.096515Z",
     "start_time": "2018-11-22T05:59:38.090118Z"
    },
    "scrolled": true
   },
   "outputs": [
    {
     "data": {
      "text/plain": [
       "Index(['Customers', 'Date', 'DayOfWeek', 'Id', 'Open', 'Promo', 'Sales', 'SchoolHoliday', 'Set', 'StateHoliday', 'Store', 'Saleslog', 'Year', 'Month', 'Day', 'WeekOfYear', 'Season', 'StoreType', 'Assortment', 'CompetitionDistance', 'CompetitionOpenSinceMonth', 'CompetitionOpenSinceYear', 'Promo2', 'Promo2SinceWeek', 'Promo2SinceYear', 'PromoInterval', 'CompetitionOpen', 'PromoOpen', 'monthStr', 'IsPromoMonth', 'MeanSales', 'MedianSales', 'State', 'MeanCustomers', 'MedianCustomers'], dtype='object')"
      ]
     },
     "execution_count": 40,
     "metadata": {},
     "output_type": "execute_result"
    }
   ],
   "source": [
    "train.columns"
   ]
  },
  {
   "cell_type": "markdown",
   "metadata": {},
   "source": [
    "#### Add state info for each store\n"
   ]
  },
  {
   "cell_type": "code",
   "execution_count": 37,
   "metadata": {
    "ExecuteTime": {
     "end_time": "2018-11-22T05:59:28.899441Z",
     "start_time": "2018-11-22T05:59:28.878167Z"
    },
    "collapsed": true
   },
   "outputs": [],
   "source": [
    "areas = pd.read_csv('./input/store_states.csv')"
   ]
  },
  {
   "cell_type": "code",
   "execution_count": 38,
   "metadata": {
    "ExecuteTime": {
     "end_time": "2018-11-22T05:59:30.876424Z",
     "start_time": "2018-11-22T05:59:30.468609Z"
    },
    "collapsed": true
   },
   "outputs": [],
   "source": [
    "areas.State = areas.State.astype('category').cat.codes\n",
    "train=pd.merge(train,areas,how='left', on='Store')\n",
    "test=pd.merge(test,areas,how='left', on='Store')\n",
    "features.append('State')"
   ]
  },
  {
   "cell_type": "markdown",
   "metadata": {},
   "source": [
    "### remove outlier based on MAD for each store"
   ]
  },
  {
   "cell_type": "code",
   "execution_count": 140,
   "metadata": {
    "ExecuteTime": {
     "end_time": "2018-11-29T21:32:41.950228Z",
     "start_time": "2018-11-29T21:32:41.946313Z"
    },
    "collapsed": true
   },
   "outputs": [],
   "source": [
    "import numpy as np\n",
    "import matplotlib.pyplot as plt\n",
    "\n",
    "def is_outlier(points, threshold=3.5):\n",
    "    # convert it to vector\n",
    "    if len(points.shape) == 1:\n",
    "        points = points[:,None]\n",
    "    # calcuate median\n",
    "    median = np.median(points, axis=0)\n",
    "    # calculat median\n",
    "    diff = np.sum((points - median)**2, axis=-1)\n",
    "    # stdndard deviation\n",
    "    diff = np.sqrt(diff)\n",
    "    # MAD\n",
    "    med_abs_deviation = np.median(diff)\n",
    "\n",
    "    # compute modified Z-score\n",
    "    # http://www.itl.nist.gov/div898/handbook/eda/section4/eda43.htm#Iglewicz\n",
    "    modified_z_score = 0.6745 * diff / med_abs_deviation\n",
    "\n",
    "    # return a mask for each outlier\n",
    "    return modified_z_score > threshold"
   ]
  },
  {
   "cell_type": "code",
   "execution_count": 42,
   "metadata": {
    "ExecuteTime": {
     "end_time": "2018-11-22T06:00:55.606495Z",
     "start_time": "2018-11-22T05:59:41.007974Z"
    },
    "collapsed": true
   },
   "outputs": [],
   "source": [
    "# by using function is_outlier to assign outlier label for each sample\n",
    "for i in train['Store'].unique():\n",
    "    train.loc[(train['Store'] == i) & (train['Open'] == 1), 'Outlier'] = \\\n",
    "    is_outlier(train.loc[(train['Store'] == i) & (train['Open'] == 1)]['Sales'], 3)"
   ]
  },
  {
   "cell_type": "code",
   "execution_count": 43,
   "metadata": {
    "ExecuteTime": {
     "end_time": "2018-11-22T06:27:07.707023Z",
     "start_time": "2018-11-22T06:01:07.945693Z"
    },
    "scrolled": true
   },
   "outputs": [
    {
     "name": "stdout",
     "output_type": "stream",
     "text": [
      "[0]\ttrain-rmse:5.78194\ttest-rmse:5.78163\ttrain-rmspe:0.996909\ttest-rmspe:0.996908\n",
      "Multiple eval metrics have been passed: 'test-rmspe' will be used for early stopping.\n",
      "\n",
      "Will train until test-rmspe hasn't improved in 250 rounds.\n",
      "[250]\ttrain-rmse:0.087076\ttest-rmse:0.089758\ttrain-rmspe:0.122118\ttest-rmspe:0.099508\n",
      "[500]\ttrain-rmse:0.082155\ttest-rmse:0.087132\ttrain-rmspe:0.106079\ttest-rmspe:0.096686\n",
      "[750]\ttrain-rmse:0.078782\ttest-rmse:0.08566\ttrain-rmspe:0.091032\ttest-rmspe:0.094945\n",
      "[1000]\ttrain-rmse:0.076381\ttest-rmse:0.085\ttrain-rmspe:0.085611\ttest-rmspe:0.093915\n",
      "[1250]\ttrain-rmse:0.074496\ttest-rmse:0.084638\ttrain-rmspe:0.07931\ttest-rmspe:0.093604\n",
      "[1500]\ttrain-rmse:0.072853\ttest-rmse:0.084364\ttrain-rmspe:0.077278\ttest-rmspe:0.093319\n",
      "[1750]\ttrain-rmse:0.071441\ttest-rmse:0.084206\ttrain-rmspe:0.075625\ttest-rmspe:0.092994\n",
      "[2000]\ttrain-rmse:0.070132\ttest-rmse:0.084091\ttrain-rmspe:0.073464\ttest-rmspe:0.092896\n",
      "[2250]\ttrain-rmse:0.068931\ttest-rmse:0.084003\ttrain-rmspe:0.072068\ttest-rmspe:0.092749\n",
      "[2500]\ttrain-rmse:0.067857\ttest-rmse:0.083986\ttrain-rmspe:0.070781\ttest-rmspe:0.092865\n",
      "Stopping. Best iteration:\n",
      "[2275]\ttrain-rmse:0.068789\ttest-rmse:0.083966\ttrain-rmspe:0.071891\ttest-rmspe:0.092686\n",
      "\n"
     ]
    }
   ],
   "source": [
    "X_train, X_test, y_train, y_test = train_test_split( train.loc[train['Outlier']==False & (train['Open'] == 1)][features],\n",
    "                                                     train.loc[train['Outlier']==False & (train['Open'] == 1)]['Sales'],\n",
    "                                                    test_size=0.1, random_state=42)\n",
    "\n",
    "y_train = np.log1p(y_train)\n",
    "y_test = np.log1p(y_test)\n",
    "dtrain = xgb.DMatrix(X_train, y_train)\n",
    "dtest = xgb.DMatrix(X_test, y_test)\n",
    "num_round = 20000\n",
    "evallist = [(dtrain, 'train'), (dtest, 'test')]\n",
    "param = {'bst:max_depth':12,\n",
    "         'bst:eta':0.01,\n",
    "         'subsample':0.8,\n",
    "         'colsample_bytree':0.7,\n",
    "         'silent':1,\n",
    "         'objective':'reg:linear',\n",
    "         'nthread':6,\n",
    "         'seed':2018}\n",
    "\n",
    "plst = param.items()\n",
    "bst = xgb.train(plst, dtrain, num_round, evallist, feval=rmspe_xg, verbose_eval=250, early_stopping_rounds=250)\n",
    "dpred = xgb.DMatrix(train.loc[(train['Open'] == 1) & (train['Outlier'] == True)][features])\n",
    "ypred_bst = bst.predict(dpred)\n",
    "#将outlier的值用预测的值替代\n",
    "train.loc[(train['Open'] == 1) & (train['Outlier'] == True), 'Sales'] =np.exp(ypred_bst) - 1"
   ]
  },
  {
   "cell_type": "markdown",
   "metadata": {},
   "source": [
    "###   Tune XGBoost Parameters"
   ]
  },
  {
   "cell_type": "code",
   "execution_count": 4,
   "metadata": {
    "ExecuteTime": {
     "end_time": "2018-12-11T18:47:08.210089Z",
     "start_time": "2018-12-11T18:47:04.913954Z"
    },
    "collapsed": true
   },
   "outputs": [],
   "source": [
    "train = pd.read_csv('./input/processed_train.csv')\n",
    "test = pd.read_csv('./input/processed_test.csv')\n",
    "features= ['Store','CompetitionDistance','Promo','Promo2','SchoolHoliday','StoreType','Assortment','StateHoliday','DayOfWeek','Month','Day','Year','WeekOfYear','CompetitionOpen','PromoOpen','IsPromoMonth','MeanSales','MedianSales','State']"
   ]
  },
  {
   "cell_type": "markdown",
   "metadata": {},
   "source": [
    "#### Original Parameter"
   ]
  },
  {
   "cell_type": "markdown",
   "metadata": {},
   "source": [
    "|Parameter      |Values   | \n",
    "|---|----|\n",
    "| booster    | gbtree|     \n",
    "| eta    | 0.3 |     \n",
    "| max_depth     |   10   |     \n",
    "| cols_sample|   0.9    |  \n",
    "| subsample|   0.7    |  \n",
    "|train_test_split| trian_test_split|\n",
    "| seed    | 42 |     "
   ]
  },
  {
   "cell_type": "markdown",
   "metadata": {},
   "source": [
    "#### Tune Paramters: eta, max_depth, subsample, colsample_bytree "
   ]
  },
  {
   "cell_type": "markdown",
   "metadata": {},
   "source": [
    "Steps of Tune parameter：  \n",
    "1. obtain a fixed eta and max_depth  \n",
    "2. decide subsample and colsample_bytree  \n",
    "3. tune eta   \n",
    "4. make sure valid and test data"
   ]
  },
  {
   "cell_type": "markdown",
   "metadata": {},
   "source": [
    "#### when max_depth is 10, the valid loss is minimal"
   ]
  },
  {
   "cell_type": "markdown",
   "metadata": {},
   "source": [
    "\n",
    "|max_depth       | eval-rmspe   | \n",
    "|---|----|\n",
    "|   6| 0.095637\t |     \n",
    "| 8     |   0.090162   |     \n",
    "| 10|   0.088746    |  \n",
    "| 12|   0.089783    |  \n",
    "| 14|   0.091024   |  "
   ]
  },
  {
   "cell_type": "code",
   "execution_count": 142,
   "metadata": {
    "ExecuteTime": {
     "end_time": "2018-11-29T21:37:02.281431Z",
     "start_time": "2018-11-29T21:32:51.921937Z"
    },
    "scrolled": true
   },
   "outputs": [
    {
     "name": "stdout",
     "output_type": "stream",
     "text": [
      "max_depth:   6\n",
      "Train a XGBoost model\n",
      "[0]\ttrain-rmse:5.78768\teval-rmse:5.78845\ttrain-rmspe:0.996923\teval-rmspe:0.996927\n",
      "Multiple eval metrics have been passed: 'eval-rmspe' will be used for early stopping.\n",
      "\n",
      "Will train until eval-rmspe hasn't improved in 30 rounds.\n",
      "[50]\ttrain-rmse:0.101692\teval-rmse:0.102796\ttrain-rmspe:0.159832\teval-rmspe:0.112029\n",
      "[100]\ttrain-rmse:0.094964\teval-rmse:0.096512\ttrain-rmspe:0.147623\teval-rmspe:0.105372\n",
      "[150]\ttrain-rmse:0.091104\teval-rmse:0.093021\ttrain-rmspe:0.144036\teval-rmspe:0.101483\n",
      "[200]\ttrain-rmse:0.088899\teval-rmse:0.091217\ttrain-rmspe:0.121099\teval-rmspe:0.099611\n",
      "[250]\ttrain-rmse:0.087146\teval-rmse:0.089864\ttrain-rmspe:0.116525\teval-rmspe:0.098074\n",
      "[300]\ttrain-rmse:0.085693\teval-rmse:0.08882\ttrain-rmspe:0.112075\teval-rmspe:0.0969\n",
      "[350]\ttrain-rmse:0.08464\teval-rmse:0.088202\ttrain-rmspe:0.106423\teval-rmspe:0.096288\n",
      "[399]\ttrain-rmse:0.083684\teval-rmse:0.087613\ttrain-rmspe:0.10549\teval-rmspe:0.095637\n",
      "max_depth:   8\n",
      "Train a XGBoost model\n",
      "[0]\ttrain-rmse:5.78768\teval-rmse:5.78845\ttrain-rmspe:0.996923\teval-rmspe:0.996927\n",
      "Multiple eval metrics have been passed: 'eval-rmspe' will be used for early stopping.\n",
      "\n",
      "Will train until eval-rmspe hasn't improved in 30 rounds.\n",
      "[50]\ttrain-rmse:0.092905\teval-rmse:0.095192\ttrain-rmspe:0.145179\teval-rmspe:0.104084\n",
      "[100]\ttrain-rmse:0.085233\teval-rmse:0.089245\ttrain-rmspe:0.109603\teval-rmspe:0.096876\n",
      "[150]\ttrain-rmse:0.081606\teval-rmse:0.086998\ttrain-rmspe:0.106015\teval-rmspe:0.094431\n",
      "[200]\ttrain-rmse:0.079253\teval-rmse:0.08592\ttrain-rmspe:0.090603\teval-rmspe:0.093276\n",
      "[250]\ttrain-rmse:0.077166\teval-rmse:0.085064\ttrain-rmspe:0.084317\teval-rmspe:0.092165\n",
      "[300]\ttrain-rmse:0.075048\teval-rmse:0.084191\ttrain-rmspe:0.080348\teval-rmspe:0.091262\n",
      "[350]\ttrain-rmse:0.073421\teval-rmse:0.083623\ttrain-rmspe:0.07834\teval-rmspe:0.090625\n",
      "[399]\ttrain-rmse:0.071917\teval-rmse:0.083227\ttrain-rmspe:0.075863\teval-rmspe:0.090162\n",
      "max_depth:   10\n",
      "Train a XGBoost model\n",
      "[0]\ttrain-rmse:5.78768\teval-rmse:5.78845\ttrain-rmspe:0.996923\teval-rmspe:0.996927\n",
      "Multiple eval metrics have been passed: 'eval-rmspe' will be used for early stopping.\n",
      "\n",
      "Will train until eval-rmspe hasn't improved in 30 rounds.\n",
      "[50]\ttrain-rmse:0.082735\teval-rmse:0.088853\ttrain-rmspe:0.134367\teval-rmspe:0.09638\n",
      "[100]\ttrain-rmse:0.075194\teval-rmse:0.085312\ttrain-rmspe:0.083461\teval-rmspe:0.092378\n",
      "[150]\ttrain-rmse:0.070402\teval-rmse:0.083717\ttrain-rmspe:0.074254\teval-rmspe:0.090644\n",
      "[200]\ttrain-rmse:0.066972\teval-rmse:0.083095\ttrain-rmspe:0.069681\teval-rmspe:0.089825\n",
      "[250]\ttrain-rmse:0.063644\teval-rmse:0.082534\ttrain-rmspe:0.065784\teval-rmspe:0.089074\n",
      "[300]\ttrain-rmse:0.06093\teval-rmse:0.082321\ttrain-rmspe:0.062599\teval-rmspe:0.088776\n",
      "Stopping. Best iteration:\n",
      "[302]\ttrain-rmse:0.060822\teval-rmse:0.0823\ttrain-rmspe:0.062471\teval-rmspe:0.088746\n",
      "\n",
      "max_depth:   12\n",
      "Train a XGBoost model\n",
      "[0]\ttrain-rmse:5.78768\teval-rmse:5.78845\ttrain-rmspe:0.996923\teval-rmspe:0.996927\n",
      "Multiple eval metrics have been passed: 'eval-rmspe' will be used for early stopping.\n",
      "\n",
      "Will train until eval-rmspe hasn't improved in 30 rounds.\n",
      "[50]\ttrain-rmse:0.072139\teval-rmse:0.085587\ttrain-rmspe:0.076044\teval-rmspe:0.092519\n",
      "[100]\ttrain-rmse:0.063047\teval-rmse:0.083441\ttrain-rmspe:0.065175\teval-rmspe:0.090364\n",
      "[150]\ttrain-rmse:0.057092\teval-rmse:0.083138\ttrain-rmspe:0.058523\teval-rmspe:0.09003\n",
      "[200]\ttrain-rmse:0.052461\teval-rmse:0.083157\ttrain-rmspe:0.05339\teval-rmspe:0.089914\n",
      "Stopping. Best iteration:\n",
      "[172]\ttrain-rmse:0.054637\teval-rmse:0.082992\ttrain-rmspe:0.055764\teval-rmspe:0.089783\n",
      "\n",
      "max_depth:   14\n",
      "Train a XGBoost model\n",
      "[0]\ttrain-rmse:5.78768\teval-rmse:5.78845\ttrain-rmspe:0.996923\teval-rmspe:0.996927\n",
      "Multiple eval metrics have been passed: 'eval-rmspe' will be used for early stopping.\n",
      "\n",
      "Will train until eval-rmspe hasn't improved in 30 rounds.\n",
      "[50]\ttrain-rmse:0.059414\teval-rmse:0.084561\ttrain-rmspe:0.061144\teval-rmspe:0.091408\n",
      "[100]\ttrain-rmse:0.048184\teval-rmse:0.084111\ttrain-rmspe:0.048888\teval-rmspe:0.091108\n",
      "Stopping. Best iteration:\n",
      "[83]\ttrain-rmse:0.050978\teval-rmse:0.084032\ttrain-rmspe:0.051911\teval-rmspe:0.091024\n",
      "\n"
     ]
    }
   ],
   "source": [
    "seed=42\n",
    "for max_depth in range(6,15,2):\n",
    "    print('max_depth:  ', max_depth)\n",
    "    params = {\"objective\": \"reg:linear\",\n",
    "              \"booster\" : \"gbtree\",\n",
    "              \"eta\": 0.3,\n",
    "              \"max_depth\": max_depth,\n",
    "              \"subsample\": 0.9,\n",
    "              \"colsample_bytree\": 0.7,\n",
    "              \"silent\": 1,\n",
    "              \"seed\": seed\n",
    "              }\n",
    "    num_boost_round = 400\n",
    "    print(\"Train a XGBoost model\")\n",
    "    X_train, X_valid = train_test_split(train, test_size=0.1, random_state=10)\n",
    "\n",
    "    y_train = np.log1p(X_train.Sales)\n",
    "    y_valid = np.log1p(X_valid.Sales)\n",
    "    dtrain = xgb.DMatrix(X_train[features], y_train)\n",
    "    dvalid = xgb.DMatrix(X_valid[features], y_valid)\n",
    "\n",
    "    watchlist = [(dtrain, 'train'), (dvalid, 'eval')]\n",
    "    gbm = xgb.train(params, dtrain, num_boost_round, evals=watchlist, \\\n",
    "      early_stopping_rounds=30, feval=rmspe_xg, verbose_eval=50)\n"
   ]
  },
  {
   "cell_type": "markdown",
   "metadata": {},
   "source": [
    "#### subsample = 0.9 and colsample_bytreee = 0.7, eval_rmspe is miminal, choose the two parameters"
   ]
  },
  {
   "cell_type": "markdown",
   "metadata": {},
   "source": [
    "|subsample       | colsample_bytree| eval-rmspe   | \n",
    "|---|----|---|\n",
    "|    0.7| 0.7\t |    0.09119 |\n",
    "| 0.7  |   0.8   | 0.089963    |\n",
    "| 0.7|   0.9    | 0.089316 |\n",
    "|    0.8| 0.7\t | 0.089537    |\n",
    "| 0.8  |   0.8   | 0.089607   |\n",
    "| 0.8|   0.9    |0.089136  |\n",
    "|    0.9| 0.7\t |  0.088746   |\n",
    "| 0.9  |   0.8   |   0.089186  |\n",
    "| 0.9|   0.9    |  0.089178|"
   ]
  },
  {
   "cell_type": "code",
   "execution_count": 143,
   "metadata": {
    "ExecuteTime": {
     "end_time": "2018-11-29T21:59:48.761197Z",
     "start_time": "2018-11-29T21:49:51.396695Z"
    },
    "scrolled": true
   },
   "outputs": [
    {
     "name": "stdout",
     "output_type": "stream",
     "text": [
      "subsample, colsample_bytree:   (0.7, 0.7)\n",
      "Train a XGBoost model\n",
      "[0]\ttrain-rmse:5.78773\teval-rmse:5.78855\ttrain-rmspe:0.996923\teval-rmspe:0.996926\n",
      "Multiple eval metrics have been passed: 'eval-rmspe' will be used for early stopping.\n",
      "\n",
      "Will train until eval-rmspe hasn't improved in 30 rounds.\n",
      "[50]\ttrain-rmse:0.083137\teval-rmse:0.089533\ttrain-rmspe:0.103144\teval-rmspe:0.097711\n",
      "[100]\ttrain-rmse:0.076679\teval-rmse:0.086566\ttrain-rmspe:0.088345\teval-rmspe:0.094152\n",
      "[150]\ttrain-rmse:0.072202\teval-rmse:0.085282\ttrain-rmspe:0.076478\teval-rmspe:0.092904\n",
      "[200]\ttrain-rmse:0.068527\teval-rmse:0.084556\ttrain-rmspe:0.071555\teval-rmspe:0.092036\n",
      "[250]\ttrain-rmse:0.065381\teval-rmse:0.084304\ttrain-rmspe:0.067655\teval-rmspe:0.091739\n",
      "[300]\ttrain-rmse:0.062708\teval-rmse:0.084108\ttrain-rmspe:0.06455\teval-rmspe:0.091372\n",
      "[350]\ttrain-rmse:0.060445\teval-rmse:0.084056\ttrain-rmspe:0.061894\teval-rmspe:0.091265\n",
      "Stopping. Best iteration:\n",
      "[341]\ttrain-rmse:0.060811\teval-rmse:0.084001\ttrain-rmspe:0.062332\teval-rmspe:0.09119\n",
      "\n",
      "Validating\n",
      "RMSPE: 0.083482\n",
      "subsample, colsample_bytree:   (0.7, 0.8)\n",
      "Train a XGBoost model\n",
      "[0]\ttrain-rmse:5.78773\teval-rmse:5.78855\ttrain-rmspe:0.996923\teval-rmspe:0.996926\n",
      "Multiple eval metrics have been passed: 'eval-rmspe' will be used for early stopping.\n",
      "\n",
      "Will train until eval-rmspe hasn't improved in 30 rounds.\n",
      "[50]\ttrain-rmse:0.08312\teval-rmse:0.089548\ttrain-rmspe:0.089651\teval-rmspe:0.096809\n",
      "[100]\ttrain-rmse:0.07538\teval-rmse:0.085743\ttrain-rmspe:0.079765\teval-rmspe:0.09243\n",
      "[150]\ttrain-rmse:0.070781\teval-rmse:0.084527\ttrain-rmspe:0.074101\teval-rmspe:0.090997\n",
      "[200]\ttrain-rmse:0.067151\teval-rmse:0.083943\ttrain-rmspe:0.069636\teval-rmspe:0.090339\n",
      "[250]\ttrain-rmse:0.064123\teval-rmse:0.083839\ttrain-rmspe:0.066005\teval-rmspe:0.09014\n",
      "[300]\ttrain-rmse:0.061474\teval-rmse:0.083733\ttrain-rmspe:0.063047\teval-rmspe:0.089971\n",
      "Stopping. Best iteration:\n",
      "[301]\ttrain-rmse:0.061371\teval-rmse:0.083716\ttrain-rmspe:0.062938\teval-rmspe:0.089963\n",
      "\n",
      "Validating\n",
      "RMSPE: 0.083808\n",
      "subsample, colsample_bytree:   (0.7, 0.9)\n",
      "Train a XGBoost model\n",
      "[0]\ttrain-rmse:5.78773\teval-rmse:5.78855\ttrain-rmspe:0.996923\teval-rmspe:0.996926\n",
      "Multiple eval metrics have been passed: 'eval-rmspe' will be used for early stopping.\n",
      "\n",
      "Will train until eval-rmspe hasn't improved in 30 rounds.\n",
      "[50]\ttrain-rmse:0.082042\teval-rmse:0.088267\ttrain-rmspe:0.091405\teval-rmspe:0.095097\n",
      "[100]\ttrain-rmse:0.074985\teval-rmse:0.085233\ttrain-rmspe:0.079222\teval-rmspe:0.091464\n",
      "[150]\ttrain-rmse:0.070315\teval-rmse:0.084202\ttrain-rmspe:0.073157\teval-rmspe:0.08979\n",
      "[200]\ttrain-rmse:0.06698\teval-rmse:0.083885\ttrain-rmspe:0.069345\teval-rmspe:0.089461\n",
      "[250]\ttrain-rmse:0.064081\teval-rmse:0.083871\ttrain-rmspe:0.065989\teval-rmspe:0.089356\n",
      "Stopping. Best iteration:\n",
      "[221]\ttrain-rmse:0.065737\teval-rmse:0.083833\ttrain-rmspe:0.067926\teval-rmspe:0.089316\n",
      "\n",
      "Validating\n",
      "RMSPE: 0.085603\n",
      "subsample, colsample_bytree:   (0.8, 0.7)\n",
      "Train a XGBoost model\n",
      "[0]\ttrain-rmse:5.78767\teval-rmse:5.78846\ttrain-rmspe:0.996923\teval-rmspe:0.996926\n",
      "Multiple eval metrics have been passed: 'eval-rmspe' will be used for early stopping.\n",
      "\n",
      "Will train until eval-rmspe hasn't improved in 30 rounds.\n",
      "[50]\ttrain-rmse:0.08263\teval-rmse:0.089\ttrain-rmspe:0.092409\teval-rmspe:0.096942\n",
      "[100]\ttrain-rmse:0.075611\teval-rmse:0.085496\ttrain-rmspe:0.080495\teval-rmspe:0.092741\n",
      "[150]\ttrain-rmse:0.071042\teval-rmse:0.08423\ttrain-rmspe:0.074428\teval-rmspe:0.09124\n",
      "[200]\ttrain-rmse:0.067591\teval-rmse:0.083726\ttrain-rmspe:0.07032\teval-rmspe:0.090748\n",
      "[250]\ttrain-rmse:0.064273\teval-rmse:0.08322\ttrain-rmspe:0.066337\teval-rmspe:0.089767\n",
      "[300]\ttrain-rmse:0.061594\teval-rmse:0.083075\ttrain-rmspe:0.063272\teval-rmspe:0.089583\n",
      "Stopping. Best iteration:\n",
      "[304]\ttrain-rmse:0.061423\teval-rmse:0.083056\ttrain-rmspe:0.063083\teval-rmspe:0.089537\n",
      "\n",
      "Validating\n",
      "RMSPE: 0.082491\n",
      "subsample, colsample_bytree:   (0.8, 0.8)\n",
      "Train a XGBoost model\n",
      "[0]\ttrain-rmse:5.78767\teval-rmse:5.78846\ttrain-rmspe:0.996923\teval-rmspe:0.996926\n",
      "Multiple eval metrics have been passed: 'eval-rmspe' will be used for early stopping.\n",
      "\n",
      "Will train until eval-rmspe hasn't improved in 30 rounds.\n",
      "[50]\ttrain-rmse:0.082764\teval-rmse:0.089034\ttrain-rmspe:0.096301\teval-rmspe:0.096816\n",
      "[100]\ttrain-rmse:0.074887\teval-rmse:0.0851\ttrain-rmspe:0.079879\teval-rmspe:0.092111\n",
      "[150]\ttrain-rmse:0.070468\teval-rmse:0.08392\ttrain-rmspe:0.073737\teval-rmspe:0.090874\n",
      "[200]\ttrain-rmse:0.066849\teval-rmse:0.083436\ttrain-rmspe:0.069297\teval-rmspe:0.090322\n",
      "[250]\ttrain-rmse:0.063811\teval-rmse:0.083131\ttrain-rmspe:0.065728\teval-rmspe:0.089859\n",
      "[300]\ttrain-rmse:0.061134\teval-rmse:0.082989\ttrain-rmspe:0.062702\teval-rmspe:0.089623\n",
      "Stopping. Best iteration:\n",
      "[293]\ttrain-rmse:0.061432\teval-rmse:0.082963\ttrain-rmspe:0.063043\teval-rmspe:0.089607\n",
      "\n",
      "Validating\n",
      "RMSPE: 0.082385\n",
      "subsample, colsample_bytree:   (0.8, 0.9)\n",
      "Train a XGBoost model\n",
      "[0]\ttrain-rmse:5.78767\teval-rmse:5.78846\ttrain-rmspe:0.996923\teval-rmspe:0.996926\n",
      "Multiple eval metrics have been passed: 'eval-rmspe' will be used for early stopping.\n",
      "\n",
      "Will train until eval-rmspe hasn't improved in 30 rounds.\n",
      "[50]\ttrain-rmse:0.082495\teval-rmse:0.088429\ttrain-rmspe:0.096262\teval-rmspe:0.095823\n",
      "[100]\ttrain-rmse:0.075126\teval-rmse:0.085058\ttrain-rmspe:0.079226\teval-rmspe:0.091778\n",
      "[150]\ttrain-rmse:0.070283\teval-rmse:0.083822\ttrain-rmspe:0.073174\teval-rmspe:0.090404\n",
      "[200]\ttrain-rmse:0.06646\teval-rmse:0.083239\ttrain-rmspe:0.068745\teval-rmspe:0.089787\n",
      "[250]\ttrain-rmse:0.063335\teval-rmse:0.082931\ttrain-rmspe:0.065172\teval-rmspe:0.089444\n",
      "[300]\ttrain-rmse:0.060591\teval-rmse:0.082842\ttrain-rmspe:0.062097\teval-rmspe:0.089299\n",
      "Stopping. Best iteration:\n",
      "[308]\ttrain-rmse:0.060048\teval-rmse:0.082727\ttrain-rmspe:0.061483\teval-rmspe:0.089136\n",
      "\n",
      "Validating\n",
      "RMSPE: 0.082227\n",
      "subsample, colsample_bytree:   (0.9, 0.7)\n",
      "Train a XGBoost model\n",
      "[0]\ttrain-rmse:5.78768\teval-rmse:5.78845\ttrain-rmspe:0.996923\teval-rmspe:0.996927\n",
      "Multiple eval metrics have been passed: 'eval-rmspe' will be used for early stopping.\n",
      "\n",
      "Will train until eval-rmspe hasn't improved in 30 rounds.\n",
      "[50]\ttrain-rmse:0.082735\teval-rmse:0.088853\ttrain-rmspe:0.134367\teval-rmspe:0.09638\n",
      "[100]\ttrain-rmse:0.075194\teval-rmse:0.085312\ttrain-rmspe:0.083461\teval-rmspe:0.092378\n",
      "[150]\ttrain-rmse:0.070402\teval-rmse:0.083717\ttrain-rmspe:0.074254\teval-rmspe:0.090644\n",
      "[200]\ttrain-rmse:0.066972\teval-rmse:0.083095\ttrain-rmspe:0.069681\teval-rmspe:0.089825\n",
      "[250]\ttrain-rmse:0.063644\teval-rmse:0.082534\ttrain-rmspe:0.065784\teval-rmspe:0.089074\n",
      "[300]\ttrain-rmse:0.06093\teval-rmse:0.082321\ttrain-rmspe:0.062599\teval-rmspe:0.088776\n",
      "Stopping. Best iteration:\n",
      "[302]\ttrain-rmse:0.060822\teval-rmse:0.0823\ttrain-rmspe:0.062471\teval-rmspe:0.088746\n",
      "\n",
      "Validating\n",
      "RMSPE: 0.081538\n",
      "subsample, colsample_bytree:   (0.9, 0.8)\n",
      "Train a XGBoost model\n",
      "[0]\ttrain-rmse:5.78768\teval-rmse:5.78845\ttrain-rmspe:0.996923\teval-rmspe:0.996927\n",
      "Multiple eval metrics have been passed: 'eval-rmspe' will be used for early stopping.\n",
      "\n",
      "Will train until eval-rmspe hasn't improved in 30 rounds.\n",
      "[50]\ttrain-rmse:0.08195\teval-rmse:0.088456\ttrain-rmspe:0.104629\teval-rmspe:0.096242\n",
      "[100]\ttrain-rmse:0.074213\teval-rmse:0.084834\ttrain-rmspe:0.078869\teval-rmspe:0.091556\n",
      "[150]\ttrain-rmse:0.069673\teval-rmse:0.083569\ttrain-rmspe:0.073005\teval-rmspe:0.090276\n",
      "[200]\ttrain-rmse:0.065869\teval-rmse:0.083011\ttrain-rmspe:0.068289\teval-rmspe:0.089695\n",
      "[250]\ttrain-rmse:0.062755\teval-rmse:0.082715\ttrain-rmspe:0.064651\teval-rmspe:0.089371\n",
      "[300]\ttrain-rmse:0.060067\teval-rmse:0.082569\ttrain-rmspe:0.061629\teval-rmspe:0.089259\n",
      "Stopping. Best iteration:\n",
      "[272]\ttrain-rmse:0.061388\teval-rmse:0.082533\ttrain-rmspe:0.063123\teval-rmspe:0.089186\n",
      "\n",
      "Validating\n",
      "RMSPE: 0.082729\n",
      "subsample, colsample_bytree:   (0.9, 0.9)\n",
      "Train a XGBoost model\n",
      "[0]\ttrain-rmse:5.78768\teval-rmse:5.78845\ttrain-rmspe:0.996923\teval-rmspe:0.996927\n",
      "Multiple eval metrics have been passed: 'eval-rmspe' will be used for early stopping.\n",
      "\n",
      "Will train until eval-rmspe hasn't improved in 30 rounds.\n",
      "[50]\ttrain-rmse:0.081493\teval-rmse:0.088271\ttrain-rmspe:0.087877\teval-rmspe:0.09593\n",
      "[100]\ttrain-rmse:0.073756\teval-rmse:0.084605\ttrain-rmspe:0.077491\teval-rmspe:0.091726\n",
      "[150]\ttrain-rmse:0.069238\teval-rmse:0.083499\ttrain-rmspe:0.072096\teval-rmspe:0.090428\n",
      "[200]\ttrain-rmse:0.065521\teval-rmse:0.082956\ttrain-rmspe:0.067753\teval-rmspe:0.089838\n",
      "[250]\ttrain-rmse:0.062341\teval-rmse:0.082588\ttrain-rmspe:0.063991\teval-rmspe:0.089393\n"
     ]
    },
    {
     "name": "stdout",
     "output_type": "stream",
     "text": [
      "[300]\ttrain-rmse:0.059854\teval-rmse:0.08248\ttrain-rmspe:0.06127\teval-rmspe:0.089186\n",
      "Stopping. Best iteration:\n",
      "[271]\ttrain-rmse:0.061207\teval-rmse:0.08249\ttrain-rmspe:0.062753\teval-rmspe:0.089178\n",
      "\n",
      "Validating\n",
      "RMSPE: 0.081835\n"
     ]
    }
   ],
   "source": [
    "seed=42\n",
    "for subsample in [0.7, 0.8, 0.9]:\n",
    "    for colsample_bytree in [0.7, 0.8, 0.9]:\n",
    "        print('subsample, colsample_bytree:  ', (subsample, colsample_bytree))\n",
    "        params = {\"objective\": \"reg:linear\",\n",
    "                  \"booster\" : \"gbtree\",\n",
    "                  \"eta\": 0.3,\n",
    "                  \"max_depth\": 10,\n",
    "                  \"subsample\": subsample,\n",
    "                  \"colsample_bytree\": colsample_bytree,\n",
    "                  \"silent\": 1,\n",
    "                  \"seed\": seed\n",
    "                  }\n",
    "        num_boost_round = 400\n",
    "        print(\"Train a XGBoost model\")\n",
    "        X_train, X_valid = train_test_split(train, test_size=0.1, random_state=10)\n",
    "\n",
    "        y_train = np.log1p(X_train.Sales)\n",
    "        y_valid = np.log1p(X_valid.Sales)\n",
    "        dtrain = xgb.DMatrix(X_train[features], y_train)\n",
    "        dvalid = xgb.DMatrix(X_valid[features], y_valid)\n",
    "\n",
    "        watchlist = [(dtrain, 'train'), (dvalid, 'eval')]\n",
    "        gbm = xgb.train(params, dtrain, num_boost_round, evals=watchlist, \\\n",
    "          early_stopping_rounds=30, feval=rmspe_xg, verbose_eval=50)\n",
    "\n",
    "\n",
    "        print(\"Validating\")\n",
    "        yhat = gbm.predict(xgb.DMatrix(X_valid[features]))\n",
    "        error = rmspe(X_valid.Sales.values, np.expm1(yhat))\n",
    "        print('RMSPE: {:.6f}'.format(error))\n"
   ]
  },
  {
   "cell_type": "markdown",
   "metadata": {},
   "source": [
    "#### lower eta to obtain a better eval_rmspe, eta=0.02 and 0.01 are good enough"
   ]
  },
  {
   "cell_type": "markdown",
   "metadata": {},
   "source": [
    "|eta       | eval-rmspe   | \n",
    "|---|----|\n",
    "|    0.3 | 0.09041 |     \n",
    "| 0.1     |   0.086487  |     \n",
    "| 0.05|   0.085552   |  \n",
    "|0.02|   0.084729  |  \n",
    "| 0.01| 0.084853 |  "
   ]
  },
  {
   "cell_type": "code",
   "execution_count": 145,
   "metadata": {
    "ExecuteTime": {
     "end_time": "2018-11-29T23:30:54.750985Z",
     "start_time": "2018-11-29T22:44:29.919041Z"
    },
    "scrolled": true
   },
   "outputs": [
    {
     "name": "stdout",
     "output_type": "stream",
     "text": [
      "eta:   0.3\n",
      "Train a XGBoost model\n",
      "[0]\ttrain-rmse:5.78768\teval-rmse:5.78845\ttrain-rmspe:0.996923\teval-rmspe:0.996927\n",
      "Multiple eval metrics have been passed: 'eval-rmspe' will be used for early stopping.\n",
      "\n",
      "Will train until eval-rmspe hasn't improved in 100 rounds.\n",
      "[150]\ttrain-rmse:0.047081\teval-rmse:0.083916\ttrain-rmspe:0.047623\teval-rmspe:0.09049\n",
      "Stopping. Best iteration:\n",
      "[125]\ttrain-rmse:0.050472\teval-rmse:0.083827\ttrain-rmspe:0.051201\teval-rmspe:0.09041\n",
      "\n",
      "eta:   0.1\n",
      "Train a XGBoost model\n",
      "[0]\ttrain-rmse:7.44034\teval-rmse:7.44133\ttrain-rmspe:0.999533\teval-rmspe:0.999533\n",
      "Multiple eval metrics have been passed: 'eval-rmspe' will be used for early stopping.\n",
      "\n",
      "Will train until eval-rmspe hasn't improved in 100 rounds.\n",
      "[150]\ttrain-rmse:0.065137\teval-rmse:0.082007\ttrain-rmspe:0.067503\teval-rmspe:0.089057\n",
      "[300]\ttrain-rmse:0.053104\teval-rmse:0.079939\ttrain-rmspe:0.054099\teval-rmspe:0.086689\n",
      "[450]\ttrain-rmse:0.046035\teval-rmse:0.07977\ttrain-rmspe:0.04659\teval-rmspe:0.086512\n",
      "Stopping. Best iteration:\n",
      "[442]\ttrain-rmse:0.046357\teval-rmse:0.07976\ttrain-rmspe:0.046928\teval-rmspe:0.086487\n",
      "\n",
      "eta:   0.05\n",
      "Train a XGBoost model\n",
      "[0]\ttrain-rmse:7.85352\teval-rmse:7.85457\ttrain-rmspe:0.999746\teval-rmspe:0.999746\n",
      "Multiple eval metrics have been passed: 'eval-rmspe' will be used for early stopping.\n",
      "\n",
      "Will train until eval-rmspe hasn't improved in 100 rounds.\n",
      "[150]\ttrain-rmse:0.078294\teval-rmse:0.088005\ttrain-rmspe:0.083336\teval-rmspe:0.095484\n",
      "[300]\ttrain-rmse:0.064719\teval-rmse:0.081472\ttrain-rmspe:0.067211\teval-rmspe:0.088401\n",
      "[450]\ttrain-rmse:0.057592\teval-rmse:0.079802\ttrain-rmspe:0.059148\teval-rmspe:0.086569\n",
      "[600]\ttrain-rmse:0.052738\teval-rmse:0.079228\ttrain-rmspe:0.05379\teval-rmspe:0.085951\n",
      "[750]\ttrain-rmse:0.048502\teval-rmse:0.078976\ttrain-rmspe:0.049232\teval-rmspe:0.085673\n",
      "[900]\ttrain-rmse:0.045043\teval-rmse:0.078909\ttrain-rmspe:0.045591\teval-rmspe:0.085585\n",
      "[1050]\ttrain-rmse:0.041967\teval-rmse:0.078911\ttrain-rmspe:0.042383\teval-rmspe:0.08557\n",
      "Stopping. Best iteration:\n",
      "[989]\ttrain-rmse:0.043235\teval-rmse:0.078896\ttrain-rmspe:0.043703\teval-rmspe:0.085552\n",
      "\n",
      "eta:   0.02\n",
      "Train a XGBoost model\n",
      "[0]\ttrain-rmse:8.10144\teval-rmse:8.10252\ttrain-rmspe:0.999838\teval-rmspe:0.999838\n",
      "Multiple eval metrics have been passed: 'eval-rmspe' will be used for early stopping.\n",
      "\n",
      "Will train until eval-rmspe hasn't improved in 100 rounds.\n",
      "[150]\ttrain-rmse:0.405168\teval-rmse:0.405807\ttrain-rmspe:0.331328\teval-rmspe:0.329553\n",
      "[300]\ttrain-rmse:0.086027\teval-rmse:0.093636\ttrain-rmspe:0.090816\teval-rmspe:0.099439\n",
      "[450]\ttrain-rmse:0.074221\teval-rmse:0.085402\ttrain-rmspe:0.078867\teval-rmspe:0.093069\n",
      "[600]\ttrain-rmse:0.068256\teval-rmse:0.082457\ttrain-rmspe:0.071422\teval-rmspe:0.08962\n",
      "[750]\ttrain-rmse:0.064012\teval-rmse:0.080865\ttrain-rmspe:0.066427\teval-rmspe:0.087785\n",
      "[900]\ttrain-rmse:0.061105\teval-rmse:0.080092\ttrain-rmspe:0.063113\teval-rmspe:0.086952\n",
      "[1050]\ttrain-rmse:0.05844\teval-rmse:0.079477\ttrain-rmspe:0.060094\teval-rmspe:0.086251\n",
      "[1200]\ttrain-rmse:0.056157\teval-rmse:0.079092\ttrain-rmspe:0.057542\teval-rmspe:0.08581\n",
      "[1350]\ttrain-rmse:0.054036\teval-rmse:0.078788\ttrain-rmspe:0.055222\teval-rmspe:0.085459\n",
      "[1500]\ttrain-rmse:0.052214\teval-rmse:0.078593\ttrain-rmspe:0.053244\teval-rmspe:0.085235\n",
      "[1650]\ttrain-rmse:0.050597\teval-rmse:0.078461\ttrain-rmspe:0.051497\teval-rmspe:0.085098\n",
      "[1800]\ttrain-rmse:0.049058\teval-rmse:0.078368\ttrain-rmspe:0.049847\teval-rmspe:0.084956\n",
      "[1950]\ttrain-rmse:0.047658\teval-rmse:0.078312\ttrain-rmspe:0.048359\teval-rmspe:0.08488\n",
      "[2100]\ttrain-rmse:0.046137\teval-rmse:0.078239\ttrain-rmspe:0.046752\teval-rmspe:0.084794\n",
      "[2250]\ttrain-rmse:0.044793\teval-rmse:0.078223\ttrain-rmspe:0.045338\teval-rmspe:0.084774\n",
      "[2400]\ttrain-rmse:0.043527\teval-rmse:0.078214\ttrain-rmspe:0.044014\teval-rmspe:0.08476\n",
      "[2550]\ttrain-rmse:0.042301\teval-rmse:0.078212\ttrain-rmspe:0.042735\teval-rmspe:0.084744\n",
      "[2700]\ttrain-rmse:0.041145\teval-rmse:0.078224\ttrain-rmspe:0.041537\teval-rmspe:0.08475\n",
      "Stopping. Best iteration:\n",
      "[2652]\ttrain-rmse:0.041504\teval-rmse:0.07821\ttrain-rmspe:0.041908\teval-rmspe:0.084729\n",
      "\n",
      "eta:   0.01\n",
      "Train a XGBoost model\n",
      "[0]\ttrain-rmse:8.18408\teval-rmse:8.18517\ttrain-rmspe:0.999864\teval-rmspe:0.999864\n",
      "Multiple eval metrics have been passed: 'eval-rmspe' will be used for early stopping.\n",
      "\n",
      "Will train until eval-rmspe hasn't improved in 100 rounds.\n",
      "[150]\ttrain-rmse:1.81675\teval-rmse:1.81707\ttrain-rmspe:0.835232\teval-rmspe:0.835053\n",
      "[300]\ttrain-rmse:0.414994\teval-rmse:0.415595\ttrain-rmspe:0.337705\teval-rmspe:0.336024\n",
      "[450]\ttrain-rmse:0.12781\teval-rmse:0.131792\ttrain-rmspe:0.12334\teval-rmspe:0.126281\n",
      "[600]\ttrain-rmse:0.086335\teval-rmse:0.093914\ttrain-rmspe:0.091232\teval-rmspe:0.099715\n",
      "[750]\ttrain-rmse:0.078731\teval-rmse:0.088251\ttrain-rmspe:0.084465\teval-rmspe:0.096006\n",
      "[900]\ttrain-rmse:0.074308\teval-rmse:0.085467\ttrain-rmspe:0.078999\teval-rmspe:0.09312\n",
      "[1050]\ttrain-rmse:0.070806\teval-rmse:0.083571\ttrain-rmspe:0.074522\teval-rmspe:0.09091\n",
      "[1200]\ttrain-rmse:0.068215\teval-rmse:0.082342\ttrain-rmspe:0.07139\teval-rmspe:0.089503\n",
      "[1350]\ttrain-rmse:0.066118\teval-rmse:0.081519\ttrain-rmspe:0.068921\teval-rmspe:0.088609\n",
      "[1500]\ttrain-rmse:0.064205\teval-rmse:0.08087\ttrain-rmspe:0.066703\teval-rmspe:0.087896\n",
      "[1650]\ttrain-rmse:0.062567\teval-rmse:0.08038\ttrain-rmspe:0.064832\teval-rmspe:0.087351\n",
      "[1800]\ttrain-rmse:0.061114\teval-rmse:0.079995\ttrain-rmspe:0.063159\teval-rmspe:0.086913\n",
      "[1950]\ttrain-rmse:0.059743\teval-rmse:0.079673\ttrain-rmspe:0.061618\teval-rmspe:0.086559\n",
      "[2100]\ttrain-rmse:0.058454\teval-rmse:0.079411\ttrain-rmspe:0.060167\teval-rmspe:0.086278\n",
      "[2250]\ttrain-rmse:0.057299\teval-rmse:0.079189\ttrain-rmspe:0.05888\teval-rmspe:0.086027\n",
      "[2400]\ttrain-rmse:0.056231\teval-rmse:0.079045\ttrain-rmspe:0.057688\teval-rmspe:0.085862\n",
      "[2550]\ttrain-rmse:0.055174\teval-rmse:0.078888\ttrain-rmspe:0.05652\teval-rmspe:0.085705\n",
      "[2700]\ttrain-rmse:0.05422\teval-rmse:0.078784\ttrain-rmspe:0.055469\teval-rmspe:0.08559\n",
      "[2850]\ttrain-rmse:0.053246\teval-rmse:0.078672\ttrain-rmspe:0.054398\teval-rmspe:0.085454\n",
      "[3000]\ttrain-rmse:0.052315\teval-rmse:0.078577\ttrain-rmspe:0.053382\teval-rmspe:0.085354\n",
      "[3150]\ttrain-rmse:0.051483\teval-rmse:0.078505\ttrain-rmspe:0.052484\teval-rmspe:0.085267\n",
      "[3300]\ttrain-rmse:0.050654\teval-rmse:0.07844\ttrain-rmspe:0.05159\teval-rmspe:0.085193\n",
      "[3450]\ttrain-rmse:0.049791\teval-rmse:0.078378\ttrain-rmspe:0.050657\teval-rmspe:0.085122\n",
      "[3600]\ttrain-rmse:0.049003\teval-rmse:0.078342\ttrain-rmspe:0.04981\teval-rmspe:0.085075\n",
      "[3750]\ttrain-rmse:0.048244\teval-rmse:0.078304\ttrain-rmspe:0.048993\teval-rmspe:0.085028\n",
      "[3900]\ttrain-rmse:0.047496\teval-rmse:0.078265\ttrain-rmspe:0.048196\teval-rmspe:0.084985\n",
      "[4050]\ttrain-rmse:0.046816\teval-rmse:0.078252\ttrain-rmspe:0.047477\teval-rmspe:0.084967\n",
      "[4200]\ttrain-rmse:0.046113\teval-rmse:0.078227\ttrain-rmspe:0.046738\teval-rmspe:0.084937\n",
      "[4350]\ttrain-rmse:0.045447\teval-rmse:0.078211\ttrain-rmspe:0.046035\teval-rmspe:0.084911\n",
      "[4500]\ttrain-rmse:0.044754\teval-rmse:0.078198\ttrain-rmspe:0.045305\teval-rmspe:0.084891\n",
      "[4650]\ttrain-rmse:0.044093\teval-rmse:0.078183\ttrain-rmspe:0.044613\teval-rmspe:0.084864\n",
      "[4800]\ttrain-rmse:0.043463\teval-rmse:0.07818\ttrain-rmspe:0.043951\teval-rmspe:0.084863\n",
      "Stopping. Best iteration:\n",
      "[4731]\ttrain-rmse:0.043749\teval-rmse:0.078176\ttrain-rmspe:0.044252\teval-rmspe:0.084853\n",
      "\n"
     ]
    }
   ],
   "source": [
    "seed=42\n",
    "for eta in [0.3, 0.1, 0.05, 0.02, 0.01]:\n",
    "    print('eta:  ', eta)\n",
    "    params = {\"objective\": \"reg:linear\",\n",
    "              \"booster\" : \"gbtree\",\n",
    "              \"eta\": eta,\n",
    "              \"max_depth\": 13,\n",
    "              \"subsample\": 0.9,\n",
    "              \"colsample_bytree\": 0.9,\n",
    "              \"silent\": 1,\n",
    "              \"seed\": seed\n",
    "              }\n",
    "    num_boost_round = 20000\n",
    "    print(\"Train a XGBoost model\")\n",
    "    X_train, X_valid = train_test_split(train, test_size=0.1, random_state=10)\n",
    "\n",
    "    y_train = np.log1p(X_train.Sales)\n",
    "    y_valid = np.log1p(X_valid.Sales)\n",
    "    dtrain = xgb.DMatrix(X_train[features], y_train)\n",
    "    dvalid = xgb.DMatrix(X_valid[features], y_valid)\n",
    "\n",
    "    watchlist = [(dtrain, 'train'), (dvalid, 'eval')]\n",
    "    gbm = xgb.train(params, dtrain, num_boost_round, evals=watchlist, \\\n",
    "      early_stopping_rounds=100, feval=rmspe_xg, verbose_eval=150)\n"
   ]
  },
  {
   "cell_type": "markdown",
   "metadata": {},
   "source": [
    "#### Split Train Data into Train and Valid Data"
   ]
  },
  {
   "cell_type": "markdown",
   "metadata": {},
   "source": [
    "Split train data based on time and to compare results：  \n",
    "2015-06-01  \n",
    "2015-07-01    \n",
    "2015-07-15 "
   ]
  },
  {
   "cell_type": "markdown",
   "metadata": {},
   "source": [
    "#####  split train data based on 2015-06-01  and change eta at the same time.  \n",
    "  "
   ]
  },
  {
   "cell_type": "code",
   "execution_count": 7,
   "metadata": {
    "code_folding": [],
    "scrolled": true
   },
   "outputs": [
    {
     "name": "stdout",
     "output_type": "stream",
     "text": [
      "Train a XGBoost model\n",
      "[0]\ttrain-rmse:7.43883\teval-rmse:7.46511\ttrain-rmspe:0.999532\teval-rmspe:0.999547\n",
      "Multiple eval metrics have been passed: 'eval-rmspe' will be used for early stopping.\n",
      "\n",
      "Will train until eval-rmspe hasn't improved in 150 rounds.\n",
      "[100]\ttrain-rmse:0.086092\teval-rmse:0.116957\ttrain-rmspe:0.122788\teval-rmspe:0.12452\n",
      "[200]\ttrain-rmse:0.078108\teval-rmse:0.119037\ttrain-rmspe:0.088335\teval-rmspe:0.127484\n",
      "Stopping. Best iteration:\n",
      "[51]\ttrain-rmse:0.103853\teval-rmse:0.115726\ttrain-rmspe:0.151372\teval-rmspe:0.11568\n",
      "\n",
      "Validating\n",
      "RMSPE: 0.127481\n",
      "Make predictions on the test set\n",
      "Train a XGBoost model\n",
      "[0]\ttrain-rmse:5.78655\teval-rmse:5.81204\ttrain-rmspe:0.996919\teval-rmspe:0.99701\n",
      "Multiple eval metrics have been passed: 'eval-rmspe' will be used for early stopping.\n",
      "\n",
      "Will train until eval-rmspe hasn't improved in 150 rounds.\n",
      "[100]\ttrain-rmse:0.075211\teval-rmse:0.122895\ttrain-rmspe:0.08098\teval-rmspe:0.132372\n",
      "Stopping. Best iteration:\n",
      "[14]\ttrain-rmse:0.107152\teval-rmse:0.120237\ttrain-rmspe:0.156101\teval-rmspe:0.121299\n",
      "\n",
      "Validating\n",
      "RMSPE: 0.133914\n",
      "Make predictions on the test set\n",
      "Train a XGBoost model\n",
      "[0]\ttrain-rmse:7.85192\teval-rmse:7.8784\ttrain-rmspe:0.999745\teval-rmspe:0.999754\n",
      "Multiple eval metrics have been passed: 'eval-rmspe' will be used for early stopping.\n",
      "\n",
      "Will train until eval-rmspe hasn't improved in 150 rounds.\n",
      "[100]\ttrain-rmse:0.108251\teval-rmse:0.116165\ttrain-rmspe:0.141251\teval-rmspe:0.114614\n",
      "[200]\ttrain-rmse:0.085617\teval-rmse:0.113999\ttrain-rmspe:0.130859\teval-rmspe:0.121844\n",
      "Stopping. Best iteration:\n",
      "[104]\ttrain-rmse:0.104238\teval-rmse:0.114115\ttrain-rmspe:0.13978\teval-rmspe:0.114122\n",
      "\n",
      "Validating\n",
      "RMSPE: 0.122469\n",
      "Make predictions on the test set\n",
      "Train a XGBoost model\n",
      "[0]\ttrain-rmse:8.09978\teval-rmse:8.12637\ttrain-rmspe:0.999838\teval-rmspe:0.999843\n",
      "Multiple eval metrics have been passed: 'eval-rmspe' will be used for early stopping.\n",
      "\n",
      "Will train until eval-rmspe hasn't improved in 150 rounds.\n",
      "[100]\ttrain-rmse:1.08134\teval-rmse:1.09052\ttrain-rmspe:0.658069\teval-rmspe:0.660106\n",
      "[200]\ttrain-rmse:0.175552\teval-rmse:0.173762\ttrain-rmspe:0.182031\teval-rmspe:0.155875\n",
      "[300]\ttrain-rmse:0.096306\teval-rmse:0.111781\ttrain-rmspe:0.135942\teval-rmspe:0.11522\n",
      "[400]\ttrain-rmse:0.089382\teval-rmse:0.112852\ttrain-rmspe:0.132339\teval-rmspe:0.119724\n",
      "Stopping. Best iteration:\n",
      "[270]\ttrain-rmse:0.102518\teval-rmse:0.113565\ttrain-rmspe:0.138401\teval-rmspe:0.113896\n",
      "\n",
      "Validating\n",
      "RMSPE: 0.120088\n",
      "Make predictions on the test set\n",
      "Train a XGBoost model\n",
      "[0]\ttrain-rmse:8.1824\teval-rmse:8.20903\ttrain-rmspe:0.999864\teval-rmspe:0.999868\n",
      "Multiple eval metrics have been passed: 'eval-rmspe' will be used for early stopping.\n",
      "\n",
      "Will train until eval-rmspe hasn't improved in 150 rounds.\n",
      "[100]\ttrain-rmse:2.99831\teval-rmse:3.02098\ttrain-rmspe:0.948938\teval-rmspe:0.950222\n",
      "[200]\ttrain-rmse:1.10328\teval-rmse:1.11213\ttrain-rmspe:0.665374\teval-rmspe:0.667362\n",
      "[300]\ttrain-rmse:0.41625\teval-rmse:0.412584\ttrain-rmspe:0.343594\teval-rmspe:0.332238\n",
      "[400]\ttrain-rmse:0.179347\teval-rmse:0.17514\ttrain-rmspe:0.18482\teval-rmspe:0.156891\n",
      "[500]\ttrain-rmse:0.111879\teval-rmse:0.118081\ttrain-rmspe:0.142263\teval-rmspe:0.115067\n",
      "[600]\ttrain-rmse:0.096746\teval-rmse:0.111829\ttrain-rmspe:0.136331\teval-rmspe:0.11525\n",
      "Stopping. Best iteration:\n",
      "[538]\ttrain-rmse:0.103519\teval-rmse:0.113527\ttrain-rmspe:0.138664\teval-rmspe:0.113628\n",
      "\n",
      "Validating\n",
      "RMSPE: 0.117630\n",
      "Make predictions on the test set\n",
      "Train a XGBoost model\n",
      "[0]\ttrain-rmse:8.22371\teval-rmse:8.25036\ttrain-rmspe:0.999876\teval-rmspe:0.99988\n",
      "Multiple eval metrics have been passed: 'eval-rmspe' will be used for early stopping.\n",
      "\n",
      "Will train until eval-rmspe hasn't improved in 150 rounds.\n",
      "[100]\ttrain-rmse:4.98347\teval-rmse:5.00838\ttrain-rmspe:0.992974\teval-rmspe:0.993176\n",
      "[200]\ttrain-rmse:3.02094\teval-rmse:3.0433\ttrain-rmspe:0.950088\teval-rmspe:0.951327\n",
      "[300]\ttrain-rmse:1.83289\teval-rmse:1.8499\ttrain-rmspe:0.837632\teval-rmspe:0.840438\n",
      "[400]\ttrain-rmse:1.11435\teval-rmse:1.12399\ttrain-rmspe:0.669056\teval-rmspe:0.671273\n",
      "[500]\ttrain-rmse:0.680917\teval-rmse:0.683547\ttrain-rmspe:0.492482\teval-rmspe:0.490133\n",
      "[600]\ttrain-rmse:0.421227\teval-rmse:0.41925\ttrain-rmspe:0.346357\teval-rmspe:0.336644\n",
      "[700]\ttrain-rmse:0.268226\teval-rmse:0.264315\ttrain-rmspe:0.244765\teval-rmspe:0.226651\n",
      "[800]\ttrain-rmse:0.181388\teval-rmse:0.178928\ttrain-rmspe:0.185305\teval-rmspe:0.159934\n",
      "[900]\ttrain-rmse:0.135103\teval-rmse:0.136643\ttrain-rmspe:0.155632\teval-rmspe:0.127217\n",
      "[1000]\ttrain-rmse:0.112494\teval-rmse:0.11935\ttrain-rmspe:0.143573\teval-rmspe:0.115949\n",
      "[1100]\ttrain-rmse:0.102003\teval-rmse:0.113458\ttrain-rmspe:0.139241\teval-rmspe:0.113959\n",
      "[1200]\ttrain-rmse:0.09703\teval-rmse:0.111942\ttrain-rmspe:0.137512\teval-rmspe:0.114889\n",
      "Stopping. Best iteration:\n",
      "[1110]\ttrain-rmse:0.101335\teval-rmse:0.113146\ttrain-rmspe:0.139022\teval-rmspe:0.113948\n",
      "\n",
      "Validating\n",
      "RMSPE: 0.115658\n",
      "Make predictions on the test set\n"
     ]
    }
   ],
   "source": [
    "seed=42\n",
    "for i in [0.05, 0.02, 0.01]:\n",
    "    params = {\"objective\": \"reg:linear\",\n",
    "              \"booster\" : \"gbtree\",\n",
    "              \"eta\": i,\n",
    "              \"max_depth\": 10,\n",
    "              \"subsample\": 0.9,\n",
    "              \"colsample_bytree\": 0.7,\n",
    "              \"silent\": 1,\n",
    "              \"seed\": seed\n",
    "              }\n",
    "    num_boost_round = 20000\n",
    "    #0.1 [52]\ttrain-rmse:0.101232\teval-rmse:0.112216\ttrain-rmspe:0.14783\teval-rmspe:0.113482\n",
    "\n",
    "    print(\"Train a XGBoost model\")\n",
    "    #     X_train, X_valid = train_test_split(train, test_size=0.012, random_state=10)\n",
    "    X_train = train.loc[~(train.Date>'2015-06-01')]\n",
    "    X_valid = train.loc[(train.Date>'2015-06-01')]\n",
    "    y_train = np.log1p(X_train.Sales)\n",
    "    y_valid = np.log1p(X_valid.Sales)\n",
    "    dtrain = xgb.DMatrix(X_train[features], y_train)\n",
    "    dvalid = xgb.DMatrix(X_valid[features], y_valid)\n",
    "\n",
    "    watchlist = [(dtrain, 'train'), (dvalid, 'eval')]\n",
    "    gbm = xgb.train(params, dtrain, num_boost_round, evals=watchlist, \\\n",
    "      early_stopping_rounds=150, feval=rmspe_xg, verbose_eval=100)\n",
    "\n",
    "\n",
    "    print(\"Validating\")\n",
    "    yhat = gbm.predict(xgb.DMatrix(X_valid[features]))\n",
    "    error = rmspe(X_valid.Sales.values, np.expm1(yhat))\n",
    "    print('RMSPE: {:.6f}'.format(error))\n",
    "\n",
    "    print(\"Make predictions on the test set\")\n",
    "    dtest = xgb.DMatrix(test[features])\n",
    "    test_probs = gbm.predict(dtest)\n",
    "    # Make Submission\n",
    "    result = pd.DataFrame({\"Id\": test[\"Id\"], 'Sales': np.expm1(test_probs)})\n",
    "    result.to_csv('eta'+str(i)+str(seed)+\"time_considered_three_features_submission.csv\", index=False)"
   ]
  },
  {
   "cell_type": "markdown",
   "metadata": {},
   "source": [
    "##### split train data based on 2015-07-01 and change eta at the same time. "
   ]
  },
  {
   "cell_type": "code",
   "execution_count": 5,
   "metadata": {},
   "outputs": [
    {
     "name": "stdout",
     "output_type": "stream",
     "text": [
      "Train a XGBoost model\n",
      "[0]\ttrain-rmse:7.43996\teval-rmse:7.45507\ttrain-rmspe:0.999532\teval-rmspe:0.999543\n",
      "Multiple eval metrics have been passed: 'eval-rmspe' will be used for early stopping.\n",
      "\n",
      "Will train until eval-rmspe hasn't improved in 300 rounds.\n",
      "[100]\ttrain-rmse:0.085864\teval-rmse:0.11315\ttrain-rmspe:0.118574\teval-rmspe:0.116895\n",
      "[200]\ttrain-rmse:0.078067\teval-rmse:0.112699\ttrain-rmspe:0.092505\teval-rmspe:0.116214\n",
      "[300]\ttrain-rmse:0.0737\teval-rmse:0.112397\ttrain-rmspe:0.07936\teval-rmspe:0.115982\n",
      "[400]\ttrain-rmse:0.07048\teval-rmse:0.112405\ttrain-rmspe:0.074835\teval-rmspe:0.115972\n",
      "[500]\ttrain-rmse:0.067888\teval-rmse:0.112584\ttrain-rmspe:0.07128\teval-rmspe:0.116186\n",
      "[600]\ttrain-rmse:0.065622\teval-rmse:0.112717\ttrain-rmspe:0.068431\teval-rmspe:0.116339\n",
      "[700]\ttrain-rmse:0.063607\teval-rmse:0.112879\ttrain-rmspe:0.066012\teval-rmspe:0.116522\n",
      "Stopping. Best iteration:\n",
      "[420]\ttrain-rmse:0.069903\teval-rmse:0.112328\ttrain-rmspe:0.073923\teval-rmspe:0.115867\n",
      "\n",
      "Validating\n",
      "RMSPE: 0.116508\n",
      "Make predictions on the test set\n",
      "Train a XGBoost model\n",
      "[0]\ttrain-rmse:5.7874\teval-rmse:5.80149\ttrain-rmspe:0.996922\teval-rmspe:0.996985\n",
      "Multiple eval metrics have been passed: 'eval-rmspe' will be used for early stopping.\n",
      "\n",
      "Will train until eval-rmspe hasn't improved in 300 rounds.\n",
      "[100]\ttrain-rmse:0.074573\teval-rmse:0.118646\ttrain-rmspe:0.079227\teval-rmspe:0.124533\n",
      "[200]\ttrain-rmse:0.066706\teval-rmse:0.120144\ttrain-rmspe:0.069466\teval-rmspe:0.126297\n",
      "[300]\ttrain-rmse:0.061412\teval-rmse:0.120702\ttrain-rmspe:0.063316\teval-rmspe:0.126923\n",
      "Stopping. Best iteration:\n",
      "[17]\ttrain-rmse:0.097382\teval-rmse:0.120651\ttrain-rmspe:0.139114\teval-rmspe:0.123296\n",
      "\n",
      "Validating\n",
      "RMSPE: 0.127103\n",
      "Make predictions on the test set\n",
      "Train a XGBoost model\n",
      "[0]\ttrain-rmse:7.85313\teval-rmse:7.86849\ttrain-rmspe:0.999746\teval-rmspe:0.999752\n",
      "Multiple eval metrics have been passed: 'eval-rmspe' will be used for early stopping.\n",
      "\n",
      "Will train until eval-rmspe hasn't improved in 300 rounds.\n",
      "[100]\ttrain-rmse:0.108086\teval-rmse:0.12494\ttrain-rmspe:0.140009\teval-rmspe:0.120746\n",
      "[200]\ttrain-rmse:0.085723\teval-rmse:0.112299\ttrain-rmspe:0.125362\teval-rmspe:0.116422\n",
      "[300]\ttrain-rmse:0.080632\teval-rmse:0.111531\ttrain-rmspe:0.119524\teval-rmspe:0.115712\n",
      "[400]\ttrain-rmse:0.077577\teval-rmse:0.111243\ttrain-rmspe:0.094551\teval-rmspe:0.115454\n",
      "[500]\ttrain-rmse:0.075462\teval-rmse:0.111153\ttrain-rmspe:0.08574\teval-rmspe:0.115547\n",
      "[600]\ttrain-rmse:0.073506\teval-rmse:0.111216\ttrain-rmspe:0.081604\teval-rmspe:0.115604\n",
      "[700]\ttrain-rmse:0.071754\teval-rmse:0.111335\ttrain-rmspe:0.077565\teval-rmspe:0.115777\n",
      "Stopping. Best iteration:\n",
      "[416]\ttrain-rmse:0.07722\teval-rmse:0.11117\ttrain-rmspe:0.092877\teval-rmspe:0.115383\n",
      "\n",
      "Validating\n",
      "RMSPE: 0.115880\n",
      "Make predictions on the test set\n",
      "Train a XGBoost model\n",
      "[0]\ttrain-rmse:8.10103\teval-rmse:8.11654\ttrain-rmspe:0.999838\teval-rmspe:0.999842\n",
      "Multiple eval metrics have been passed: 'eval-rmspe' will be used for early stopping.\n",
      "\n",
      "Will train until eval-rmspe hasn't improved in 300 rounds.\n",
      "[100]\ttrain-rmse:1.08155\teval-rmse:1.08511\ttrain-rmspe:0.658002\teval-rmspe:0.658093\n",
      "[200]\ttrain-rmse:0.175574\teval-rmse:0.182017\ttrain-rmspe:0.179237\teval-rmspe:0.162159\n",
      "[300]\ttrain-rmse:0.096441\teval-rmse:0.116793\ttrain-rmspe:0.132256\teval-rmspe:0.117562\n",
      "[400]\ttrain-rmse:0.089495\teval-rmse:0.114026\ttrain-rmspe:0.128134\teval-rmspe:0.117893\n",
      "[500]\ttrain-rmse:0.085904\teval-rmse:0.112656\ttrain-rmspe:0.120325\teval-rmspe:0.116917\n",
      "[600]\ttrain-rmse:0.083321\teval-rmse:0.111918\ttrain-rmspe:0.114242\teval-rmspe:0.116154\n",
      "[700]\ttrain-rmse:0.081431\teval-rmse:0.111594\ttrain-rmspe:0.104698\teval-rmspe:0.115785\n",
      "[800]\ttrain-rmse:0.07978\teval-rmse:0.111376\ttrain-rmspe:0.099757\teval-rmspe:0.115569\n",
      "[900]\ttrain-rmse:0.078659\teval-rmse:0.111313\ttrain-rmspe:0.095693\teval-rmspe:0.11555\n",
      "[1000]\ttrain-rmse:0.07747\teval-rmse:0.111256\ttrain-rmspe:0.090949\teval-rmspe:0.115517\n",
      "[1100]\ttrain-rmse:0.0764\teval-rmse:0.111052\ttrain-rmspe:0.087009\teval-rmspe:0.115288\n",
      "[1200]\ttrain-rmse:0.075454\teval-rmse:0.111001\ttrain-rmspe:0.084545\teval-rmspe:0.115299\n",
      "[1300]\ttrain-rmse:0.074514\teval-rmse:0.111009\ttrain-rmspe:0.082349\teval-rmspe:0.115336\n",
      "[1400]\ttrain-rmse:0.073727\teval-rmse:0.110962\ttrain-rmspe:0.081042\teval-rmspe:0.115334\n",
      "Stopping. Best iteration:\n",
      "[1108]\ttrain-rmse:0.076328\teval-rmse:0.111039\ttrain-rmspe:0.086579\teval-rmspe:0.11528\n",
      "\n",
      "Validating\n",
      "RMSPE: 0.115324\n",
      "Make predictions on the test set\n",
      "Train a XGBoost model\n",
      "[0]\ttrain-rmse:8.18367\teval-rmse:8.19922\ttrain-rmspe:0.999864\teval-rmspe:0.999867\n",
      "Multiple eval metrics have been passed: 'eval-rmspe' will be used for early stopping.\n",
      "\n",
      "Will train until eval-rmspe hasn't improved in 300 rounds.\n",
      "[100]\ttrain-rmse:2.99885\teval-rmse:3.00927\ttrain-rmspe:0.948949\teval-rmspe:0.949639\n",
      "[200]\ttrain-rmse:1.10347\teval-rmse:1.10818\ttrain-rmspe:0.665409\teval-rmspe:0.665957\n",
      "[300]\ttrain-rmse:0.416288\teval-rmse:0.418142\ttrain-rmspe:0.34275\teval-rmspe:0.335436\n",
      "[400]\ttrain-rmse:0.179323\teval-rmse:0.18714\ttrain-rmspe:0.182324\teval-rmspe:0.166075\n",
      "[500]\ttrain-rmse:0.11195\teval-rmse:0.127795\ttrain-rmspe:0.142253\teval-rmspe:0.12188\n",
      "[600]\ttrain-rmse:0.096798\teval-rmse:0.116892\ttrain-rmspe:0.135827\teval-rmspe:0.117126\n",
      "[700]\ttrain-rmse:0.092305\teval-rmse:0.11484\ttrain-rmspe:0.133547\teval-rmspe:0.117439\n",
      "[800]\ttrain-rmse:0.089643\teval-rmse:0.113897\ttrain-rmspe:0.13159\teval-rmspe:0.117452\n",
      "[900]\ttrain-rmse:0.087678\teval-rmse:0.113035\ttrain-rmspe:0.129769\teval-rmspe:0.116857\n",
      "[1000]\ttrain-rmse:0.08583\teval-rmse:0.112412\ttrain-rmspe:0.126714\teval-rmspe:0.116421\n",
      "[1100]\ttrain-rmse:0.08438\teval-rmse:0.112087\ttrain-rmspe:0.124243\teval-rmspe:0.116194\n",
      "[1200]\ttrain-rmse:0.083329\teval-rmse:0.111849\ttrain-rmspe:0.122125\teval-rmspe:0.115894\n",
      "[1300]\ttrain-rmse:0.082321\teval-rmse:0.111754\ttrain-rmspe:0.117922\teval-rmspe:0.115782\n",
      "[1400]\ttrain-rmse:0.081429\teval-rmse:0.111735\ttrain-rmspe:0.114388\teval-rmspe:0.115753\n",
      "[1500]\ttrain-rmse:0.080744\teval-rmse:0.111644\ttrain-rmspe:0.110921\teval-rmspe:0.115672\n",
      "[1600]\ttrain-rmse:0.07999\teval-rmse:0.111499\ttrain-rmspe:0.109218\teval-rmspe:0.115513\n",
      "[1700]\ttrain-rmse:0.079308\teval-rmse:0.111458\ttrain-rmspe:0.105787\teval-rmspe:0.115445\n",
      "[1800]\ttrain-rmse:0.078664\teval-rmse:0.111443\ttrain-rmspe:0.100857\teval-rmspe:0.115446\n",
      "[1900]\ttrain-rmse:0.078067\teval-rmse:0.111365\ttrain-rmspe:0.098226\teval-rmspe:0.115389\n",
      "[2000]\ttrain-rmse:0.077499\teval-rmse:0.11136\ttrain-rmspe:0.094719\teval-rmspe:0.115419\n",
      "[2100]\ttrain-rmse:0.076984\teval-rmse:0.11138\ttrain-rmspe:0.091609\teval-rmspe:0.115451\n",
      "[2200]\ttrain-rmse:0.076472\teval-rmse:0.111321\ttrain-rmspe:0.089869\teval-rmspe:0.115389\n",
      "Stopping. Best iteration:\n",
      "[1917]\ttrain-rmse:0.077988\teval-rmse:0.111348\ttrain-rmspe:0.098118\teval-rmspe:0.115372\n",
      "\n",
      "Validating\n",
      "RMSPE: 0.115405\n",
      "Make predictions on the test set\n",
      "Train a XGBoost model\n",
      "[0]\ttrain-rmse:8.22498\teval-rmse:8.24056\ttrain-rmspe:0.999876\teval-rmspe:0.999879\n",
      "Multiple eval metrics have been passed: 'eval-rmspe' will be used for early stopping.\n",
      "\n",
      "Will train until eval-rmspe hasn't improved in 300 rounds.\n",
      "[100]\ttrain-rmse:4.98432\teval-rmse:4.99729\ttrain-rmspe:0.992977\teval-rmspe:0.993108\n",
      "[200]\ttrain-rmse:3.02146\teval-rmse:3.03225\ttrain-rmspe:0.950102\teval-rmspe:0.950801\n",
      "[300]\ttrain-rmse:1.83313\teval-rmse:1.84071\ttrain-rmspe:0.837679\teval-rmspe:0.83898\n",
      "[400]\ttrain-rmse:1.11447\teval-rmse:1.11833\ttrain-rmspe:0.669031\teval-rmspe:0.669339\n",
      "[500]\ttrain-rmse:0.680935\teval-rmse:0.68203\ttrain-rmspe:0.49239\teval-rmspe:0.489123\n",
      "[600]\ttrain-rmse:0.421185\teval-rmse:0.422028\ttrain-rmspe:0.346165\teval-rmspe:0.338019\n",
      "[700]\ttrain-rmse:0.268122\teval-rmse:0.271136\ttrain-rmspe:0.244131\teval-rmspe:0.231244\n",
      "[800]\ttrain-rmse:0.181183\teval-rmse:0.187958\ttrain-rmspe:0.183821\teval-rmspe:0.166649\n",
      "[900]\ttrain-rmse:0.135025\teval-rmse:0.146044\ttrain-rmspe:0.154233\teval-rmspe:0.134239\n",
      "[1000]\ttrain-rmse:0.112396\teval-rmse:0.127525\ttrain-rmspe:0.141983\teval-rmspe:0.12161\n",
      "[1100]\ttrain-rmse:0.101926\teval-rmse:0.12005\ttrain-rmspe:0.137558\teval-rmspe:0.117914\n",
      "[1200]\ttrain-rmse:0.096886\teval-rmse:0.116957\ttrain-rmspe:0.135843\teval-rmspe:0.117188\n",
      "[1300]\ttrain-rmse:0.094096\teval-rmse:0.115496\ttrain-rmspe:0.134885\teval-rmspe:0.117175\n",
      "[1400]\ttrain-rmse:0.092217\teval-rmse:0.114757\ttrain-rmspe:0.133444\teval-rmspe:0.117351\n",
      "[1500]\ttrain-rmse:0.090854\teval-rmse:0.114165\ttrain-rmspe:0.13187\teval-rmspe:0.117297\n",
      "Stopping. Best iteration:\n",
      "[1290]\ttrain-rmse:0.094345\teval-rmse:0.115588\ttrain-rmspe:0.13502\teval-rmspe:0.11715\n",
      "\n"
     ]
    },
    {
     "name": "stdout",
     "output_type": "stream",
     "text": [
      "Validating\n",
      "RMSPE: 0.117298\n",
      "Make predictions on the test set\n"
     ]
    }
   ],
   "source": [
    "for i in [0.1, 0.3, 0.05, 0.02, 0.01, 0.005]:\n",
    "    params = {\"objective\": \"reg:linear\",\n",
    "              \"booster\" : \"gbtree\",\n",
    "              \"eta\": i,\n",
    "              \"max_depth\": 10,\n",
    "              \"subsample\": 0.9,\n",
    "              \"colsample_bytree\": 0.7,\n",
    "              \"silent\": 1,\n",
    "              \"seed\": seed\n",
    "              }\n",
    "    num_boost_round = 10000\n",
    "    #0.1 [52]\ttrain-rmse:0.101232\teval-rmse:0.112216\ttrain-rmspe:0.14783\teval-rmspe:0.113482\n",
    "\n",
    "    print(\"Train a XGBoost model\")\n",
    "    #     X_train, X_valid = train_test_split(train, test_size=0.012, random_state=10)\n",
    "    X_train = train.loc[~(train.Date>'2015-07-01')]\n",
    "    X_valid = train.loc[(train.Date>'2015-07-01')]\n",
    "    y_train = np.log1p(X_train.Sales)\n",
    "    y_valid = np.log1p(X_valid.Sales)\n",
    "    dtrain = xgb.DMatrix(X_train[features], y_train)\n",
    "    dvalid = xgb.DMatrix(X_valid[features], y_valid)\n",
    "\n",
    "    watchlist = [(dtrain, 'train'), (dvalid, 'eval')]\n",
    "    gbm = xgb.train(params, dtrain, num_boost_round, evals=watchlist, \\\n",
    "      early_stopping_rounds=300, feval=rmspe_xg, verbose_eval=100)\n",
    "\n",
    "\n",
    "    print(\"Validating\")\n",
    "    yhat = gbm.predict(xgb.DMatrix(X_valid[features]))\n",
    "    error = rmspe(X_valid.Sales.values, np.expm1(yhat))\n",
    "    print('RMSPE: {:.6f}'.format(error))\n",
    "\n",
    "    print(\"Make predictions on the test set\")\n",
    "    dtest = xgb.DMatrix(test[features])\n",
    "    test_probs = gbm.predict(dtest)\n",
    "    # Make Submission\n",
    "    result = pd.DataFrame({\"Id\": test[\"Id\"], 'Sales': np.expm1(test_probs)})\n",
    "    result.to_csv('moredata'+'eta'+str(i)+str(seed)+\"time_considered_three.csv\", index=False)"
   ]
  },
  {
   "cell_type": "markdown",
   "metadata": {},
   "source": [
    "##### split train data based on 2015-07-15 and change eta at the same time. "
   ]
  },
  {
   "cell_type": "code",
   "execution_count": 6,
   "metadata": {
    "ExecuteTime": {
     "end_time": "2018-11-22T22:21:22.586922Z",
     "start_time": "2018-11-22T20:47:57.909734Z"
    },
    "scrolled": true
   },
   "outputs": [
    {
     "name": "stdout",
     "output_type": "stream",
     "text": [
      "Train a XGBoost model\n",
      "[0]\ttrain-rmse:8.10123\teval-rmse:8.11854\ttrain-rmspe:0.999838\teval-rmspe:0.999842\n",
      "Multiple eval metrics have been passed: 'eval-rmspe' will be used for early stopping.\n",
      "\n",
      "Will train until eval-rmspe hasn't improved in 300 rounds.\n",
      "[100]\ttrain-rmse:1.08153\teval-rmse:1.08394\ttrain-rmspe:0.658038\teval-rmspe:0.65767\n",
      "[200]\ttrain-rmse:0.175657\teval-rmse:0.185188\ttrain-rmspe:0.180631\teval-rmspe:0.163352\n",
      "[300]\ttrain-rmse:0.096587\teval-rmse:0.113092\ttrain-rmspe:0.137284\teval-rmspe:0.109685\n",
      "[400]\ttrain-rmse:0.089948\teval-rmse:0.107383\ttrain-rmspe:0.124927\teval-rmspe:0.106634\n",
      "[500]\ttrain-rmse:0.086004\teval-rmse:0.103858\ttrain-rmspe:0.117815\teval-rmspe:0.103724\n",
      "[600]\ttrain-rmse:0.083449\teval-rmse:0.102206\ttrain-rmspe:0.112989\teval-rmspe:0.102275\n",
      "[700]\ttrain-rmse:0.081497\teval-rmse:0.101151\ttrain-rmspe:0.105758\teval-rmspe:0.101329\n",
      "[800]\ttrain-rmse:0.079939\teval-rmse:0.100365\ttrain-rmspe:0.099837\teval-rmspe:0.100613\n",
      "[900]\ttrain-rmse:0.078751\teval-rmse:0.099915\ttrain-rmspe:0.095316\teval-rmspe:0.100238\n",
      "[1000]\ttrain-rmse:0.077618\teval-rmse:0.099654\ttrain-rmspe:0.090542\teval-rmspe:0.100037\n",
      "[1100]\ttrain-rmse:0.076452\teval-rmse:0.099249\ttrain-rmspe:0.086099\teval-rmspe:0.099708\n",
      "[1200]\ttrain-rmse:0.075569\teval-rmse:0.098996\ttrain-rmspe:0.082942\teval-rmspe:0.099497\n",
      "[1300]\ttrain-rmse:0.074722\teval-rmse:0.098722\ttrain-rmspe:0.081059\teval-rmspe:0.099258\n",
      "[1400]\ttrain-rmse:0.073892\teval-rmse:0.098513\ttrain-rmspe:0.079569\teval-rmspe:0.099119\n",
      "[1500]\ttrain-rmse:0.07314\teval-rmse:0.098364\ttrain-rmspe:0.078481\teval-rmspe:0.098989\n",
      "[1600]\ttrain-rmse:0.072441\teval-rmse:0.098293\ttrain-rmspe:0.077482\teval-rmspe:0.098947\n",
      "[1700]\ttrain-rmse:0.07176\teval-rmse:0.098182\ttrain-rmspe:0.076594\teval-rmspe:0.09885\n",
      "[1800]\ttrain-rmse:0.071034\teval-rmse:0.098057\ttrain-rmspe:0.075565\teval-rmspe:0.098737\n",
      "[1900]\ttrain-rmse:0.07041\teval-rmse:0.097968\ttrain-rmspe:0.074726\teval-rmspe:0.098656\n",
      "[2000]\ttrain-rmse:0.06977\teval-rmse:0.097903\ttrain-rmspe:0.073909\teval-rmspe:0.098612\n",
      "[2100]\ttrain-rmse:0.069231\teval-rmse:0.097818\ttrain-rmspe:0.073191\teval-rmspe:0.098561\n",
      "[2200]\ttrain-rmse:0.068699\teval-rmse:0.097807\ttrain-rmspe:0.072519\teval-rmspe:0.098563\n",
      "[2300]\ttrain-rmse:0.068182\teval-rmse:0.097772\ttrain-rmspe:0.071848\teval-rmspe:0.098538\n",
      "[2400]\ttrain-rmse:0.067651\teval-rmse:0.097703\ttrain-rmspe:0.071176\teval-rmspe:0.09847\n",
      "[2500]\ttrain-rmse:0.067194\teval-rmse:0.097653\ttrain-rmspe:0.070623\teval-rmspe:0.098416\n",
      "[2600]\ttrain-rmse:0.066714\teval-rmse:0.097665\ttrain-rmspe:0.069995\teval-rmspe:0.098441\n",
      "[2700]\ttrain-rmse:0.066238\teval-rmse:0.097657\ttrain-rmspe:0.06941\teval-rmspe:0.098437\n",
      "Stopping. Best iteration:\n",
      "[2488]\ttrain-rmse:0.067241\teval-rmse:0.097652\ttrain-rmspe:0.070682\teval-rmspe:0.09841\n",
      "\n",
      "Validating\n",
      "RMSPE: 0.099551\n",
      "Make predictions on the test set\n",
      "Train a XGBoost model\n",
      "[0]\ttrain-rmse:8.18386\teval-rmse:8.20141\ttrain-rmspe:0.999864\teval-rmspe:0.999867\n",
      "Multiple eval metrics have been passed: 'eval-rmspe' will be used for early stopping.\n",
      "\n",
      "Will train until eval-rmspe hasn't improved in 300 rounds.\n",
      "[100]\ttrain-rmse:2.99885\teval-rmse:3.00489\ttrain-rmspe:0.948962\teval-rmspe:0.949401\n",
      "[200]\ttrain-rmse:1.10345\teval-rmse:1.1068\ttrain-rmspe:0.665423\teval-rmspe:0.665425\n",
      "[300]\ttrain-rmse:0.416275\teval-rmse:0.419417\ttrain-rmspe:0.343184\teval-rmspe:0.336088\n",
      "[400]\ttrain-rmse:0.179371\teval-rmse:0.187687\ttrain-rmspe:0.183957\teval-rmspe:0.165353\n",
      "[500]\ttrain-rmse:0.112016\teval-rmse:0.125933\ttrain-rmspe:0.142504\teval-rmspe:0.117386\n",
      "[600]\ttrain-rmse:0.096997\teval-rmse:0.112915\ttrain-rmspe:0.133838\teval-rmspe:0.109551\n",
      "[700]\ttrain-rmse:0.092373\teval-rmse:0.108703\ttrain-rmspe:0.130194\teval-rmspe:0.107335\n",
      "[800]\ttrain-rmse:0.089779\teval-rmse:0.106472\ttrain-rmspe:0.127426\teval-rmspe:0.105886\n",
      "[900]\ttrain-rmse:0.087849\teval-rmse:0.104567\ttrain-rmspe:0.125389\teval-rmspe:0.104383\n",
      "[1000]\ttrain-rmse:0.086242\teval-rmse:0.103063\ttrain-rmspe:0.121759\teval-rmspe:0.10312\n",
      "[1100]\ttrain-rmse:0.084706\teval-rmse:0.102045\ttrain-rmspe:0.119185\teval-rmspe:0.102261\n",
      "[1200]\ttrain-rmse:0.083647\teval-rmse:0.101256\ttrain-rmspe:0.114672\teval-rmspe:0.101601\n",
      "[1300]\ttrain-rmse:0.082642\teval-rmse:0.100566\ttrain-rmspe:0.112263\teval-rmspe:0.100989\n",
      "[1400]\ttrain-rmse:0.081712\teval-rmse:0.100011\ttrain-rmspe:0.106334\teval-rmspe:0.100487\n",
      "[1500]\ttrain-rmse:0.080957\teval-rmse:0.099669\ttrain-rmspe:0.103107\teval-rmspe:0.100168\n",
      "[1600]\ttrain-rmse:0.080231\teval-rmse:0.09938\ttrain-rmspe:0.099425\teval-rmspe:0.099949\n",
      "[1700]\ttrain-rmse:0.079486\teval-rmse:0.099003\ttrain-rmspe:0.096862\teval-rmspe:0.099588\n",
      "[1800]\ttrain-rmse:0.078774\teval-rmse:0.098727\ttrain-rmspe:0.094519\teval-rmspe:0.099343\n",
      "[1900]\ttrain-rmse:0.078191\teval-rmse:0.09858\ttrain-rmspe:0.091644\teval-rmspe:0.099222\n",
      "[2000]\ttrain-rmse:0.077607\teval-rmse:0.098318\ttrain-rmspe:0.089668\teval-rmspe:0.098993\n",
      "[2100]\ttrain-rmse:0.077077\teval-rmse:0.09813\ttrain-rmspe:0.087882\teval-rmspe:0.098826\n",
      "[2200]\ttrain-rmse:0.076617\teval-rmse:0.097975\ttrain-rmspe:0.087153\teval-rmspe:0.098668\n",
      "[2300]\ttrain-rmse:0.076113\teval-rmse:0.097814\ttrain-rmspe:0.085593\teval-rmspe:0.098516\n",
      "[2400]\ttrain-rmse:0.075632\teval-rmse:0.097704\ttrain-rmspe:0.084112\teval-rmspe:0.098417\n",
      "[2500]\ttrain-rmse:0.07517\teval-rmse:0.097602\ttrain-rmspe:0.083062\teval-rmspe:0.098313\n",
      "[2600]\ttrain-rmse:0.074738\teval-rmse:0.097535\ttrain-rmspe:0.082033\teval-rmspe:0.098277\n",
      "[2700]\ttrain-rmse:0.074327\teval-rmse:0.097464\ttrain-rmspe:0.081285\teval-rmspe:0.098229\n",
      "[2800]\ttrain-rmse:0.073919\teval-rmse:0.097418\ttrain-rmspe:0.080566\teval-rmspe:0.098211\n",
      "[2900]\ttrain-rmse:0.073527\teval-rmse:0.097333\ttrain-rmspe:0.079863\teval-rmspe:0.098146\n",
      "[3000]\ttrain-rmse:0.073167\teval-rmse:0.097282\ttrain-rmspe:0.079292\teval-rmspe:0.0981\n",
      "[3100]\ttrain-rmse:0.072778\teval-rmse:0.097183\ttrain-rmspe:0.078647\teval-rmspe:0.098015\n",
      "[3200]\ttrain-rmse:0.072435\teval-rmse:0.097141\ttrain-rmspe:0.078132\teval-rmspe:0.097983\n",
      "[3300]\ttrain-rmse:0.072068\teval-rmse:0.097072\ttrain-rmspe:0.077627\teval-rmspe:0.097926\n",
      "[3400]\ttrain-rmse:0.071699\teval-rmse:0.097038\ttrain-rmspe:0.07705\teval-rmspe:0.097894\n",
      "[3500]\ttrain-rmse:0.071367\teval-rmse:0.097001\ttrain-rmspe:0.07647\teval-rmspe:0.097859\n",
      "[3600]\ttrain-rmse:0.071013\teval-rmse:0.096968\ttrain-rmspe:0.075921\teval-rmspe:0.097833\n",
      "[3700]\ttrain-rmse:0.070688\teval-rmse:0.096923\ttrain-rmspe:0.075434\teval-rmspe:0.097802\n",
      "[3800]\ttrain-rmse:0.070375\teval-rmse:0.096886\ttrain-rmspe:0.07493\teval-rmspe:0.097756\n",
      "[3900]\ttrain-rmse:0.070088\teval-rmse:0.096851\ttrain-rmspe:0.074483\teval-rmspe:0.097733\n",
      "[4000]\ttrain-rmse:0.069786\teval-rmse:0.096837\ttrain-rmspe:0.074113\teval-rmspe:0.097716\n",
      "[4100]\ttrain-rmse:0.069537\teval-rmse:0.096795\ttrain-rmspe:0.073762\teval-rmspe:0.09768\n",
      "[4200]\ttrain-rmse:0.069253\teval-rmse:0.096794\ttrain-rmspe:0.073363\teval-rmspe:0.0977\n",
      "[4300]\ttrain-rmse:0.068965\teval-rmse:0.096778\ttrain-rmspe:0.072978\teval-rmspe:0.097684\n",
      "[4400]\ttrain-rmse:0.068688\teval-rmse:0.096755\ttrain-rmspe:0.072594\teval-rmspe:0.097659\n",
      "[4500]\ttrain-rmse:0.068436\teval-rmse:0.096747\ttrain-rmspe:0.072263\teval-rmspe:0.097661\n",
      "[4600]\ttrain-rmse:0.068177\teval-rmse:0.096744\ttrain-rmspe:0.071931\teval-rmspe:0.097659\n",
      "[4700]\ttrain-rmse:0.067926\teval-rmse:0.096721\ttrain-rmspe:0.071615\teval-rmspe:0.09763\n",
      "[4800]\ttrain-rmse:0.06766\teval-rmse:0.096688\ttrain-rmspe:0.071265\teval-rmspe:0.097606\n",
      "[4900]\ttrain-rmse:0.0674\teval-rmse:0.096719\ttrain-rmspe:0.070921\teval-rmspe:0.09765\n",
      "[5000]\ttrain-rmse:0.067158\teval-rmse:0.096707\ttrain-rmspe:0.07062\teval-rmspe:0.097658\n",
      "Stopping. Best iteration:\n",
      "[4788]\ttrain-rmse:0.06769\teval-rmse:0.096684\ttrain-rmspe:0.071307\teval-rmspe:0.097597\n",
      "\n",
      "Validating\n",
      "RMSPE: 0.098470\n",
      "Make predictions on the test set\n",
      "Train a XGBoost model\n",
      "[0]\ttrain-rmse:8.22518\teval-rmse:8.24285\ttrain-rmspe:0.999876\teval-rmspe:0.999879\n",
      "Multiple eval metrics have been passed: 'eval-rmspe' will be used for early stopping.\n",
      "\n",
      "Will train until eval-rmspe hasn't improved in 300 rounds.\n",
      "[100]\ttrain-rmse:4.98437\teval-rmse:4.99428\ttrain-rmspe:0.99298\teval-rmspe:0.993081\n",
      "[200]\ttrain-rmse:3.02148\teval-rmse:3.02752\ttrain-rmspe:0.950115\teval-rmspe:0.950543\n",
      "[300]\ttrain-rmse:1.8332\teval-rmse:1.83683\ttrain-rmspe:0.83768\teval-rmspe:0.838296\n",
      "[400]\ttrain-rmse:1.11448\teval-rmse:1.11699\ttrain-rmspe:0.669074\teval-rmspe:0.668824\n",
      "[500]\ttrain-rmse:0.680986\teval-rmse:0.683155\ttrain-rmspe:0.492454\teval-rmspe:0.489586\n",
      "[600]\ttrain-rmse:0.421236\teval-rmse:0.424205\ttrain-rmspe:0.346259\teval-rmspe:0.339243\n"
     ]
    },
    {
     "name": "stdout",
     "output_type": "stream",
     "text": [
      "[700]\ttrain-rmse:0.268179\teval-rmse:0.273326\ttrain-rmspe:0.244881\teval-rmspe:0.232435\n",
      "[800]\ttrain-rmse:0.181275\teval-rmse:0.189608\ttrain-rmspe:0.184875\teval-rmspe:0.1669\n",
      "[900]\ttrain-rmse:0.13516\teval-rmse:0.146672\ttrain-rmspe:0.154478\teval-rmspe:0.132706\n",
      "[1000]\ttrain-rmse:0.112684\teval-rmse:0.126449\ttrain-rmspe:0.141915\teval-rmspe:0.117637\n",
      "[1100]\ttrain-rmse:0.102252\teval-rmse:0.117316\ttrain-rmspe:0.13609\teval-rmspe:0.111808\n",
      "[1200]\ttrain-rmse:0.097265\teval-rmse:0.112974\ttrain-rmspe:0.133944\teval-rmspe:0.109537\n",
      "[1300]\ttrain-rmse:0.094499\teval-rmse:0.110505\ttrain-rmspe:0.132332\teval-rmspe:0.108303\n",
      "[1400]\ttrain-rmse:0.092676\teval-rmse:0.10882\ttrain-rmspe:0.131075\teval-rmspe:0.107398\n",
      "[1500]\ttrain-rmse:0.091219\teval-rmse:0.107445\ttrain-rmspe:0.130025\teval-rmspe:0.106511\n",
      "[1600]\ttrain-rmse:0.090013\teval-rmse:0.106372\ttrain-rmspe:0.128036\teval-rmspe:0.105759\n",
      "[1700]\ttrain-rmse:0.088955\teval-rmse:0.10535\ttrain-rmspe:0.126509\teval-rmspe:0.10499\n",
      "[1800]\ttrain-rmse:0.087998\teval-rmse:0.104463\ttrain-rmspe:0.125661\teval-rmspe:0.104285\n",
      "[1900]\ttrain-rmse:0.087118\teval-rmse:0.103728\ttrain-rmspe:0.124478\teval-rmspe:0.103656\n",
      "[2000]\ttrain-rmse:0.086249\teval-rmse:0.103009\ttrain-rmspe:0.12324\teval-rmspe:0.103024\n",
      "[2100]\ttrain-rmse:0.085438\teval-rmse:0.102353\ttrain-rmspe:0.122285\teval-rmspe:0.102454\n",
      "[2200]\ttrain-rmse:0.084678\teval-rmse:0.101828\ttrain-rmspe:0.120016\teval-rmspe:0.102013\n",
      "[2300]\ttrain-rmse:0.084094\teval-rmse:0.101427\ttrain-rmspe:0.118133\teval-rmspe:0.101642\n",
      "[2400]\ttrain-rmse:0.083474\teval-rmse:0.10104\ttrain-rmspe:0.116891\teval-rmspe:0.101302\n",
      "[2500]\ttrain-rmse:0.082913\teval-rmse:0.100705\ttrain-rmspe:0.113701\teval-rmspe:0.100996\n",
      "[2600]\ttrain-rmse:0.082439\teval-rmse:0.100446\ttrain-rmspe:0.111674\teval-rmspe:0.100759\n",
      "[2700]\ttrain-rmse:0.081969\teval-rmse:0.100201\ttrain-rmspe:0.110255\teval-rmspe:0.100544\n",
      "[2800]\ttrain-rmse:0.081536\teval-rmse:0.09997\ttrain-rmspe:0.108937\teval-rmspe:0.100339\n",
      "[2900]\ttrain-rmse:0.081171\teval-rmse:0.099828\ttrain-rmspe:0.106654\teval-rmspe:0.100221\n",
      "[3000]\ttrain-rmse:0.080776\teval-rmse:0.099682\ttrain-rmspe:0.105309\teval-rmspe:0.100083\n",
      "[3100]\ttrain-rmse:0.080402\teval-rmse:0.09953\ttrain-rmspe:0.103951\teval-rmspe:0.099934\n",
      "[3200]\ttrain-rmse:0.080047\teval-rmse:0.099346\ttrain-rmspe:0.101509\teval-rmspe:0.099774\n",
      "[3300]\ttrain-rmse:0.079704\teval-rmse:0.099217\ttrain-rmspe:0.100011\teval-rmspe:0.099664\n",
      "[3400]\ttrain-rmse:0.079361\teval-rmse:0.099097\ttrain-rmspe:0.097792\teval-rmspe:0.099556\n",
      "[3500]\ttrain-rmse:0.079073\teval-rmse:0.099\ttrain-rmspe:0.097114\teval-rmspe:0.099475\n",
      "[3600]\ttrain-rmse:0.07877\teval-rmse:0.098882\ttrain-rmspe:0.095903\teval-rmspe:0.099372\n",
      "[3700]\ttrain-rmse:0.078458\teval-rmse:0.098772\ttrain-rmspe:0.094899\teval-rmspe:0.099271\n",
      "[3800]\ttrain-rmse:0.078176\teval-rmse:0.098681\ttrain-rmspe:0.093712\teval-rmspe:0.099202\n",
      "[3900]\ttrain-rmse:0.077892\teval-rmse:0.098568\ttrain-rmspe:0.092152\teval-rmspe:0.099098\n",
      "[4000]\ttrain-rmse:0.077608\teval-rmse:0.098465\ttrain-rmspe:0.091377\teval-rmspe:0.09902\n",
      "[4100]\ttrain-rmse:0.077355\teval-rmse:0.098399\ttrain-rmspe:0.090076\teval-rmspe:0.098968\n",
      "[4200]\ttrain-rmse:0.07711\teval-rmse:0.098314\ttrain-rmspe:0.089609\teval-rmspe:0.098902\n",
      "[4300]\ttrain-rmse:0.076865\teval-rmse:0.098271\ttrain-rmspe:0.089177\teval-rmspe:0.098873\n",
      "[4400]\ttrain-rmse:0.076611\teval-rmse:0.0982\ttrain-rmspe:0.088784\teval-rmspe:0.098813\n",
      "[4500]\ttrain-rmse:0.076367\teval-rmse:0.098124\ttrain-rmspe:0.087851\teval-rmspe:0.098741\n",
      "[4600]\ttrain-rmse:0.076109\teval-rmse:0.098065\ttrain-rmspe:0.08722\teval-rmspe:0.098694\n",
      "[4700]\ttrain-rmse:0.075849\teval-rmse:0.097969\ttrain-rmspe:0.08634\teval-rmspe:0.09861\n",
      "[4800]\ttrain-rmse:0.075623\teval-rmse:0.097906\ttrain-rmspe:0.085279\teval-rmspe:0.098557\n",
      "[4900]\ttrain-rmse:0.075391\teval-rmse:0.097883\ttrain-rmspe:0.084631\teval-rmspe:0.09854\n",
      "[5000]\ttrain-rmse:0.075134\teval-rmse:0.097806\ttrain-rmspe:0.083807\teval-rmspe:0.098464\n",
      "[5100]\ttrain-rmse:0.074899\teval-rmse:0.097735\ttrain-rmspe:0.083297\teval-rmspe:0.098396\n",
      "[5200]\ttrain-rmse:0.074689\teval-rmse:0.097687\ttrain-rmspe:0.082798\teval-rmspe:0.098354\n",
      "[5300]\ttrain-rmse:0.074473\teval-rmse:0.09762\ttrain-rmspe:0.082405\teval-rmspe:0.098292\n",
      "[5400]\ttrain-rmse:0.074266\teval-rmse:0.097547\ttrain-rmspe:0.081949\teval-rmspe:0.098233\n",
      "[5500]\ttrain-rmse:0.074047\teval-rmse:0.097519\ttrain-rmspe:0.081607\teval-rmspe:0.09821\n",
      "[5600]\ttrain-rmse:0.073858\teval-rmse:0.097474\ttrain-rmspe:0.081302\teval-rmspe:0.098176\n",
      "[5700]\ttrain-rmse:0.073664\teval-rmse:0.097457\ttrain-rmspe:0.081002\teval-rmspe:0.098165\n",
      "[5800]\ttrain-rmse:0.07348\teval-rmse:0.097416\ttrain-rmspe:0.08056\teval-rmspe:0.098124\n",
      "[5900]\ttrain-rmse:0.073304\teval-rmse:0.097383\ttrain-rmspe:0.080192\teval-rmspe:0.098097\n",
      "[6000]\ttrain-rmse:0.073104\teval-rmse:0.097344\ttrain-rmspe:0.079878\teval-rmspe:0.098063\n",
      "[6100]\ttrain-rmse:0.072914\teval-rmse:0.097304\ttrain-rmspe:0.079454\teval-rmspe:0.098029\n",
      "[6200]\ttrain-rmse:0.072754\teval-rmse:0.097263\ttrain-rmspe:0.079179\teval-rmspe:0.097993\n",
      "[6300]\ttrain-rmse:0.072562\teval-rmse:0.097221\ttrain-rmspe:0.078846\teval-rmspe:0.097955\n",
      "[6400]\ttrain-rmse:0.072381\teval-rmse:0.097208\ttrain-rmspe:0.07847\teval-rmspe:0.097945\n",
      "[6500]\ttrain-rmse:0.072208\teval-rmse:0.097185\ttrain-rmspe:0.078135\teval-rmspe:0.097929\n",
      "[6600]\ttrain-rmse:0.072039\teval-rmse:0.09715\ttrain-rmspe:0.077895\teval-rmspe:0.09791\n",
      "[6700]\ttrain-rmse:0.071872\teval-rmse:0.097128\ttrain-rmspe:0.077628\teval-rmspe:0.097895\n",
      "[6800]\ttrain-rmse:0.071718\teval-rmse:0.097107\ttrain-rmspe:0.077382\teval-rmspe:0.09788\n",
      "[6900]\ttrain-rmse:0.071555\teval-rmse:0.097093\ttrain-rmspe:0.077123\teval-rmspe:0.097869\n",
      "[7000]\ttrain-rmse:0.071396\teval-rmse:0.097081\ttrain-rmspe:0.076846\teval-rmspe:0.097856\n",
      "[7100]\ttrain-rmse:0.071235\teval-rmse:0.097067\ttrain-rmspe:0.076588\teval-rmspe:0.097846\n",
      "[7200]\ttrain-rmse:0.07106\teval-rmse:0.097051\ttrain-rmspe:0.07631\teval-rmspe:0.097842\n",
      "[7300]\ttrain-rmse:0.070905\teval-rmse:0.097049\ttrain-rmspe:0.076117\teval-rmspe:0.097841\n",
      "[7400]\ttrain-rmse:0.070746\teval-rmse:0.097022\ttrain-rmspe:0.075856\teval-rmspe:0.097822\n",
      "[7500]\ttrain-rmse:0.070588\teval-rmse:0.097025\ttrain-rmspe:0.075555\teval-rmspe:0.097828\n",
      "[7600]\ttrain-rmse:0.070434\teval-rmse:0.097024\ttrain-rmspe:0.075329\teval-rmspe:0.097834\n",
      "[7700]\ttrain-rmse:0.070281\teval-rmse:0.097022\ttrain-rmspe:0.075113\teval-rmspe:0.097839\n",
      "Stopping. Best iteration:\n",
      "[7437]\ttrain-rmse:0.070689\teval-rmse:0.097013\ttrain-rmspe:0.075737\teval-rmspe:0.097815\n",
      "\n",
      "Validating\n",
      "RMSPE: 0.098974\n",
      "Make predictions on the test set\n"
     ]
    }
   ],
   "source": [
    "seed=42\n",
    "for i in [0.02, 0.01, 0.005]:\n",
    "    params = {\"objective\": \"reg:linear\",\n",
    "              \"booster\" : \"gbtree\",\n",
    "              \"eta\": i,\n",
    "              \"max_depth\": 10,\n",
    "              \"subsample\": 0.9,\n",
    "              \"colsample_bytree\": 0.7,\n",
    "              \"silent\": 1,\n",
    "              \"seed\": seed\n",
    "              }\n",
    "    num_boost_round = 10000\n",
    "    #0.1 [52]\ttrain-rmse:0.101232\teval-rmse:0.112216\ttrain-rmspe:0.14783\teval-rmspe:0.113482\n",
    "\n",
    "    print(\"Train a XGBoost model\")\n",
    "    #     X_train, X_valid = train_test_split(train, test_size=0.012, random_state=10)\n",
    "    X_train = train.loc[~(train.Date>'2015-07-15')]\n",
    "    X_valid = train.loc[(train.Date>'2015-07-15')]\n",
    "    y_train = np.log1p(X_train.Sales)\n",
    "    y_valid = np.log1p(X_valid.Sales)\n",
    "    dtrain = xgb.DMatrix(X_train[features], y_train)\n",
    "    dvalid = xgb.DMatrix(X_valid[features], y_valid)\n",
    "\n",
    "    watchlist = [(dtrain, 'train'), (dvalid, 'eval')]\n",
    "    gbm = xgb.train(params, dtrain, num_boost_round, evals=watchlist, \\\n",
    "      early_stopping_rounds=300, feval=rmspe_xg, verbose_eval=100)\n",
    "\n",
    "\n",
    "    print(\"Validating\")\n",
    "    yhat = gbm.predict(xgb.DMatrix(X_valid[features]))\n",
    "    error = rmspe(X_valid.Sales.values, np.expm1(yhat))\n",
    "    print('RMSPE: {:.6f}'.format(error))\n",
    "\n",
    "    print(\"Make predictions on the test set\")\n",
    "    dtest = xgb.DMatrix(test[features])\n",
    "    test_probs = gbm.predict(dtest)\n",
    "    # Make Submission\n",
    "    result = pd.DataFrame({\"Id\": test[\"Id\"], 'Sales': np.expm1(test_probs)})\n",
    "    a = pd.read_csv('./input/sample_submission.csv')\n",
    "    result.Id = result.Id.astype('int')\n",
    "    result = a.merge(result,how='left', on='Id')[['Id','Sales_y']].rename(columns={'Sales_y':'Sales'})\n",
    "    result.fillna(0,inplace=True)\n",
    "    result.to_csv('more_more_data'+'eta'+str(i)+str(seed)+\"time_considered_four.csv\", index=False)"
   ]
  },
  {
   "cell_type": "markdown",
   "metadata": {},
   "source": [
    "##### result of Valid_RMSPE based on time split"
   ]
  },
  {
   "cell_type": "markdown",
   "metadata": {},
   "source": [
    "| Time Split Point        | RMSPE Val   |  RMSPE Train  |   \n",
    "|---|----|----|  \n",
    "| 2015-06-01    | 0.138664\t |   0.113628     |    \n",
    "| 2015-07-01     |   0.115334   |   0.086579  |    \n",
    "| 2015-07-15     |   0.098203    |  0.069941\t  |     "
   ]
  },
  {
   "cell_type": "code",
   "execution_count": 9,
   "metadata": {
    "ExecuteTime": {
     "end_time": "2018-11-23T15:54:36.004993Z",
     "start_time": "2018-11-23T15:54:35.739361Z"
    },
    "collapsed": true
   },
   "outputs": [],
   "source": [
    "def process_sub(result,seed=None,eta=None):\n",
    "    a = pd.read_csv('./input/sample_submission.csv')\n",
    "    result.Id = result.Id.astype('int')\n",
    "    result = a.merge(result,how='left', on='Id')[['Id','Sales_y']].rename(columns={'Sales_y':'Sales'})\n",
    "    result.fillna(0,inplace=True)\n",
    "    result.to_csv('Test_'+'eta'+str(eta)+str(seed)+\"fourAttributes.csv\", index=False)\n",
    "process_sub(result, 42,0.3)"
   ]
  },
  {
   "cell_type": "markdown",
   "metadata": {},
   "source": [
    "#### Using different seed(different initialization for parameters)  "
   ]
  },
  {
   "cell_type": "code",
   "execution_count": null,
   "metadata": {
    "ExecuteTime": {
     "start_time": "2018-11-23T07:12:43.046Z"
    },
    "scrolled": true
   },
   "outputs": [
    {
     "name": "stdout",
     "output_type": "stream",
     "text": [
      "Train a XGBoost model\n",
      "[0]\ttrain-rmse:8.18386\teval-rmse:8.20141\ttrain-rmspe:0.999864\teval-rmspe:0.999867\n",
      "Multiple eval metrics have been passed: 'eval-rmspe' will be used for early stopping.\n",
      "\n",
      "Will train until eval-rmspe hasn't improved in 300 rounds.\n",
      "[100]\ttrain-rmse:2.99885\teval-rmse:3.00489\ttrain-rmspe:0.948962\teval-rmspe:0.949401\n",
      "[200]\ttrain-rmse:1.10345\teval-rmse:1.1068\ttrain-rmspe:0.665423\teval-rmspe:0.665425\n",
      "[300]\ttrain-rmse:0.416275\teval-rmse:0.419417\ttrain-rmspe:0.343184\teval-rmspe:0.336088\n",
      "[400]\ttrain-rmse:0.179371\teval-rmse:0.187687\ttrain-rmspe:0.183957\teval-rmspe:0.165353\n",
      "[500]\ttrain-rmse:0.112016\teval-rmse:0.125933\ttrain-rmspe:0.142504\teval-rmspe:0.117386\n",
      "[600]\ttrain-rmse:0.096997\teval-rmse:0.112915\ttrain-rmspe:0.133838\teval-rmspe:0.109551\n",
      "[700]\ttrain-rmse:0.092373\teval-rmse:0.108703\ttrain-rmspe:0.130194\teval-rmspe:0.107335\n",
      "[800]\ttrain-rmse:0.089779\teval-rmse:0.106472\ttrain-rmspe:0.127426\teval-rmspe:0.105886\n",
      "[900]\ttrain-rmse:0.087849\teval-rmse:0.104567\ttrain-rmspe:0.125389\teval-rmspe:0.104383\n",
      "[1000]\ttrain-rmse:0.086242\teval-rmse:0.103063\ttrain-rmspe:0.121759\teval-rmspe:0.10312\n",
      "[1100]\ttrain-rmse:0.084706\teval-rmse:0.102045\ttrain-rmspe:0.119185\teval-rmspe:0.102261\n",
      "[1200]\ttrain-rmse:0.083647\teval-rmse:0.101256\ttrain-rmspe:0.114672\teval-rmspe:0.101601\n",
      "[1300]\ttrain-rmse:0.082642\teval-rmse:0.100566\ttrain-rmspe:0.112263\teval-rmspe:0.100989\n",
      "[1400]\ttrain-rmse:0.081712\teval-rmse:0.100011\ttrain-rmspe:0.106334\teval-rmspe:0.100487\n",
      "[1500]\ttrain-rmse:0.080957\teval-rmse:0.099669\ttrain-rmspe:0.103107\teval-rmspe:0.100168\n",
      "[1600]\ttrain-rmse:0.080231\teval-rmse:0.09938\ttrain-rmspe:0.099425\teval-rmspe:0.099949\n",
      "[1700]\ttrain-rmse:0.079486\teval-rmse:0.099003\ttrain-rmspe:0.096862\teval-rmspe:0.099588\n",
      "[1800]\ttrain-rmse:0.078774\teval-rmse:0.098727\ttrain-rmspe:0.094519\teval-rmspe:0.099343\n",
      "[1900]\ttrain-rmse:0.078191\teval-rmse:0.09858\ttrain-rmspe:0.091644\teval-rmspe:0.099222\n",
      "[2000]\ttrain-rmse:0.077607\teval-rmse:0.098318\ttrain-rmspe:0.089668\teval-rmspe:0.098993\n",
      "[2100]\ttrain-rmse:0.077077\teval-rmse:0.09813\ttrain-rmspe:0.087882\teval-rmspe:0.098826\n",
      "[2200]\ttrain-rmse:0.076617\teval-rmse:0.097975\ttrain-rmspe:0.087153\teval-rmspe:0.098668\n",
      "[2300]\ttrain-rmse:0.076113\teval-rmse:0.097814\ttrain-rmspe:0.085593\teval-rmspe:0.098516\n",
      "[2400]\ttrain-rmse:0.075632\teval-rmse:0.097704\ttrain-rmspe:0.084112\teval-rmspe:0.098417\n",
      "[2500]\ttrain-rmse:0.07517\teval-rmse:0.097602\ttrain-rmspe:0.083062\teval-rmspe:0.098313\n",
      "[2600]\ttrain-rmse:0.074738\teval-rmse:0.097535\ttrain-rmspe:0.082033\teval-rmspe:0.098277\n",
      "[2700]\ttrain-rmse:0.074327\teval-rmse:0.097464\ttrain-rmspe:0.081285\teval-rmspe:0.098229\n",
      "[2800]\ttrain-rmse:0.073919\teval-rmse:0.097418\ttrain-rmspe:0.080566\teval-rmspe:0.098211\n",
      "[2900]\ttrain-rmse:0.073527\teval-rmse:0.097333\ttrain-rmspe:0.079863\teval-rmspe:0.098146\n",
      "[3000]\ttrain-rmse:0.073167\teval-rmse:0.097282\ttrain-rmspe:0.079292\teval-rmspe:0.0981\n",
      "[3100]\ttrain-rmse:0.072778\teval-rmse:0.097183\ttrain-rmspe:0.078647\teval-rmspe:0.098015\n",
      "[3200]\ttrain-rmse:0.072435\teval-rmse:0.097141\ttrain-rmspe:0.078132\teval-rmspe:0.097983\n",
      "[3300]\ttrain-rmse:0.072068\teval-rmse:0.097072\ttrain-rmspe:0.077627\teval-rmspe:0.097926\n",
      "[3400]\ttrain-rmse:0.071699\teval-rmse:0.097038\ttrain-rmspe:0.07705\teval-rmspe:0.097894\n",
      "[3500]\ttrain-rmse:0.071367\teval-rmse:0.097001\ttrain-rmspe:0.07647\teval-rmspe:0.097859\n",
      "[3600]\ttrain-rmse:0.071013\teval-rmse:0.096968\ttrain-rmspe:0.075921\teval-rmspe:0.097833\n",
      "[3700]\ttrain-rmse:0.070688\teval-rmse:0.096923\ttrain-rmspe:0.075434\teval-rmspe:0.097802\n",
      "[3800]\ttrain-rmse:0.070375\teval-rmse:0.096886\ttrain-rmspe:0.07493\teval-rmspe:0.097756\n",
      "[3900]\ttrain-rmse:0.070088\teval-rmse:0.096851\ttrain-rmspe:0.074483\teval-rmspe:0.097733\n",
      "[4000]\ttrain-rmse:0.069786\teval-rmse:0.096837\ttrain-rmspe:0.074113\teval-rmspe:0.097716\n",
      "[4100]\ttrain-rmse:0.069537\teval-rmse:0.096795\ttrain-rmspe:0.073762\teval-rmspe:0.09768\n",
      "[4200]\ttrain-rmse:0.069253\teval-rmse:0.096794\ttrain-rmspe:0.073363\teval-rmspe:0.0977\n",
      "[4300]\ttrain-rmse:0.068965\teval-rmse:0.096778\ttrain-rmspe:0.072978\teval-rmspe:0.097684\n",
      "[4400]\ttrain-rmse:0.068688\teval-rmse:0.096755\ttrain-rmspe:0.072594\teval-rmspe:0.097659\n",
      "[4500]\ttrain-rmse:0.068436\teval-rmse:0.096747\ttrain-rmspe:0.072263\teval-rmspe:0.097661\n",
      "[4600]\ttrain-rmse:0.068177\teval-rmse:0.096744\ttrain-rmspe:0.071931\teval-rmspe:0.097659\n",
      "[4700]\ttrain-rmse:0.067926\teval-rmse:0.096721\ttrain-rmspe:0.071615\teval-rmspe:0.09763\n",
      "[4800]\ttrain-rmse:0.06766\teval-rmse:0.096688\ttrain-rmspe:0.071265\teval-rmspe:0.097606\n",
      "[4900]\ttrain-rmse:0.0674\teval-rmse:0.096719\ttrain-rmspe:0.070921\teval-rmspe:0.09765\n",
      "[5000]\ttrain-rmse:0.067158\teval-rmse:0.096707\ttrain-rmspe:0.07062\teval-rmspe:0.097658\n",
      "Stopping. Best iteration:\n",
      "[4788]\ttrain-rmse:0.06769\teval-rmse:0.096684\ttrain-rmspe:0.071307\teval-rmspe:0.097597\n",
      "\n",
      "Validating\n",
      "RMSPE: 0.098470\n",
      "Make predictions on the test set\n",
      "Train a XGBoost model\n",
      "[0]\ttrain-rmse:8.18386\teval-rmse:8.20143\ttrain-rmspe:0.999864\teval-rmspe:0.999867\n",
      "Multiple eval metrics have been passed: 'eval-rmspe' will be used for early stopping.\n",
      "\n",
      "Will train until eval-rmspe hasn't improved in 300 rounds.\n",
      "[100]\ttrain-rmse:2.99887\teval-rmse:3.00489\ttrain-rmspe:0.948961\teval-rmspe:0.949394\n",
      "[200]\ttrain-rmse:1.10352\teval-rmse:1.10587\ttrain-rmspe:0.665396\teval-rmspe:0.66506\n",
      "[300]\ttrain-rmse:0.416279\teval-rmse:0.420069\ttrain-rmspe:0.342978\teval-rmspe:0.336506\n",
      "[400]\ttrain-rmse:0.179402\teval-rmse:0.188552\ttrain-rmspe:0.182034\teval-rmspe:0.166049\n",
      "[500]\ttrain-rmse:0.112032\teval-rmse:0.126396\ttrain-rmspe:0.138741\teval-rmspe:0.117658\n",
      "[600]\ttrain-rmse:0.097034\teval-rmse:0.113103\ttrain-rmspe:0.132531\teval-rmspe:0.109615\n",
      "[700]\ttrain-rmse:0.092601\teval-rmse:0.10914\ttrain-rmspe:0.129511\teval-rmspe:0.107752\n",
      "[800]\ttrain-rmse:0.090132\teval-rmse:0.106881\ttrain-rmspe:0.12644\teval-rmspe:0.106313\n",
      "[900]\ttrain-rmse:0.088117\teval-rmse:0.10499\ttrain-rmspe:0.122018\teval-rmspe:0.104789\n",
      "[1000]\ttrain-rmse:0.086411\teval-rmse:0.103418\ttrain-rmspe:0.120271\teval-rmspe:0.103451\n",
      "[1100]\ttrain-rmse:0.084962\teval-rmse:0.102123\ttrain-rmspe:0.116011\teval-rmspe:0.102363\n",
      "[1200]\ttrain-rmse:0.083777\teval-rmse:0.10128\ttrain-rmspe:0.114644\teval-rmspe:0.101587\n",
      "[1300]\ttrain-rmse:0.082747\teval-rmse:0.100669\ttrain-rmspe:0.111587\teval-rmspe:0.101066\n",
      "[1400]\ttrain-rmse:0.081818\teval-rmse:0.10016\ttrain-rmspe:0.108106\teval-rmspe:0.100641\n",
      "[1500]\ttrain-rmse:0.080983\teval-rmse:0.099866\ttrain-rmspe:0.105914\teval-rmspe:0.100341\n",
      "[1600]\ttrain-rmse:0.080178\teval-rmse:0.099538\ttrain-rmspe:0.10296\teval-rmspe:0.100074\n",
      "[1700]\ttrain-rmse:0.079472\teval-rmse:0.099242\ttrain-rmspe:0.099225\teval-rmspe:0.099813\n",
      "[1800]\ttrain-rmse:0.078814\teval-rmse:0.098929\ttrain-rmspe:0.09617\teval-rmspe:0.099545\n",
      "[1900]\ttrain-rmse:0.078196\teval-rmse:0.098611\ttrain-rmspe:0.093329\teval-rmspe:0.099286\n",
      "[2000]\ttrain-rmse:0.07761\teval-rmse:0.098407\ttrain-rmspe:0.092218\teval-rmspe:0.099094\n",
      "[2100]\ttrain-rmse:0.077125\teval-rmse:0.098198\ttrain-rmspe:0.091258\teval-rmspe:0.098914\n",
      "[2200]\ttrain-rmse:0.076637\teval-rmse:0.098099\ttrain-rmspe:0.089454\teval-rmspe:0.098821\n",
      "[2300]\ttrain-rmse:0.076137\teval-rmse:0.097949\ttrain-rmspe:0.088191\teval-rmspe:0.098687\n",
      "[2400]\ttrain-rmse:0.075688\teval-rmse:0.097806\ttrain-rmspe:0.087062\teval-rmspe:0.098541\n",
      "[2500]\ttrain-rmse:0.075233\teval-rmse:0.097644\ttrain-rmspe:0.085427\teval-rmspe:0.098399\n",
      "[2600]\ttrain-rmse:0.074783\teval-rmse:0.097526\ttrain-rmspe:0.084098\teval-rmspe:0.098284\n",
      "[2700]\ttrain-rmse:0.074389\teval-rmse:0.097481\ttrain-rmspe:0.083181\teval-rmspe:0.098236\n",
      "[2800]\ttrain-rmse:0.074\teval-rmse:0.097391\ttrain-rmspe:0.082297\teval-rmspe:0.098162\n",
      "[2900]\ttrain-rmse:0.073602\teval-rmse:0.097314\ttrain-rmspe:0.081315\teval-rmspe:0.098089\n",
      "[3000]\ttrain-rmse:0.073214\teval-rmse:0.097255\ttrain-rmspe:0.080337\teval-rmspe:0.098043\n",
      "[3100]\ttrain-rmse:0.072879\teval-rmse:0.097174\ttrain-rmspe:0.079493\teval-rmspe:0.097975\n",
      "[3200]\ttrain-rmse:0.072498\teval-rmse:0.097105\ttrain-rmspe:0.078578\teval-rmspe:0.097914\n",
      "[3300]\ttrain-rmse:0.07216\teval-rmse:0.097033\ttrain-rmspe:0.077905\teval-rmspe:0.097838\n",
      "[3400]\ttrain-rmse:0.071831\teval-rmse:0.096983\ttrain-rmspe:0.077311\teval-rmspe:0.097795\n",
      "[3500]\ttrain-rmse:0.071499\teval-rmse:0.096918\ttrain-rmspe:0.076665\teval-rmspe:0.097732\n",
      "[3600]\ttrain-rmse:0.071161\teval-rmse:0.096862\ttrain-rmspe:0.07617\teval-rmspe:0.09768\n",
      "[3700]\ttrain-rmse:0.070835\teval-rmse:0.096834\ttrain-rmspe:0.0756\teval-rmspe:0.09766\n",
      "[3800]\ttrain-rmse:0.070494\teval-rmse:0.096752\ttrain-rmspe:0.075152\teval-rmspe:0.097601\n"
     ]
    },
    {
     "name": "stdout",
     "output_type": "stream",
     "text": [
      "[3900]\ttrain-rmse:0.070187\teval-rmse:0.096711\ttrain-rmspe:0.074696\teval-rmspe:0.097562\n",
      "[4000]\ttrain-rmse:0.069877\teval-rmse:0.09666\ttrain-rmspe:0.074277\teval-rmspe:0.097521\n",
      "[4100]\ttrain-rmse:0.069602\teval-rmse:0.096638\ttrain-rmspe:0.07387\teval-rmspe:0.097508\n",
      "[4200]\ttrain-rmse:0.069307\teval-rmse:0.09661\ttrain-rmspe:0.073475\teval-rmspe:0.097486\n",
      "[4300]\ttrain-rmse:0.069034\teval-rmse:0.096577\ttrain-rmspe:0.07312\teval-rmspe:0.097454\n",
      "[4400]\ttrain-rmse:0.068742\teval-rmse:0.09655\ttrain-rmspe:0.07272\teval-rmspe:0.097441\n",
      "[4500]\ttrain-rmse:0.068458\teval-rmse:0.096523\ttrain-rmspe:0.072325\teval-rmspe:0.097416\n",
      "[4600]\ttrain-rmse:0.068212\teval-rmse:0.096523\ttrain-rmspe:0.072004\teval-rmspe:0.097432\n",
      "[4700]\ttrain-rmse:0.067965\teval-rmse:0.096505\ttrain-rmspe:0.071713\teval-rmspe:0.097418\n",
      "[4800]\ttrain-rmse:0.067718\teval-rmse:0.096485\ttrain-rmspe:0.071379\teval-rmspe:0.097396\n",
      "[4900]\ttrain-rmse:0.067451\teval-rmse:0.096474\ttrain-rmspe:0.071045\teval-rmspe:0.097391\n",
      "[5000]\ttrain-rmse:0.067208\teval-rmse:0.09646\ttrain-rmspe:0.070743\teval-rmspe:0.097387\n",
      "[5100]\ttrain-rmse:0.066953\teval-rmse:0.096429\ttrain-rmspe:0.070432\teval-rmspe:0.097359\n",
      "[5200]\ttrain-rmse:0.066714\teval-rmse:0.096417\ttrain-rmspe:0.070115\teval-rmspe:0.097355\n",
      "[5300]\ttrain-rmse:0.066504\teval-rmse:0.096402\ttrain-rmspe:0.069824\teval-rmspe:0.097342\n",
      "[5400]\ttrain-rmse:0.066272\teval-rmse:0.0964\ttrain-rmspe:0.069524\teval-rmspe:0.097343\n",
      "[5500]\ttrain-rmse:0.066031\teval-rmse:0.096415\ttrain-rmspe:0.069207\teval-rmspe:0.097367\n",
      "Stopping. Best iteration:\n",
      "[5266]\ttrain-rmse:0.066575\teval-rmse:0.096402\ttrain-rmspe:0.069917\teval-rmspe:0.097335\n",
      "\n",
      "Validating\n",
      "RMSPE: 0.098153\n",
      "Make predictions on the test set\n",
      "Train a XGBoost model\n",
      "[0]\ttrain-rmse:8.18386\teval-rmse:8.20146\ttrain-rmspe:0.999864\teval-rmspe:0.999867\n",
      "Multiple eval metrics have been passed: 'eval-rmspe' will be used for early stopping.\n",
      "\n",
      "Will train until eval-rmspe hasn't improved in 300 rounds.\n",
      "[100]\ttrain-rmse:2.99885\teval-rmse:3.00494\ttrain-rmspe:0.948962\teval-rmspe:0.949399\n",
      "[200]\ttrain-rmse:1.10351\teval-rmse:1.10675\ttrain-rmspe:0.665398\teval-rmspe:0.665391\n",
      "[300]\ttrain-rmse:0.416342\teval-rmse:0.41975\ttrain-rmspe:0.342691\teval-rmspe:0.336295\n",
      "[400]\ttrain-rmse:0.179399\teval-rmse:0.188427\ttrain-rmspe:0.182513\teval-rmspe:0.165988\n",
      "[500]\ttrain-rmse:0.112114\teval-rmse:0.12632\ttrain-rmspe:0.140684\teval-rmspe:0.117693\n",
      "[600]\ttrain-rmse:0.097025\teval-rmse:0.113191\ttrain-rmspe:0.132633\teval-rmspe:0.10985\n",
      "[700]\ttrain-rmse:0.092505\teval-rmse:0.1089\ttrain-rmspe:0.130979\teval-rmspe:0.107554\n",
      "[800]\ttrain-rmse:0.089803\teval-rmse:0.106555\ttrain-rmspe:0.128124\teval-rmspe:0.106044\n",
      "[900]\ttrain-rmse:0.087841\teval-rmse:0.104664\ttrain-rmspe:0.125688\teval-rmspe:0.104561\n",
      "[1000]\ttrain-rmse:0.086172\teval-rmse:0.103247\ttrain-rmspe:0.12261\teval-rmspe:0.103358\n",
      "[1100]\ttrain-rmse:0.084891\teval-rmse:0.102173\ttrain-rmspe:0.12085\teval-rmspe:0.102404\n",
      "[1200]\ttrain-rmse:0.083627\teval-rmse:0.101278\ttrain-rmspe:0.116335\teval-rmspe:0.101632\n",
      "[1300]\ttrain-rmse:0.082601\teval-rmse:0.10064\ttrain-rmspe:0.113981\teval-rmspe:0.101043\n",
      "[1400]\ttrain-rmse:0.081682\teval-rmse:0.100057\ttrain-rmspe:0.108848\teval-rmspe:0.100513\n",
      "[1500]\ttrain-rmse:0.080907\teval-rmse:0.099773\ttrain-rmspe:0.105859\teval-rmspe:0.100265\n",
      "[1600]\ttrain-rmse:0.080144\teval-rmse:0.099467\ttrain-rmspe:0.102335\teval-rmspe:0.100016\n",
      "[1700]\ttrain-rmse:0.079426\teval-rmse:0.099138\ttrain-rmspe:0.099556\teval-rmspe:0.099742\n",
      "[1800]\ttrain-rmse:0.078789\teval-rmse:0.098892\ttrain-rmspe:0.096738\teval-rmspe:0.099515\n",
      "[1900]\ttrain-rmse:0.07816\teval-rmse:0.098616\ttrain-rmspe:0.093237\teval-rmspe:0.099286\n",
      "[2000]\ttrain-rmse:0.077576\teval-rmse:0.098341\ttrain-rmspe:0.090578\teval-rmspe:0.099041\n",
      "[2100]\ttrain-rmse:0.077072\teval-rmse:0.098133\ttrain-rmspe:0.089081\teval-rmspe:0.098875\n",
      "[2200]\ttrain-rmse:0.076602\teval-rmse:0.097999\ttrain-rmspe:0.088067\teval-rmspe:0.098756\n",
      "[2300]\ttrain-rmse:0.076196\teval-rmse:0.097893\ttrain-rmspe:0.086623\teval-rmspe:0.098671\n",
      "[2400]\ttrain-rmse:0.075691\teval-rmse:0.097765\ttrain-rmspe:0.084808\teval-rmspe:0.098542\n",
      "[2500]\ttrain-rmse:0.075172\teval-rmse:0.097624\ttrain-rmspe:0.083619\teval-rmspe:0.098414\n",
      "[2600]\ttrain-rmse:0.074728\teval-rmse:0.097581\ttrain-rmspe:0.082483\teval-rmspe:0.0984\n",
      "[2700]\ttrain-rmse:0.074283\teval-rmse:0.09756\ttrain-rmspe:0.08165\teval-rmspe:0.098394\n",
      "[2800]\ttrain-rmse:0.073901\teval-rmse:0.097486\ttrain-rmspe:0.081051\teval-rmspe:0.098329\n",
      "[2900]\ttrain-rmse:0.07351\teval-rmse:0.097399\ttrain-rmspe:0.080243\teval-rmspe:0.098245\n",
      "[3000]\ttrain-rmse:0.073142\teval-rmse:0.097357\ttrain-rmspe:0.079584\teval-rmspe:0.09821\n",
      "[3100]\ttrain-rmse:0.072762\teval-rmse:0.097294\ttrain-rmspe:0.078782\teval-rmspe:0.098143\n",
      "[3200]\ttrain-rmse:0.072399\teval-rmse:0.097219\ttrain-rmspe:0.078144\teval-rmspe:0.098074\n",
      "[3300]\ttrain-rmse:0.072031\teval-rmse:0.097189\ttrain-rmspe:0.077495\teval-rmspe:0.098052\n",
      "[3400]\ttrain-rmse:0.071707\teval-rmse:0.097151\ttrain-rmspe:0.076936\teval-rmspe:0.098028\n",
      "[3500]\ttrain-rmse:0.071368\teval-rmse:0.097123\ttrain-rmspe:0.076423\teval-rmspe:0.098006\n",
      "[3600]\ttrain-rmse:0.071036\teval-rmse:0.097094\ttrain-rmspe:0.075948\teval-rmspe:0.097996\n",
      "[3700]\ttrain-rmse:0.07076\teval-rmse:0.097041\ttrain-rmspe:0.075615\teval-rmspe:0.097938\n",
      "[3800]\ttrain-rmse:0.070468\teval-rmse:0.097011\ttrain-rmspe:0.075144\teval-rmspe:0.097919\n",
      "[3900]\ttrain-rmse:0.070166\teval-rmse:0.096999\ttrain-rmspe:0.074674\teval-rmspe:0.097912\n",
      "[4000]\ttrain-rmse:0.06988\teval-rmse:0.096984\ttrain-rmspe:0.07426\teval-rmspe:0.097907\n",
      "[4100]\ttrain-rmse:0.069568\teval-rmse:0.09694\ttrain-rmspe:0.073796\teval-rmspe:0.097876\n",
      "[4200]\ttrain-rmse:0.069299\teval-rmse:0.096916\ttrain-rmspe:0.073443\teval-rmspe:0.09786\n",
      "[4300]\ttrain-rmse:0.06902\teval-rmse:0.096887\ttrain-rmspe:0.073071\teval-rmspe:0.097835\n",
      "[4400]\ttrain-rmse:0.068743\teval-rmse:0.096855\ttrain-rmspe:0.072702\teval-rmspe:0.097817\n",
      "[4500]\ttrain-rmse:0.068478\teval-rmse:0.096817\ttrain-rmspe:0.072351\teval-rmspe:0.097792\n",
      "[4600]\ttrain-rmse:0.068215\teval-rmse:0.096771\ttrain-rmspe:0.072005\teval-rmspe:0.097765\n",
      "[4700]\ttrain-rmse:0.067978\teval-rmse:0.096778\ttrain-rmspe:0.071675\teval-rmspe:0.09778\n",
      "[4800]\ttrain-rmse:0.067743\teval-rmse:0.09678\ttrain-rmspe:0.071366\teval-rmspe:0.097785\n",
      "[4900]\ttrain-rmse:0.067485\teval-rmse:0.096761\ttrain-rmspe:0.071032\teval-rmspe:0.097778\n",
      "Stopping. Best iteration:\n",
      "[4600]\ttrain-rmse:0.068215\teval-rmse:0.096771\ttrain-rmspe:0.072005\teval-rmspe:0.097765\n",
      "\n",
      "Validating\n",
      "RMSPE: 0.098426\n",
      "Make predictions on the test set\n",
      "Train a XGBoost model\n",
      "[0]\ttrain-rmse:8.18386\teval-rmse:8.20147\ttrain-rmspe:0.999864\teval-rmspe:0.999867\n",
      "Multiple eval metrics have been passed: 'eval-rmspe' will be used for early stopping.\n",
      "\n",
      "Will train until eval-rmspe hasn't improved in 300 rounds.\n",
      "[100]\ttrain-rmse:2.99867\teval-rmse:3.00433\ttrain-rmspe:0.948988\teval-rmspe:0.949403\n",
      "[200]\ttrain-rmse:1.10332\teval-rmse:1.1057\ttrain-rmspe:0.665442\teval-rmspe:0.665124\n",
      "[300]\ttrain-rmse:0.416255\teval-rmse:0.41911\ttrain-rmspe:0.342182\teval-rmspe:0.33587\n",
      "[400]\ttrain-rmse:0.179399\teval-rmse:0.187803\ttrain-rmspe:0.181685\teval-rmspe:0.165442\n",
      "[500]\ttrain-rmse:0.112\teval-rmse:0.125858\ttrain-rmspe:0.138349\teval-rmspe:0.117309\n",
      "[600]\ttrain-rmse:0.096968\teval-rmse:0.112877\ttrain-rmspe:0.131763\teval-rmspe:0.109577\n",
      "[700]\ttrain-rmse:0.09252\teval-rmse:0.109038\ttrain-rmspe:0.128683\teval-rmspe:0.107739\n",
      "[800]\ttrain-rmse:0.08998\teval-rmse:0.106882\ttrain-rmspe:0.126823\teval-rmspe:0.106374\n",
      "[900]\ttrain-rmse:0.087776\teval-rmse:0.104835\ttrain-rmspe:0.1248\teval-rmspe:0.104776\n",
      "[1000]\ttrain-rmse:0.086067\teval-rmse:0.103273\ttrain-rmspe:0.122094\teval-rmspe:0.103471\n",
      "[1100]\ttrain-rmse:0.084659\teval-rmse:0.102262\ttrain-rmspe:0.117086\teval-rmspe:0.10255\n",
      "[1200]\ttrain-rmse:0.083468\teval-rmse:0.10143\ttrain-rmspe:0.114547\teval-rmspe:0.101826\n",
      "[1300]\ttrain-rmse:0.082485\teval-rmse:0.100891\ttrain-rmspe:0.111038\teval-rmspe:0.10133\n",
      "[1400]\ttrain-rmse:0.081552\teval-rmse:0.100435\ttrain-rmspe:0.107062\teval-rmspe:0.100926\n",
      "[1500]\ttrain-rmse:0.080804\teval-rmse:0.100121\ttrain-rmspe:0.104898\teval-rmspe:0.100667\n",
      "[1600]\ttrain-rmse:0.080089\teval-rmse:0.099722\ttrain-rmspe:0.103158\teval-rmspe:0.100324\n",
      "[1700]\ttrain-rmse:0.079419\teval-rmse:0.099494\ttrain-rmspe:0.099563\teval-rmspe:0.100149\n",
      "[1800]\ttrain-rmse:0.078824\teval-rmse:0.099235\ttrain-rmspe:0.097583\teval-rmspe:0.099906\n",
      "[1900]\ttrain-rmse:0.078219\teval-rmse:0.098993\ttrain-rmspe:0.095795\teval-rmspe:0.099717\n",
      "[2000]\ttrain-rmse:0.077633\teval-rmse:0.098801\ttrain-rmspe:0.093631\teval-rmspe:0.099574\n"
     ]
    },
    {
     "name": "stdout",
     "output_type": "stream",
     "text": [
      "[2100]\ttrain-rmse:0.077069\teval-rmse:0.098586\ttrain-rmspe:0.091356\teval-rmspe:0.099397\n",
      "[2200]\ttrain-rmse:0.076552\teval-rmse:0.098386\ttrain-rmspe:0.090024\teval-rmspe:0.099204\n",
      "[2300]\ttrain-rmse:0.076067\teval-rmse:0.098307\ttrain-rmspe:0.088245\teval-rmspe:0.099137\n",
      "[2400]\ttrain-rmse:0.075576\teval-rmse:0.098179\ttrain-rmspe:0.086665\teval-rmspe:0.099038\n",
      "[2500]\ttrain-rmse:0.07516\teval-rmse:0.09805\ttrain-rmspe:0.085161\teval-rmspe:0.098923\n",
      "[2600]\ttrain-rmse:0.074749\teval-rmse:0.09793\ttrain-rmspe:0.083733\teval-rmspe:0.098816\n",
      "[2700]\ttrain-rmse:0.07435\teval-rmse:0.09786\ttrain-rmspe:0.082551\teval-rmspe:0.098774\n",
      "[2800]\ttrain-rmse:0.073967\teval-rmse:0.097837\ttrain-rmspe:0.081402\teval-rmspe:0.098761\n",
      "[2900]\ttrain-rmse:0.073571\teval-rmse:0.097739\ttrain-rmspe:0.080406\teval-rmspe:0.098685\n",
      "[3000]\ttrain-rmse:0.073178\teval-rmse:0.097664\ttrain-rmspe:0.079648\teval-rmspe:0.098631\n",
      "[3100]\ttrain-rmse:0.072802\teval-rmse:0.097568\ttrain-rmspe:0.078919\teval-rmspe:0.098559\n",
      "[3200]\ttrain-rmse:0.072425\teval-rmse:0.097489\ttrain-rmspe:0.078379\teval-rmspe:0.098477\n",
      "[3300]\ttrain-rmse:0.072078\teval-rmse:0.09744\ttrain-rmspe:0.077834\teval-rmspe:0.098418\n",
      "[3400]\ttrain-rmse:0.071732\teval-rmse:0.097396\ttrain-rmspe:0.077219\teval-rmspe:0.098396\n",
      "[3500]\ttrain-rmse:0.071398\teval-rmse:0.097365\ttrain-rmspe:0.076743\teval-rmspe:0.098372\n",
      "[3600]\ttrain-rmse:0.071053\teval-rmse:0.097353\ttrain-rmspe:0.076212\teval-rmspe:0.098375\n",
      "[3700]\ttrain-rmse:0.070739\teval-rmse:0.097293\ttrain-rmspe:0.075746\teval-rmspe:0.098339\n",
      "[3800]\ttrain-rmse:0.070428\teval-rmse:0.097252\ttrain-rmspe:0.075264\teval-rmspe:0.098305\n",
      "[3900]\ttrain-rmse:0.070153\teval-rmse:0.097245\ttrain-rmspe:0.074848\teval-rmspe:0.098294\n",
      "[4000]\ttrain-rmse:0.069861\teval-rmse:0.097189\ttrain-rmspe:0.074398\teval-rmspe:0.098241\n",
      "[4100]\ttrain-rmse:0.069584\teval-rmse:0.097188\ttrain-rmspe:0.073967\teval-rmspe:0.098237\n",
      "[4200]\ttrain-rmse:0.069274\teval-rmse:0.097171\ttrain-rmspe:0.073493\teval-rmspe:0.09823\n",
      "[4300]\ttrain-rmse:0.068988\teval-rmse:0.097165\ttrain-rmspe:0.073111\teval-rmspe:0.098237\n",
      "[4400]\ttrain-rmse:0.068719\teval-rmse:0.097153\ttrain-rmspe:0.072752\teval-rmspe:0.098231\n",
      "[4500]\ttrain-rmse:0.068461\teval-rmse:0.097127\ttrain-rmspe:0.072315\teval-rmspe:0.098214\n",
      "[4600]\ttrain-rmse:0.068213\teval-rmse:0.0971\ttrain-rmspe:0.072013\teval-rmspe:0.098191\n",
      "[4700]\ttrain-rmse:0.06793\teval-rmse:0.097075\ttrain-rmspe:0.071621\teval-rmspe:0.098158\n",
      "[4800]\ttrain-rmse:0.067672\teval-rmse:0.097065\ttrain-rmspe:0.071268\teval-rmspe:0.098149\n",
      "[4900]\ttrain-rmse:0.067437\teval-rmse:0.097038\ttrain-rmspe:0.070969\teval-rmspe:0.098126\n",
      "[5000]\ttrain-rmse:0.067206\teval-rmse:0.097014\ttrain-rmspe:0.070671\teval-rmspe:0.098103\n",
      "[5100]\ttrain-rmse:0.066974\teval-rmse:0.097025\ttrain-rmspe:0.070378\teval-rmspe:0.098112\n",
      "[5200]\ttrain-rmse:0.066741\teval-rmse:0.097024\ttrain-rmspe:0.070091\teval-rmspe:0.098122\n",
      "Stopping. Best iteration:\n",
      "[4989]\ttrain-rmse:0.06723\teval-rmse:0.097014\ttrain-rmspe:0.0707\teval-rmspe:0.098099\n",
      "\n",
      "Validating\n",
      "RMSPE: 0.098645\n",
      "Make predictions on the test set\n",
      "Train a XGBoost model\n",
      "[0]\ttrain-rmse:8.18387\teval-rmse:8.20148\ttrain-rmspe:0.999864\teval-rmspe:0.999867\n",
      "Multiple eval metrics have been passed: 'eval-rmspe' will be used for early stopping.\n",
      "\n",
      "Will train until eval-rmspe hasn't improved in 300 rounds.\n",
      "[100]\ttrain-rmse:2.99856\teval-rmse:3.00449\ttrain-rmspe:0.949005\teval-rmspe:0.949433\n",
      "[200]\ttrain-rmse:1.10335\teval-rmse:1.10543\ttrain-rmspe:0.665451\teval-rmspe:0.665004\n",
      "[300]\ttrain-rmse:0.416185\teval-rmse:0.41932\ttrain-rmspe:0.342452\teval-rmspe:0.336066\n",
      "[400]\ttrain-rmse:0.17938\teval-rmse:0.187926\ttrain-rmspe:0.181656\teval-rmspe:0.165524\n",
      "[500]\ttrain-rmse:0.112148\teval-rmse:0.125915\ttrain-rmspe:0.140297\teval-rmspe:0.117287\n",
      "[600]\ttrain-rmse:0.097134\teval-rmse:0.112862\ttrain-rmspe:0.13306\teval-rmspe:0.109456\n",
      "[700]\ttrain-rmse:0.092634\teval-rmse:0.109046\ttrain-rmspe:0.130618\teval-rmspe:0.107622\n",
      "[800]\ttrain-rmse:0.089886\teval-rmse:0.10647\ttrain-rmspe:0.126942\teval-rmspe:0.105865\n",
      "[900]\ttrain-rmse:0.08797\teval-rmse:0.104905\ttrain-rmspe:0.124123\teval-rmspe:0.104635\n",
      "[1000]\ttrain-rmse:0.086245\teval-rmse:0.103209\ttrain-rmspe:0.121304\teval-rmspe:0.103268\n",
      "[1100]\ttrain-rmse:0.084881\teval-rmse:0.102143\ttrain-rmspe:0.118824\teval-rmspe:0.102349\n",
      "[1200]\ttrain-rmse:0.083666\teval-rmse:0.10136\ttrain-rmspe:0.117248\teval-rmspe:0.101697\n",
      "[1300]\ttrain-rmse:0.082657\teval-rmse:0.100758\ttrain-rmspe:0.114062\teval-rmspe:0.101151\n",
      "[1400]\ttrain-rmse:0.081807\teval-rmse:0.100369\ttrain-rmspe:0.111603\teval-rmspe:0.100853\n",
      "[1500]\ttrain-rmse:0.080951\teval-rmse:0.099889\ttrain-rmspe:0.108246\teval-rmspe:0.10045\n",
      "[1600]\ttrain-rmse:0.08024\teval-rmse:0.099437\ttrain-rmspe:0.105154\teval-rmspe:0.100044\n",
      "[1700]\ttrain-rmse:0.079561\teval-rmse:0.099218\ttrain-rmspe:0.10092\teval-rmspe:0.099831\n",
      "[1800]\ttrain-rmse:0.07889\teval-rmse:0.098874\ttrain-rmspe:0.09871\teval-rmspe:0.099513\n",
      "[1900]\ttrain-rmse:0.078276\teval-rmse:0.09869\ttrain-rmspe:0.09652\teval-rmspe:0.09934\n",
      "[2000]\ttrain-rmse:0.077672\teval-rmse:0.098476\ttrain-rmspe:0.093792\teval-rmspe:0.099199\n",
      "[2100]\ttrain-rmse:0.077134\teval-rmse:0.098342\ttrain-rmspe:0.090889\teval-rmspe:0.099071\n",
      "[2200]\ttrain-rmse:0.07656\teval-rmse:0.098139\ttrain-rmspe:0.088302\teval-rmspe:0.098912\n",
      "[2300]\ttrain-rmse:0.076054\teval-rmse:0.097957\ttrain-rmspe:0.086787\teval-rmspe:0.098736\n",
      "[2400]\ttrain-rmse:0.075566\teval-rmse:0.097832\ttrain-rmspe:0.085145\teval-rmspe:0.098626\n",
      "[2500]\ttrain-rmse:0.075138\teval-rmse:0.097753\ttrain-rmspe:0.08395\teval-rmspe:0.098559\n",
      "[2600]\ttrain-rmse:0.074669\teval-rmse:0.097653\ttrain-rmspe:0.082325\teval-rmspe:0.098479\n",
      "[2700]\ttrain-rmse:0.074246\teval-rmse:0.09759\ttrain-rmspe:0.081297\teval-rmspe:0.098428\n",
      "[2800]\ttrain-rmse:0.073797\teval-rmse:0.097505\ttrain-rmspe:0.080438\teval-rmspe:0.098329\n",
      "[2900]\ttrain-rmse:0.07341\teval-rmse:0.097473\ttrain-rmspe:0.079592\teval-rmspe:0.0983\n",
      "[3000]\ttrain-rmse:0.073021\teval-rmse:0.097406\ttrain-rmspe:0.078936\teval-rmspe:0.098256\n",
      "[3100]\ttrain-rmse:0.072663\teval-rmse:0.097335\ttrain-rmspe:0.07839\teval-rmspe:0.098194\n",
      "[3200]\ttrain-rmse:0.072312\teval-rmse:0.097324\ttrain-rmspe:0.077876\teval-rmspe:0.09818\n",
      "[3300]\ttrain-rmse:0.071952\teval-rmse:0.097241\ttrain-rmspe:0.077294\teval-rmspe:0.098118\n",
      "[3400]\ttrain-rmse:0.071599\teval-rmse:0.097202\ttrain-rmspe:0.076724\teval-rmspe:0.098088\n",
      "[3500]\ttrain-rmse:0.071293\teval-rmse:0.09718\ttrain-rmspe:0.076317\teval-rmspe:0.098069\n",
      "[3600]\ttrain-rmse:0.070981\teval-rmse:0.097113\ttrain-rmspe:0.075872\teval-rmspe:0.098005\n",
      "[3700]\ttrain-rmse:0.070643\teval-rmse:0.097072\ttrain-rmspe:0.075425\teval-rmspe:0.097968\n",
      "[3800]\ttrain-rmse:0.070322\teval-rmse:0.097033\ttrain-rmspe:0.074956\teval-rmspe:0.097935\n",
      "[3900]\ttrain-rmse:0.070029\teval-rmse:0.097\ttrain-rmspe:0.074516\teval-rmspe:0.097908\n",
      "[4000]\ttrain-rmse:0.069711\teval-rmse:0.096951\ttrain-rmspe:0.074105\teval-rmspe:0.097867\n",
      "[4100]\ttrain-rmse:0.0694\teval-rmse:0.096906\ttrain-rmspe:0.073678\teval-rmspe:0.097835\n",
      "[4200]\ttrain-rmse:0.069114\teval-rmse:0.09687\ttrain-rmspe:0.07327\teval-rmspe:0.0978\n",
      "[4300]\ttrain-rmse:0.068836\teval-rmse:0.096858\ttrain-rmspe:0.072903\teval-rmspe:0.097795\n",
      "[4400]\ttrain-rmse:0.068569\teval-rmse:0.09685\ttrain-rmspe:0.072543\teval-rmspe:0.097787\n",
      "[4500]\ttrain-rmse:0.068309\teval-rmse:0.096841\ttrain-rmspe:0.072211\teval-rmspe:0.097781\n",
      "[4600]\ttrain-rmse:0.068068\teval-rmse:0.096832\ttrain-rmspe:0.071892\teval-rmspe:0.097778\n",
      "[4700]\ttrain-rmse:0.067833\teval-rmse:0.096807\ttrain-rmspe:0.071577\teval-rmspe:0.097761\n",
      "[4800]\ttrain-rmse:0.067587\teval-rmse:0.096803\ttrain-rmspe:0.071221\teval-rmspe:0.097762\n",
      "[4900]\ttrain-rmse:0.067338\teval-rmse:0.096801\ttrain-rmspe:0.070904\teval-rmspe:0.097759\n",
      "[5000]\ttrain-rmse:0.06709\teval-rmse:0.096805\ttrain-rmspe:0.070581\teval-rmspe:0.097763\n",
      "[5100]\ttrain-rmse:0.066855\teval-rmse:0.096748\ttrain-rmspe:0.070293\teval-rmspe:0.097719\n",
      "[5200]\ttrain-rmse:0.066619\teval-rmse:0.096744\ttrain-rmspe:0.069988\teval-rmspe:0.097726\n",
      "[5300]\ttrain-rmse:0.066383\teval-rmse:0.096733\ttrain-rmspe:0.069686\teval-rmspe:0.097718\n",
      "[5400]\ttrain-rmse:0.066141\teval-rmse:0.096732\ttrain-rmspe:0.069369\teval-rmspe:0.097718\n",
      "[5500]\ttrain-rmse:0.065913\teval-rmse:0.09675\ttrain-rmspe:0.069077\teval-rmspe:0.097744\n",
      "[5600]\ttrain-rmse:0.065686\teval-rmse:0.09673\ttrain-rmspe:0.068798\teval-rmspe:0.09773\n",
      "Stopping. Best iteration:\n",
      "[5376]\ttrain-rmse:0.066199\teval-rmse:0.096724\ttrain-rmspe:0.069443\teval-rmspe:0.097707\n",
      "\n",
      "Validating\n",
      "RMSPE: 0.098420\n",
      "Make predictions on the test set\n",
      "Train a XGBoost model\n"
     ]
    },
    {
     "name": "stdout",
     "output_type": "stream",
     "text": [
      "[0]\ttrain-rmse:8.18386\teval-rmse:8.20147\ttrain-rmspe:0.999864\teval-rmspe:0.999867\n",
      "Multiple eval metrics have been passed: 'eval-rmspe' will be used for early stopping.\n",
      "\n",
      "Will train until eval-rmspe hasn't improved in 300 rounds.\n",
      "[100]\ttrain-rmse:2.99845\teval-rmse:3.00416\ttrain-rmspe:0.949018\teval-rmspe:0.949434\n",
      "[200]\ttrain-rmse:1.10328\teval-rmse:1.10543\ttrain-rmspe:0.665475\teval-rmspe:0.665054\n",
      "[300]\ttrain-rmse:0.416257\teval-rmse:0.419221\ttrain-rmspe:0.342458\teval-rmspe:0.335992\n",
      "[400]\ttrain-rmse:0.179484\teval-rmse:0.187686\ttrain-rmspe:0.180113\teval-rmspe:0.165366\n",
      "[500]\ttrain-rmse:0.112303\teval-rmse:0.126133\ttrain-rmspe:0.136933\teval-rmspe:0.117443\n",
      "[600]\ttrain-rmse:0.097136\teval-rmse:0.112847\ttrain-rmspe:0.129082\teval-rmspe:0.109399\n",
      "[700]\ttrain-rmse:0.092614\teval-rmse:0.10898\ttrain-rmspe:0.126053\teval-rmspe:0.107471\n",
      "[800]\ttrain-rmse:0.089888\teval-rmse:0.106248\ttrain-rmspe:0.124192\teval-rmspe:0.105638\n",
      "[900]\ttrain-rmse:0.087932\teval-rmse:0.104309\ttrain-rmspe:0.122052\teval-rmspe:0.104137\n",
      "[1000]\ttrain-rmse:0.086272\teval-rmse:0.102931\ttrain-rmspe:0.118579\teval-rmspe:0.103037\n",
      "[1100]\ttrain-rmse:0.084957\teval-rmse:0.102015\ttrain-rmspe:0.11564\teval-rmspe:0.102224\n",
      "[1200]\ttrain-rmse:0.08388\teval-rmse:0.101401\ttrain-rmspe:0.111428\teval-rmspe:0.101595\n",
      "[1300]\ttrain-rmse:0.082881\teval-rmse:0.100829\ttrain-rmspe:0.105392\teval-rmspe:0.101117\n",
      "[1400]\ttrain-rmse:0.081867\teval-rmse:0.100327\ttrain-rmspe:0.102962\teval-rmspe:0.100669\n",
      "[1500]\ttrain-rmse:0.080998\teval-rmse:0.100014\ttrain-rmspe:0.100638\teval-rmspe:0.100381\n",
      "[1600]\ttrain-rmse:0.080278\teval-rmse:0.099746\ttrain-rmspe:0.0988\teval-rmspe:0.100174\n",
      "[1700]\ttrain-rmse:0.079613\teval-rmse:0.099483\ttrain-rmspe:0.096604\teval-rmspe:0.099989\n",
      "[1800]\ttrain-rmse:0.078949\teval-rmse:0.099257\ttrain-rmspe:0.095029\teval-rmspe:0.099792\n",
      "[1900]\ttrain-rmse:0.078303\teval-rmse:0.099\ttrain-rmspe:0.092236\teval-rmspe:0.099579\n",
      "[2000]\ttrain-rmse:0.077763\teval-rmse:0.098819\ttrain-rmspe:0.090561\teval-rmspe:0.099425\n",
      "[2100]\ttrain-rmse:0.077262\teval-rmse:0.098712\ttrain-rmspe:0.089156\teval-rmspe:0.099354\n",
      "[2200]\ttrain-rmse:0.076699\teval-rmse:0.098526\ttrain-rmspe:0.087285\teval-rmspe:0.099173\n",
      "[2300]\ttrain-rmse:0.076164\teval-rmse:0.098419\ttrain-rmspe:0.085674\teval-rmspe:0.099064\n",
      "[2400]\ttrain-rmse:0.075735\teval-rmse:0.098341\ttrain-rmspe:0.084183\teval-rmspe:0.099011\n",
      "[2500]\ttrain-rmse:0.075307\teval-rmse:0.098271\ttrain-rmspe:0.083244\teval-rmspe:0.098974\n",
      "[2600]\ttrain-rmse:0.074882\teval-rmse:0.098198\ttrain-rmspe:0.082418\teval-rmspe:0.098929\n",
      "[2700]\ttrain-rmse:0.074401\teval-rmse:0.098122\ttrain-rmspe:0.081341\teval-rmspe:0.098879\n",
      "[2800]\ttrain-rmse:0.074031\teval-rmse:0.098024\ttrain-rmspe:0.080605\teval-rmspe:0.098783\n",
      "[2900]\ttrain-rmse:0.073607\teval-rmse:0.097939\ttrain-rmspe:0.079898\teval-rmspe:0.098708\n",
      "[3000]\ttrain-rmse:0.073241\teval-rmse:0.09786\ttrain-rmspe:0.079256\teval-rmspe:0.098643\n",
      "[3100]\ttrain-rmse:0.072878\teval-rmse:0.097803\ttrain-rmspe:0.078753\teval-rmspe:0.098598\n",
      "[3200]\ttrain-rmse:0.072497\teval-rmse:0.097715\ttrain-rmspe:0.078141\teval-rmspe:0.098514\n",
      "[3300]\ttrain-rmse:0.072139\teval-rmse:0.097677\ttrain-rmspe:0.077555\teval-rmspe:0.098487\n",
      "[3400]\ttrain-rmse:0.071814\teval-rmse:0.097625\ttrain-rmspe:0.077119\teval-rmspe:0.098432\n",
      "[3500]\ttrain-rmse:0.071463\teval-rmse:0.097608\ttrain-rmspe:0.076611\teval-rmspe:0.098424\n",
      "[3600]\ttrain-rmse:0.071148\teval-rmse:0.097579\ttrain-rmspe:0.076126\teval-rmspe:0.098405\n",
      "[3700]\ttrain-rmse:0.070813\teval-rmse:0.097517\ttrain-rmspe:0.075608\teval-rmspe:0.098361\n",
      "[3800]\ttrain-rmse:0.07049\teval-rmse:0.097451\ttrain-rmspe:0.075176\teval-rmspe:0.098297\n",
      "[3900]\ttrain-rmse:0.070173\teval-rmse:0.097396\ttrain-rmspe:0.074721\teval-rmspe:0.098258\n",
      "[4000]\ttrain-rmse:0.069865\teval-rmse:0.097339\ttrain-rmspe:0.074339\teval-rmspe:0.098211\n",
      "[4100]\ttrain-rmse:0.0696\teval-rmse:0.097324\ttrain-rmspe:0.073949\teval-rmspe:0.098202\n",
      "[4200]\ttrain-rmse:0.069302\teval-rmse:0.09728\ttrain-rmspe:0.073534\teval-rmspe:0.098175\n",
      "[4300]\ttrain-rmse:0.069009\teval-rmse:0.097254\ttrain-rmspe:0.073074\teval-rmspe:0.09815\n",
      "[4400]\ttrain-rmse:0.068749\teval-rmse:0.097225\ttrain-rmspe:0.072705\teval-rmspe:0.098126\n",
      "[4500]\ttrain-rmse:0.06851\teval-rmse:0.097205\ttrain-rmspe:0.072404\teval-rmspe:0.09811\n",
      "[4600]\ttrain-rmse:0.068257\teval-rmse:0.097192\ttrain-rmspe:0.072056\teval-rmspe:0.098096\n",
      "[4700]\ttrain-rmse:0.067985\teval-rmse:0.097202\ttrain-rmspe:0.071708\teval-rmspe:0.098111\n",
      "[4800]\ttrain-rmse:0.067732\teval-rmse:0.097179\ttrain-rmspe:0.071402\teval-rmspe:0.09811\n",
      "[4900]\ttrain-rmse:0.067485\teval-rmse:0.097157\ttrain-rmspe:0.071077\teval-rmspe:0.098081\n",
      "[5000]\ttrain-rmse:0.06723\teval-rmse:0.097166\ttrain-rmspe:0.070741\teval-rmspe:0.098092\n",
      "[5100]\ttrain-rmse:0.066996\teval-rmse:0.097168\ttrain-rmspe:0.070432\teval-rmspe:0.098097\n",
      "[5200]\ttrain-rmse:0.066753\teval-rmse:0.097156\ttrain-rmspe:0.070104\teval-rmspe:0.098091\n",
      "[5300]\ttrain-rmse:0.066508\teval-rmse:0.097149\ttrain-rmspe:0.069775\teval-rmspe:0.098083\n",
      "[5400]\ttrain-rmse:0.066239\teval-rmse:0.097126\ttrain-rmspe:0.069426\teval-rmspe:0.098063\n",
      "[5500]\ttrain-rmse:0.066011\teval-rmse:0.097116\ttrain-rmspe:0.069123\teval-rmspe:0.098058\n",
      "[5600]\ttrain-rmse:0.065785\teval-rmse:0.097109\ttrain-rmspe:0.068844\teval-rmspe:0.098061\n",
      "[5700]\ttrain-rmse:0.065575\teval-rmse:0.097087\ttrain-rmspe:0.06858\teval-rmspe:0.098037\n",
      "[5800]\ttrain-rmse:0.065358\teval-rmse:0.097077\ttrain-rmspe:0.068321\teval-rmspe:0.098028\n",
      "[5900]\ttrain-rmse:0.065135\teval-rmse:0.097058\ttrain-rmspe:0.068054\teval-rmspe:0.098014\n",
      "[6000]\ttrain-rmse:0.06494\teval-rmse:0.097046\ttrain-rmspe:0.067817\teval-rmspe:0.098007\n",
      "[6100]\ttrain-rmse:0.064726\teval-rmse:0.09705\ttrain-rmspe:0.06755\teval-rmspe:0.098012\n",
      "[6200]\ttrain-rmse:0.064525\teval-rmse:0.097037\ttrain-rmspe:0.067306\teval-rmspe:0.098001\n",
      "[6300]\ttrain-rmse:0.064312\teval-rmse:0.097035\ttrain-rmspe:0.06704\teval-rmspe:0.097993\n",
      "[6400]\ttrain-rmse:0.064102\teval-rmse:0.097029\ttrain-rmspe:0.066776\teval-rmspe:0.097992\n",
      "[6500]\ttrain-rmse:0.063899\teval-rmse:0.09703\ttrain-rmspe:0.066528\teval-rmspe:0.097998\n",
      "[6600]\ttrain-rmse:0.063689\teval-rmse:0.097034\ttrain-rmspe:0.066275\teval-rmspe:0.097997\n",
      "Stopping. Best iteration:\n",
      "[6391]\ttrain-rmse:0.064122\teval-rmse:0.097025\ttrain-rmspe:0.066802\teval-rmspe:0.097987\n",
      "\n",
      "Validating\n",
      "RMSPE: 0.098796\n",
      "Make predictions on the test set\n",
      "Train a XGBoost model\n",
      "[0]\ttrain-rmse:8.18401\teval-rmse:8.20176\ttrain-rmspe:0.999864\teval-rmspe:0.999867\n",
      "Multiple eval metrics have been passed: 'eval-rmspe' will be used for early stopping.\n",
      "\n",
      "Will train until eval-rmspe hasn't improved in 300 rounds.\n",
      "[100]\ttrain-rmse:2.99879\teval-rmse:3.00473\ttrain-rmspe:0.948971\teval-rmspe:0.949404\n",
      "[200]\ttrain-rmse:1.10348\teval-rmse:1.1061\ttrain-rmspe:0.665417\teval-rmspe:0.665168\n",
      "[300]\ttrain-rmse:0.416328\teval-rmse:0.419294\ttrain-rmspe:0.343414\teval-rmspe:0.336059\n",
      "[400]\ttrain-rmse:0.179435\teval-rmse:0.187931\ttrain-rmspe:0.183273\teval-rmspe:0.165588\n",
      "[500]\ttrain-rmse:0.112165\teval-rmse:0.126067\ttrain-rmspe:0.143417\teval-rmspe:0.117438\n",
      "[600]\ttrain-rmse:0.097091\teval-rmse:0.113003\ttrain-rmspe:0.136705\teval-rmspe:0.109583\n",
      "[700]\ttrain-rmse:0.092563\teval-rmse:0.108992\ttrain-rmspe:0.135273\teval-rmspe:0.107554\n",
      "[800]\ttrain-rmse:0.089982\teval-rmse:0.106632\ttrain-rmspe:0.133256\teval-rmspe:0.105946\n",
      "[900]\ttrain-rmse:0.08796\teval-rmse:0.104639\ttrain-rmspe:0.129695\teval-rmspe:0.104393\n",
      "[1000]\ttrain-rmse:0.086311\teval-rmse:0.103134\ttrain-rmspe:0.126163\teval-rmspe:0.103129\n",
      "[1100]\ttrain-rmse:0.084822\teval-rmse:0.101961\ttrain-rmspe:0.12206\teval-rmspe:0.102086\n",
      "[1200]\ttrain-rmse:0.083539\teval-rmse:0.101074\ttrain-rmspe:0.117682\teval-rmspe:0.101293\n",
      "[1300]\ttrain-rmse:0.082469\teval-rmse:0.100548\ttrain-rmspe:0.113523\teval-rmspe:0.100869\n",
      "[1400]\ttrain-rmse:0.081576\teval-rmse:0.100069\ttrain-rmspe:0.108787\teval-rmspe:0.100433\n",
      "[1500]\ttrain-rmse:0.080819\teval-rmse:0.0998\ttrain-rmspe:0.104152\teval-rmspe:0.100239\n",
      "[1600]\ttrain-rmse:0.080117\teval-rmse:0.099496\ttrain-rmspe:0.102525\teval-rmspe:0.099952\n",
      "[1700]\ttrain-rmse:0.079429\teval-rmse:0.099301\ttrain-rmspe:0.100071\teval-rmspe:0.09978\n",
      "[1800]\ttrain-rmse:0.078878\teval-rmse:0.099142\ttrain-rmspe:0.098431\teval-rmspe:0.099638\n",
      "[1900]\ttrain-rmse:0.078272\teval-rmse:0.098841\ttrain-rmspe:0.096553\teval-rmspe:0.09937\n",
      "[2000]\ttrain-rmse:0.077662\teval-rmse:0.098623\ttrain-rmspe:0.094095\teval-rmspe:0.09917\n",
      "[2100]\ttrain-rmse:0.077124\teval-rmse:0.098411\ttrain-rmspe:0.092435\teval-rmspe:0.09901\n",
      "[2200]\ttrain-rmse:0.07663\teval-rmse:0.098259\ttrain-rmspe:0.090613\teval-rmspe:0.098885\n"
     ]
    },
    {
     "name": "stdout",
     "output_type": "stream",
     "text": [
      "[2300]\ttrain-rmse:0.076159\teval-rmse:0.098122\ttrain-rmspe:0.088284\teval-rmspe:0.09877\n",
      "[2400]\ttrain-rmse:0.075717\teval-rmse:0.098026\ttrain-rmspe:0.086384\teval-rmspe:0.098711\n",
      "[2500]\ttrain-rmse:0.075283\teval-rmse:0.097896\ttrain-rmspe:0.085466\teval-rmspe:0.098601\n",
      "[2600]\ttrain-rmse:0.074879\teval-rmse:0.097838\ttrain-rmspe:0.084349\teval-rmspe:0.09853\n",
      "[2700]\ttrain-rmse:0.074474\teval-rmse:0.097783\ttrain-rmspe:0.083344\teval-rmspe:0.098496\n",
      "[2800]\ttrain-rmse:0.074083\teval-rmse:0.097749\ttrain-rmspe:0.082211\teval-rmspe:0.098462\n",
      "[2900]\ttrain-rmse:0.073731\teval-rmse:0.097701\ttrain-rmspe:0.08155\teval-rmspe:0.098421\n",
      "[3000]\ttrain-rmse:0.073323\teval-rmse:0.097587\ttrain-rmspe:0.080586\teval-rmspe:0.098327\n",
      "[3100]\ttrain-rmse:0.072938\teval-rmse:0.097532\ttrain-rmspe:0.079652\teval-rmspe:0.098288\n",
      "[3200]\ttrain-rmse:0.072583\teval-rmse:0.09744\ttrain-rmspe:0.078946\teval-rmspe:0.098199\n",
      "[3300]\ttrain-rmse:0.072209\teval-rmse:0.097395\ttrain-rmspe:0.078262\teval-rmspe:0.098176\n",
      "[3400]\ttrain-rmse:0.07187\teval-rmse:0.097346\ttrain-rmspe:0.077498\teval-rmspe:0.098133\n",
      "[3500]\ttrain-rmse:0.071538\teval-rmse:0.097304\ttrain-rmspe:0.076893\teval-rmspe:0.09809\n",
      "[3600]\ttrain-rmse:0.071167\teval-rmse:0.097274\ttrain-rmspe:0.076287\teval-rmspe:0.098066\n",
      "[3700]\ttrain-rmse:0.070872\teval-rmse:0.097248\ttrain-rmspe:0.075773\teval-rmspe:0.09804\n",
      "[3800]\ttrain-rmse:0.070538\teval-rmse:0.097198\ttrain-rmspe:0.075277\teval-rmspe:0.097996\n",
      "[3900]\ttrain-rmse:0.070257\teval-rmse:0.097176\ttrain-rmspe:0.074912\teval-rmspe:0.097974\n",
      "[4000]\ttrain-rmse:0.069976\teval-rmse:0.097151\ttrain-rmspe:0.074515\teval-rmspe:0.097956\n",
      "[4100]\ttrain-rmse:0.0697\teval-rmse:0.097103\ttrain-rmspe:0.074113\teval-rmspe:0.097914\n",
      "[4200]\ttrain-rmse:0.069426\teval-rmse:0.097098\ttrain-rmspe:0.073721\teval-rmspe:0.097909\n",
      "[4300]\ttrain-rmse:0.069144\teval-rmse:0.097061\ttrain-rmspe:0.073375\teval-rmspe:0.097876\n",
      "[4400]\ttrain-rmse:0.068863\teval-rmse:0.097065\ttrain-rmspe:0.072965\teval-rmspe:0.09788\n",
      "[4500]\ttrain-rmse:0.068575\teval-rmse:0.097054\ttrain-rmspe:0.07255\teval-rmspe:0.09787\n",
      "[4600]\ttrain-rmse:0.068306\teval-rmse:0.097034\ttrain-rmspe:0.072201\teval-rmspe:0.097858\n",
      "[4700]\ttrain-rmse:0.068048\teval-rmse:0.097025\ttrain-rmspe:0.071845\teval-rmspe:0.097862\n",
      "[4800]\ttrain-rmse:0.067802\teval-rmse:0.097008\ttrain-rmspe:0.071525\teval-rmspe:0.097851\n",
      "[4900]\ttrain-rmse:0.067537\teval-rmse:0.09697\ttrain-rmspe:0.071178\teval-rmspe:0.097824\n",
      "[5000]\ttrain-rmse:0.067297\teval-rmse:0.096966\ttrain-rmspe:0.07084\teval-rmspe:0.097829\n",
      "[5100]\ttrain-rmse:0.067037\teval-rmse:0.096968\ttrain-rmspe:0.070514\teval-rmspe:0.097847\n",
      "[5200]\ttrain-rmse:0.066791\teval-rmse:0.096945\ttrain-rmspe:0.070193\teval-rmspe:0.097825\n",
      "Stopping. Best iteration:\n",
      "[4921]\ttrain-rmse:0.067485\teval-rmse:0.096958\ttrain-rmspe:0.071109\teval-rmspe:0.097812\n",
      "\n",
      "Validating\n",
      "RMSPE: 0.098755\n",
      "Make predictions on the test set\n",
      "Train a XGBoost model\n",
      "[0]\ttrain-rmse:8.18387\teval-rmse:8.20147\ttrain-rmspe:0.999864\teval-rmspe:0.999867\n",
      "Multiple eval metrics have been passed: 'eval-rmspe' will be used for early stopping.\n",
      "\n",
      "Will train until eval-rmspe hasn't improved in 300 rounds.\n",
      "[100]\ttrain-rmse:2.99869\teval-rmse:3.00428\ttrain-rmspe:0.948985\teval-rmspe:0.949398\n",
      "[200]\ttrain-rmse:1.10339\teval-rmse:1.10662\ttrain-rmspe:0.665448\teval-rmspe:0.665417\n",
      "[300]\ttrain-rmse:0.416233\teval-rmse:0.420258\ttrain-rmspe:0.34279\teval-rmspe:0.336679\n",
      "[400]\ttrain-rmse:0.179388\teval-rmse:0.188929\ttrain-rmspe:0.184024\teval-rmspe:0.166328\n",
      "[500]\ttrain-rmse:0.112029\teval-rmse:0.126587\ttrain-rmspe:0.13994\teval-rmspe:0.11775\n",
      "[600]\ttrain-rmse:0.096935\teval-rmse:0.113235\ttrain-rmspe:0.133674\teval-rmspe:0.109528\n",
      "[700]\ttrain-rmse:0.09251\teval-rmse:0.109095\ttrain-rmspe:0.132123\teval-rmspe:0.107402\n",
      "[800]\ttrain-rmse:0.08999\teval-rmse:0.106513\ttrain-rmspe:0.129967\teval-rmspe:0.105646\n",
      "[900]\ttrain-rmse:0.087907\teval-rmse:0.104543\ttrain-rmspe:0.125818\teval-rmspe:0.104127\n",
      "[1000]\ttrain-rmse:0.086054\teval-rmse:0.102739\ttrain-rmspe:0.122289\teval-rmspe:0.102623\n",
      "[1100]\ttrain-rmse:0.084669\teval-rmse:0.101729\ttrain-rmspe:0.120068\teval-rmspe:0.101729\n",
      "[1200]\ttrain-rmse:0.083417\teval-rmse:0.100784\ttrain-rmspe:0.1155\teval-rmspe:0.100913\n",
      "[1300]\ttrain-rmse:0.082407\teval-rmse:0.100169\ttrain-rmspe:0.112994\teval-rmspe:0.100364\n",
      "[1400]\ttrain-rmse:0.081467\teval-rmse:0.099831\ttrain-rmspe:0.110252\teval-rmspe:0.100083\n",
      "[1500]\ttrain-rmse:0.080704\teval-rmse:0.099505\ttrain-rmspe:0.106989\teval-rmspe:0.099806\n",
      "[1600]\ttrain-rmse:0.07987\teval-rmse:0.099204\ttrain-rmspe:0.103565\teval-rmspe:0.099518\n",
      "[1700]\ttrain-rmse:0.07924\teval-rmse:0.098957\ttrain-rmspe:0.100435\teval-rmspe:0.099323\n",
      "[1800]\ttrain-rmse:0.078584\teval-rmse:0.09876\ttrain-rmspe:0.097485\teval-rmspe:0.099153\n",
      "[1900]\ttrain-rmse:0.077984\teval-rmse:0.098617\ttrain-rmspe:0.094665\teval-rmspe:0.099023\n",
      "[2000]\ttrain-rmse:0.077436\teval-rmse:0.098417\ttrain-rmspe:0.092487\teval-rmspe:0.098868\n",
      "[2100]\ttrain-rmse:0.076914\teval-rmse:0.098283\ttrain-rmspe:0.089949\teval-rmspe:0.098776\n",
      "[2200]\ttrain-rmse:0.076425\teval-rmse:0.098115\ttrain-rmspe:0.088254\teval-rmspe:0.098638\n",
      "[2300]\ttrain-rmse:0.075904\teval-rmse:0.097956\ttrain-rmspe:0.08649\teval-rmspe:0.098481\n",
      "[2400]\ttrain-rmse:0.075433\teval-rmse:0.097846\ttrain-rmspe:0.085086\teval-rmspe:0.098382\n",
      "[2500]\ttrain-rmse:0.074971\teval-rmse:0.09775\ttrain-rmspe:0.083809\teval-rmspe:0.098318\n",
      "[2600]\ttrain-rmse:0.074523\teval-rmse:0.09762\ttrain-rmspe:0.08286\teval-rmspe:0.098215\n",
      "[2700]\ttrain-rmse:0.074068\teval-rmse:0.09755\ttrain-rmspe:0.081714\teval-rmspe:0.098155\n",
      "[2800]\ttrain-rmse:0.073693\teval-rmse:0.097504\ttrain-rmspe:0.080811\teval-rmspe:0.0981\n",
      "[2900]\ttrain-rmse:0.073324\teval-rmse:0.097395\ttrain-rmspe:0.07987\teval-rmspe:0.098009\n",
      "[3000]\ttrain-rmse:0.072918\teval-rmse:0.097333\ttrain-rmspe:0.079062\teval-rmspe:0.09797\n",
      "[3100]\ttrain-rmse:0.072518\teval-rmse:0.097225\ttrain-rmspe:0.078415\teval-rmspe:0.0979\n",
      "[3200]\ttrain-rmse:0.072114\teval-rmse:0.097131\ttrain-rmspe:0.077669\teval-rmspe:0.097818\n",
      "[3300]\ttrain-rmse:0.071794\teval-rmse:0.097098\ttrain-rmspe:0.077151\teval-rmspe:0.097791\n",
      "[3400]\ttrain-rmse:0.071428\teval-rmse:0.097039\ttrain-rmspe:0.076634\teval-rmspe:0.097734\n",
      "[3500]\ttrain-rmse:0.071099\teval-rmse:0.096974\ttrain-rmspe:0.076177\teval-rmspe:0.097687\n",
      "[3600]\ttrain-rmse:0.070808\teval-rmse:0.096933\ttrain-rmspe:0.075745\teval-rmspe:0.097666\n",
      "[3700]\ttrain-rmse:0.070477\teval-rmse:0.096885\ttrain-rmspe:0.075264\teval-rmspe:0.097624\n",
      "[3800]\ttrain-rmse:0.07018\teval-rmse:0.096828\ttrain-rmspe:0.074803\teval-rmspe:0.097584\n",
      "[3900]\ttrain-rmse:0.069886\teval-rmse:0.096801\ttrain-rmspe:0.074406\teval-rmspe:0.097561\n",
      "[4000]\ttrain-rmse:0.069612\teval-rmse:0.096779\ttrain-rmspe:0.073995\teval-rmspe:0.097542\n",
      "[4100]\ttrain-rmse:0.069313\teval-rmse:0.096763\ttrain-rmspe:0.073587\teval-rmspe:0.097535\n",
      "[4200]\ttrain-rmse:0.069062\teval-rmse:0.096728\ttrain-rmspe:0.073218\teval-rmspe:0.0975\n",
      "[4300]\ttrain-rmse:0.068772\teval-rmse:0.096719\ttrain-rmspe:0.072791\teval-rmspe:0.097492\n",
      "[4400]\ttrain-rmse:0.068519\teval-rmse:0.096695\ttrain-rmspe:0.072458\teval-rmspe:0.097467\n",
      "[4500]\ttrain-rmse:0.068264\teval-rmse:0.096691\ttrain-rmspe:0.072075\teval-rmspe:0.097459\n",
      "[4600]\ttrain-rmse:0.068008\teval-rmse:0.096679\ttrain-rmspe:0.071736\teval-rmspe:0.097441\n",
      "[4700]\ttrain-rmse:0.067738\teval-rmse:0.096662\ttrain-rmspe:0.071363\teval-rmspe:0.097436\n",
      "[4800]\ttrain-rmse:0.067507\teval-rmse:0.096636\ttrain-rmspe:0.071057\teval-rmspe:0.097405\n",
      "[4900]\ttrain-rmse:0.067254\teval-rmse:0.096614\ttrain-rmspe:0.070732\teval-rmspe:0.097393\n",
      "[5000]\ttrain-rmse:0.066982\teval-rmse:0.096605\ttrain-rmspe:0.070393\teval-rmspe:0.097399\n",
      "[5100]\ttrain-rmse:0.066736\teval-rmse:0.096577\ttrain-rmspe:0.070081\teval-rmspe:0.097374\n",
      "[5200]\ttrain-rmse:0.0665\teval-rmse:0.096568\ttrain-rmspe:0.069776\teval-rmspe:0.097367\n",
      "[5300]\ttrain-rmse:0.066278\teval-rmse:0.096548\ttrain-rmspe:0.069497\teval-rmspe:0.097355\n",
      "[5400]\ttrain-rmse:0.066049\teval-rmse:0.096567\ttrain-rmspe:0.06922\teval-rmspe:0.097375\n",
      "[5500]\ttrain-rmse:0.065828\teval-rmse:0.096576\ttrain-rmspe:0.06893\teval-rmspe:0.097391\n",
      "Stopping. Best iteration:\n",
      "[5256]\ttrain-rmse:0.06638\teval-rmse:0.09655\ttrain-rmspe:0.069631\teval-rmspe:0.097354\n",
      "\n",
      "Validating\n",
      "RMSPE: 0.098366\n",
      "Make predictions on the test set\n",
      "Train a XGBoost model\n",
      "[0]\ttrain-rmse:8.18387\teval-rmse:8.20148\ttrain-rmspe:0.999864\teval-rmspe:0.999867\n",
      "Multiple eval metrics have been passed: 'eval-rmspe' will be used for early stopping.\n",
      "\n",
      "Will train until eval-rmspe hasn't improved in 300 rounds.\n",
      "[100]\ttrain-rmse:2.99867\teval-rmse:3.00411\ttrain-rmspe:0.948987\teval-rmspe:0.949394\n"
     ]
    },
    {
     "name": "stdout",
     "output_type": "stream",
     "text": [
      "[200]\ttrain-rmse:1.10334\teval-rmse:1.10569\ttrain-rmspe:0.665403\teval-rmspe:0.6651\n",
      "[300]\ttrain-rmse:0.416275\teval-rmse:0.419828\ttrain-rmspe:0.342481\teval-rmspe:0.336362\n",
      "[400]\ttrain-rmse:0.179572\teval-rmse:0.188353\ttrain-rmspe:0.181251\teval-rmspe:0.16593\n",
      "[500]\ttrain-rmse:0.112179\teval-rmse:0.126413\ttrain-rmspe:0.138933\teval-rmspe:0.117713\n",
      "[600]\ttrain-rmse:0.097185\teval-rmse:0.113159\ttrain-rmspe:0.132022\teval-rmspe:0.10968\n",
      "[700]\ttrain-rmse:0.092424\teval-rmse:0.109164\ttrain-rmspe:0.129317\teval-rmspe:0.107638\n",
      "[800]\ttrain-rmse:0.089842\teval-rmse:0.106672\ttrain-rmspe:0.127276\teval-rmspe:0.105985\n",
      "[900]\ttrain-rmse:0.087795\teval-rmse:0.104755\ttrain-rmspe:0.125315\teval-rmspe:0.1045\n",
      "[1000]\ttrain-rmse:0.086058\teval-rmse:0.103244\ttrain-rmspe:0.121221\teval-rmspe:0.1032\n",
      "[1100]\ttrain-rmse:0.084595\teval-rmse:0.102104\ttrain-rmspe:0.117177\teval-rmspe:0.102217\n",
      "[1200]\ttrain-rmse:0.083379\teval-rmse:0.101388\ttrain-rmspe:0.114208\teval-rmspe:0.101575\n",
      "[1300]\ttrain-rmse:0.082379\teval-rmse:0.100712\ttrain-rmspe:0.111709\teval-rmspe:0.100948\n",
      "[1400]\ttrain-rmse:0.081644\teval-rmse:0.100351\ttrain-rmspe:0.107694\teval-rmspe:0.100624\n",
      "[1500]\ttrain-rmse:0.080871\teval-rmse:0.100005\ttrain-rmspe:0.105604\teval-rmspe:0.100302\n",
      "[1600]\ttrain-rmse:0.080079\teval-rmse:0.099596\ttrain-rmspe:0.102332\teval-rmspe:0.099928\n",
      "[1700]\ttrain-rmse:0.079414\teval-rmse:0.099328\ttrain-rmspe:0.099372\teval-rmspe:0.099696\n",
      "[1800]\ttrain-rmse:0.078821\teval-rmse:0.098996\ttrain-rmspe:0.097029\teval-rmspe:0.099397\n",
      "[1900]\ttrain-rmse:0.078205\teval-rmse:0.098745\ttrain-rmspe:0.095334\teval-rmspe:0.09915\n",
      "[2000]\ttrain-rmse:0.077654\teval-rmse:0.098673\ttrain-rmspe:0.093447\teval-rmspe:0.099094\n",
      "[2100]\ttrain-rmse:0.07704\teval-rmse:0.098461\ttrain-rmspe:0.09126\teval-rmspe:0.098922\n",
      "[2200]\ttrain-rmse:0.076516\teval-rmse:0.098326\ttrain-rmspe:0.089418\teval-rmspe:0.098827\n",
      "[2300]\ttrain-rmse:0.076034\teval-rmse:0.098239\ttrain-rmspe:0.087389\teval-rmspe:0.098753\n",
      "[2400]\ttrain-rmse:0.075575\teval-rmse:0.098085\ttrain-rmspe:0.085928\teval-rmspe:0.098596\n",
      "[2500]\ttrain-rmse:0.075084\teval-rmse:0.098001\ttrain-rmspe:0.084255\teval-rmspe:0.098513\n",
      "[2600]\ttrain-rmse:0.074656\teval-rmse:0.097919\ttrain-rmspe:0.083102\teval-rmspe:0.098443\n",
      "[2700]\ttrain-rmse:0.074266\teval-rmse:0.097873\ttrain-rmspe:0.082265\teval-rmspe:0.098406\n",
      "[2800]\ttrain-rmse:0.073833\teval-rmse:0.097779\ttrain-rmspe:0.081527\teval-rmspe:0.098332\n",
      "[2900]\ttrain-rmse:0.073434\teval-rmse:0.097726\ttrain-rmspe:0.080748\teval-rmspe:0.098291\n",
      "[3000]\ttrain-rmse:0.073067\teval-rmse:0.097671\ttrain-rmspe:0.079598\teval-rmspe:0.098249\n",
      "[3100]\ttrain-rmse:0.072716\teval-rmse:0.097612\ttrain-rmspe:0.078934\teval-rmspe:0.098186\n",
      "[3200]\ttrain-rmse:0.072358\teval-rmse:0.097576\ttrain-rmspe:0.078361\teval-rmspe:0.098157\n",
      "[3300]\ttrain-rmse:0.071985\teval-rmse:0.097531\ttrain-rmspe:0.077806\teval-rmspe:0.09812\n",
      "[3400]\ttrain-rmse:0.071656\teval-rmse:0.097478\ttrain-rmspe:0.077271\teval-rmspe:0.098051\n",
      "[3500]\ttrain-rmse:0.071322\teval-rmse:0.097432\ttrain-rmspe:0.076738\teval-rmspe:0.098013\n",
      "[3600]\ttrain-rmse:0.071002\teval-rmse:0.097392\ttrain-rmspe:0.076312\teval-rmspe:0.097975\n",
      "[3700]\ttrain-rmse:0.07068\teval-rmse:0.09733\ttrain-rmspe:0.075864\teval-rmspe:0.097921\n",
      "[3800]\ttrain-rmse:0.070337\teval-rmse:0.097267\ttrain-rmspe:0.075295\teval-rmspe:0.097875\n",
      "[3900]\ttrain-rmse:0.070041\teval-rmse:0.09724\ttrain-rmspe:0.074889\teval-rmspe:0.09785\n",
      "[4000]\ttrain-rmse:0.069781\teval-rmse:0.097236\ttrain-rmspe:0.074421\teval-rmspe:0.097849\n",
      "[4100]\ttrain-rmse:0.069507\teval-rmse:0.097229\ttrain-rmspe:0.074054\teval-rmspe:0.097844\n",
      "[4200]\ttrain-rmse:0.069211\teval-rmse:0.097182\ttrain-rmspe:0.073571\teval-rmspe:0.097797\n",
      "[4300]\ttrain-rmse:0.068934\teval-rmse:0.097172\ttrain-rmspe:0.07318\teval-rmspe:0.097788\n",
      "[4400]\ttrain-rmse:0.068652\teval-rmse:0.097134\ttrain-rmspe:0.072792\teval-rmspe:0.097765\n",
      "[4500]\ttrain-rmse:0.068395\teval-rmse:0.097114\ttrain-rmspe:0.072468\teval-rmspe:0.097751\n",
      "[4600]\ttrain-rmse:0.068113\teval-rmse:0.097101\ttrain-rmspe:0.072102\teval-rmspe:0.097736\n",
      "[4700]\ttrain-rmse:0.067854\teval-rmse:0.097077\ttrain-rmspe:0.071691\teval-rmspe:0.097719\n",
      "[4800]\ttrain-rmse:0.067618\teval-rmse:0.097042\ttrain-rmspe:0.07135\teval-rmspe:0.097686\n",
      "[4900]\ttrain-rmse:0.067391\teval-rmse:0.097002\ttrain-rmspe:0.071032\teval-rmspe:0.097656\n",
      "[5000]\ttrain-rmse:0.067151\teval-rmse:0.096983\ttrain-rmspe:0.070711\teval-rmspe:0.097643\n",
      "[5100]\ttrain-rmse:0.066895\teval-rmse:0.096994\ttrain-rmspe:0.070354\teval-rmspe:0.097661\n",
      "[5200]\ttrain-rmse:0.066664\teval-rmse:0.097012\ttrain-rmspe:0.070037\teval-rmspe:0.097689\n",
      "[5300]\ttrain-rmse:0.066437\teval-rmse:0.097021\ttrain-rmspe:0.069708\teval-rmspe:0.097708\n",
      "Stopping. Best iteration:\n",
      "[5008]\ttrain-rmse:0.067131\teval-rmse:0.096976\ttrain-rmspe:0.070685\teval-rmspe:0.097636\n",
      "\n",
      "Validating\n",
      "RMSPE: 0.099057\n",
      "Make predictions on the test set\n",
      "Train a XGBoost model\n",
      "[0]\ttrain-rmse:8.18387\teval-rmse:8.20139\ttrain-rmspe:0.999864\teval-rmspe:0.999867\n",
      "Multiple eval metrics have been passed: 'eval-rmspe' will be used for early stopping.\n",
      "\n",
      "Will train until eval-rmspe hasn't improved in 300 rounds.\n",
      "[100]\ttrain-rmse:2.99872\teval-rmse:3.00421\ttrain-rmspe:0.948981\teval-rmspe:0.949388\n",
      "[200]\ttrain-rmse:1.10339\teval-rmse:1.10574\ttrain-rmspe:0.665443\teval-rmspe:0.665077\n",
      "[300]\ttrain-rmse:0.416211\teval-rmse:0.418384\ttrain-rmspe:0.343147\teval-rmspe:0.335396\n",
      "[400]\ttrain-rmse:0.179235\teval-rmse:0.186647\ttrain-rmspe:0.183578\teval-rmspe:0.164523\n",
      "[500]\ttrain-rmse:0.111902\teval-rmse:0.125486\ttrain-rmspe:0.142029\teval-rmspe:0.11704\n",
      "[600]\ttrain-rmse:0.096808\teval-rmse:0.112576\ttrain-rmspe:0.133226\teval-rmspe:0.109435\n",
      "[700]\ttrain-rmse:0.092404\teval-rmse:0.10892\ttrain-rmspe:0.130563\teval-rmspe:0.107786\n",
      "[800]\ttrain-rmse:0.089986\teval-rmse:0.106496\ttrain-rmspe:0.126497\teval-rmspe:0.106135\n",
      "[900]\ttrain-rmse:0.087857\teval-rmse:0.104598\ttrain-rmspe:0.124281\teval-rmspe:0.104637\n",
      "[1000]\ttrain-rmse:0.086152\teval-rmse:0.103177\ttrain-rmspe:0.122001\teval-rmspe:0.103428\n",
      "[1100]\ttrain-rmse:0.084792\teval-rmse:0.102007\ttrain-rmspe:0.119534\teval-rmspe:0.10238\n",
      "[1200]\ttrain-rmse:0.083646\teval-rmse:0.101252\ttrain-rmspe:0.117244\teval-rmspe:0.101689\n",
      "[1300]\ttrain-rmse:0.082622\teval-rmse:0.100731\ttrain-rmspe:0.1141\teval-rmspe:0.101193\n",
      "[1400]\ttrain-rmse:0.081681\teval-rmse:0.100267\ttrain-rmspe:0.110503\teval-rmspe:0.100799\n",
      "[1500]\ttrain-rmse:0.08089\teval-rmse:0.100006\ttrain-rmspe:0.107399\teval-rmspe:0.10056\n",
      "[1600]\ttrain-rmse:0.080139\teval-rmse:0.099678\ttrain-rmspe:0.104782\teval-rmspe:0.100305\n",
      "[1700]\ttrain-rmse:0.079449\teval-rmse:0.099367\ttrain-rmspe:0.101252\teval-rmspe:0.099988\n",
      "[1800]\ttrain-rmse:0.078777\teval-rmse:0.0991\ttrain-rmspe:0.098421\teval-rmspe:0.099757\n",
      "[1900]\ttrain-rmse:0.078205\teval-rmse:0.098884\ttrain-rmspe:0.095019\teval-rmspe:0.099575\n",
      "[2000]\ttrain-rmse:0.077622\teval-rmse:0.098659\ttrain-rmspe:0.09228\teval-rmspe:0.099365\n",
      "[2100]\ttrain-rmse:0.077096\teval-rmse:0.098538\ttrain-rmspe:0.090341\teval-rmspe:0.099276\n",
      "[2200]\ttrain-rmse:0.076575\teval-rmse:0.098424\ttrain-rmspe:0.08856\teval-rmspe:0.099177\n",
      "[2300]\ttrain-rmse:0.076075\teval-rmse:0.098257\ttrain-rmspe:0.087523\teval-rmspe:0.099021\n",
      "[2400]\ttrain-rmse:0.075588\teval-rmse:0.098115\ttrain-rmspe:0.085495\teval-rmspe:0.098918\n",
      "[2500]\ttrain-rmse:0.075151\teval-rmse:0.097968\ttrain-rmspe:0.084072\teval-rmspe:0.098782\n",
      "[2600]\ttrain-rmse:0.074711\teval-rmse:0.097829\ttrain-rmspe:0.082748\teval-rmspe:0.098674\n",
      "[2700]\ttrain-rmse:0.074286\teval-rmse:0.097712\ttrain-rmspe:0.081609\teval-rmspe:0.098571\n",
      "[2800]\ttrain-rmse:0.073875\teval-rmse:0.097672\ttrain-rmspe:0.081001\teval-rmspe:0.098564\n",
      "[2900]\ttrain-rmse:0.073483\teval-rmse:0.097601\ttrain-rmspe:0.080309\teval-rmspe:0.098509\n",
      "[3000]\ttrain-rmse:0.073107\teval-rmse:0.097546\ttrain-rmspe:0.079535\teval-rmspe:0.098462\n",
      "[3100]\ttrain-rmse:0.072756\teval-rmse:0.097492\ttrain-rmspe:0.079027\teval-rmspe:0.098418\n",
      "[3200]\ttrain-rmse:0.072393\teval-rmse:0.097451\ttrain-rmspe:0.078487\teval-rmspe:0.098377\n",
      "[3300]\ttrain-rmse:0.072065\teval-rmse:0.097362\ttrain-rmspe:0.077912\teval-rmspe:0.098297\n",
      "[3400]\ttrain-rmse:0.071745\teval-rmse:0.09734\ttrain-rmspe:0.077205\teval-rmspe:0.098271\n",
      "[3500]\ttrain-rmse:0.071405\teval-rmse:0.097337\ttrain-rmspe:0.076673\teval-rmspe:0.098269\n",
      "[3600]\ttrain-rmse:0.071096\teval-rmse:0.097263\ttrain-rmspe:0.076198\teval-rmspe:0.098193\n",
      "[3700]\ttrain-rmse:0.070794\teval-rmse:0.097251\ttrain-rmspe:0.075765\teval-rmspe:0.098205\n",
      "[3800]\ttrain-rmse:0.070471\teval-rmse:0.097219\ttrain-rmspe:0.075298\teval-rmspe:0.098163\n"
     ]
    },
    {
     "name": "stdout",
     "output_type": "stream",
     "text": [
      "[3900]\ttrain-rmse:0.070154\teval-rmse:0.097178\ttrain-rmspe:0.074831\teval-rmspe:0.098131\n",
      "[4000]\ttrain-rmse:0.069868\teval-rmse:0.097114\ttrain-rmspe:0.074425\teval-rmspe:0.09808\n",
      "[4100]\ttrain-rmse:0.0696\teval-rmse:0.097091\ttrain-rmspe:0.074002\teval-rmspe:0.098062\n",
      "[4200]\ttrain-rmse:0.0693\teval-rmse:0.097088\ttrain-rmspe:0.073583\teval-rmspe:0.098065\n",
      "[4300]\ttrain-rmse:0.06903\teval-rmse:0.097095\ttrain-rmspe:0.073198\teval-rmspe:0.098084\n",
      "[4400]\ttrain-rmse:0.068778\teval-rmse:0.097061\ttrain-rmspe:0.072873\teval-rmspe:0.098059\n",
      "[4500]\ttrain-rmse:0.068488\teval-rmse:0.097042\ttrain-rmspe:0.072469\teval-rmspe:0.098044\n",
      "[4600]\ttrain-rmse:0.068242\teval-rmse:0.097024\ttrain-rmspe:0.072117\teval-rmspe:0.098034\n",
      "[4700]\ttrain-rmse:0.067988\teval-rmse:0.096999\ttrain-rmspe:0.071788\teval-rmspe:0.098017\n",
      "[4800]\ttrain-rmse:0.067751\teval-rmse:0.096972\ttrain-rmspe:0.071471\teval-rmspe:0.097997\n",
      "[4900]\ttrain-rmse:0.067506\teval-rmse:0.096964\ttrain-rmspe:0.071141\teval-rmspe:0.097978\n",
      "[5000]\ttrain-rmse:0.067274\teval-rmse:0.096933\ttrain-rmspe:0.070838\teval-rmspe:0.097951\n",
      "[5100]\ttrain-rmse:0.067025\teval-rmse:0.096926\ttrain-rmspe:0.070519\teval-rmspe:0.097947\n",
      "[5200]\ttrain-rmse:0.066787\teval-rmse:0.096922\ttrain-rmspe:0.07022\teval-rmspe:0.09795\n",
      "[5300]\ttrain-rmse:0.06656\teval-rmse:0.09691\ttrain-rmspe:0.069911\teval-rmspe:0.097933\n",
      "[5400]\ttrain-rmse:0.066313\teval-rmse:0.096899\ttrain-rmspe:0.069588\teval-rmspe:0.097922\n",
      "[5500]\ttrain-rmse:0.066078\teval-rmse:0.096867\ttrain-rmspe:0.069279\teval-rmspe:0.097891\n",
      "[5600]\ttrain-rmse:0.065842\teval-rmse:0.096875\ttrain-rmspe:0.068974\teval-rmspe:0.097899\n",
      "[5700]\ttrain-rmse:0.065644\teval-rmse:0.096865\ttrain-rmspe:0.068728\teval-rmspe:0.097893\n",
      "[5800]\ttrain-rmse:0.06545\teval-rmse:0.096872\ttrain-rmspe:0.06848\teval-rmspe:0.097897\n",
      "[5900]\ttrain-rmse:0.065208\teval-rmse:0.096895\ttrain-rmspe:0.068158\teval-rmspe:0.097929\n",
      "Stopping. Best iteration:\n",
      "[5650]\ttrain-rmse:0.065744\teval-rmse:0.096861\ttrain-rmspe:0.068846\teval-rmspe:0.097884\n",
      "\n",
      "Validating\n",
      "RMSPE: 0.098557\n",
      "Make predictions on the test set\n",
      "Train a XGBoost model\n",
      "[0]\ttrain-rmse:8.10123\teval-rmse:8.11854\ttrain-rmspe:0.999838\teval-rmspe:0.999842\n",
      "Multiple eval metrics have been passed: 'eval-rmspe' will be used for early stopping.\n",
      "\n",
      "Will train until eval-rmspe hasn't improved in 300 rounds.\n",
      "[100]\ttrain-rmse:1.08153\teval-rmse:1.08394\ttrain-rmspe:0.658038\teval-rmspe:0.65767\n",
      "[200]\ttrain-rmse:0.175657\teval-rmse:0.185188\ttrain-rmspe:0.180631\teval-rmspe:0.163352\n",
      "[300]\ttrain-rmse:0.096587\teval-rmse:0.113092\ttrain-rmspe:0.137284\teval-rmspe:0.109685\n",
      "[400]\ttrain-rmse:0.089948\teval-rmse:0.107383\ttrain-rmspe:0.124927\teval-rmspe:0.106634\n",
      "[500]\ttrain-rmse:0.086004\teval-rmse:0.103858\ttrain-rmspe:0.117815\teval-rmspe:0.103724\n",
      "[600]\ttrain-rmse:0.083449\teval-rmse:0.102206\ttrain-rmspe:0.112989\teval-rmspe:0.102275\n",
      "[700]\ttrain-rmse:0.081497\teval-rmse:0.101151\ttrain-rmspe:0.105758\teval-rmspe:0.101329\n",
      "[800]\ttrain-rmse:0.079939\teval-rmse:0.100365\ttrain-rmspe:0.099837\teval-rmspe:0.100613\n",
      "[900]\ttrain-rmse:0.078751\teval-rmse:0.099915\ttrain-rmspe:0.095316\teval-rmspe:0.100238\n",
      "[1000]\ttrain-rmse:0.077618\teval-rmse:0.099654\ttrain-rmspe:0.090542\teval-rmspe:0.100037\n",
      "[1100]\ttrain-rmse:0.076452\teval-rmse:0.099249\ttrain-rmspe:0.086099\teval-rmspe:0.099708\n",
      "[1200]\ttrain-rmse:0.075569\teval-rmse:0.098996\ttrain-rmspe:0.082942\teval-rmspe:0.099497\n",
      "[1300]\ttrain-rmse:0.074722\teval-rmse:0.098722\ttrain-rmspe:0.081059\teval-rmspe:0.099258\n",
      "[1400]\ttrain-rmse:0.073892\teval-rmse:0.098513\ttrain-rmspe:0.079569\teval-rmspe:0.099119\n",
      "[1500]\ttrain-rmse:0.07314\teval-rmse:0.098364\ttrain-rmspe:0.078481\teval-rmspe:0.098989\n",
      "[1600]\ttrain-rmse:0.072441\teval-rmse:0.098293\ttrain-rmspe:0.077482\teval-rmspe:0.098947\n",
      "[1700]\ttrain-rmse:0.07176\teval-rmse:0.098182\ttrain-rmspe:0.076594\teval-rmspe:0.09885\n",
      "[1800]\ttrain-rmse:0.071034\teval-rmse:0.098057\ttrain-rmspe:0.075565\teval-rmspe:0.098737\n",
      "[1900]\ttrain-rmse:0.07041\teval-rmse:0.097968\ttrain-rmspe:0.074726\teval-rmspe:0.098656\n",
      "[2000]\ttrain-rmse:0.06977\teval-rmse:0.097903\ttrain-rmspe:0.073909\teval-rmspe:0.098612\n",
      "[2100]\ttrain-rmse:0.069231\teval-rmse:0.097818\ttrain-rmspe:0.073191\teval-rmspe:0.098561\n",
      "[2200]\ttrain-rmse:0.068699\teval-rmse:0.097807\ttrain-rmspe:0.072519\teval-rmspe:0.098563\n",
      "[2300]\ttrain-rmse:0.068182\teval-rmse:0.097772\ttrain-rmspe:0.071848\teval-rmspe:0.098538\n",
      "[2400]\ttrain-rmse:0.067651\teval-rmse:0.097703\ttrain-rmspe:0.071176\teval-rmspe:0.09847\n",
      "[2500]\ttrain-rmse:0.067194\teval-rmse:0.097653\ttrain-rmspe:0.070623\teval-rmspe:0.098416\n",
      "[2600]\ttrain-rmse:0.066714\teval-rmse:0.097665\ttrain-rmspe:0.069995\teval-rmspe:0.098441\n",
      "[2700]\ttrain-rmse:0.066238\teval-rmse:0.097657\ttrain-rmspe:0.06941\teval-rmspe:0.098437\n",
      "Stopping. Best iteration:\n",
      "[2488]\ttrain-rmse:0.067241\teval-rmse:0.097652\ttrain-rmspe:0.070682\teval-rmspe:0.09841\n",
      "\n",
      "Validating\n",
      "RMSPE: 0.099551\n",
      "Make predictions on the test set\n",
      "Train a XGBoost model\n",
      "[0]\ttrain-rmse:8.10123\teval-rmse:8.11858\ttrain-rmspe:0.999838\teval-rmspe:0.999842\n",
      "Multiple eval metrics have been passed: 'eval-rmspe' will be used for early stopping.\n",
      "\n",
      "Will train until eval-rmspe hasn't improved in 300 rounds.\n",
      "[100]\ttrain-rmse:1.08152\teval-rmse:1.08612\ttrain-rmspe:0.658029\teval-rmspe:0.658414\n",
      "[200]\ttrain-rmse:0.175544\teval-rmse:0.18594\ttrain-rmspe:0.175725\teval-rmspe:0.163965\n",
      "[300]\ttrain-rmse:0.096472\teval-rmse:0.112507\ttrain-rmspe:0.127278\teval-rmspe:0.108763\n",
      "[400]\ttrain-rmse:0.089654\teval-rmse:0.105644\ttrain-rmspe:0.123895\teval-rmspe:0.104858\n",
      "[500]\ttrain-rmse:0.086121\teval-rmse:0.102257\ttrain-rmspe:0.118208\teval-rmspe:0.102129\n",
      "[600]\ttrain-rmse:0.083693\teval-rmse:0.100584\ttrain-rmspe:0.111253\teval-rmspe:0.100626\n",
      "[700]\ttrain-rmse:0.081832\teval-rmse:0.099557\ttrain-rmspe:0.1068\teval-rmspe:0.099742\n",
      "[800]\ttrain-rmse:0.080456\teval-rmse:0.098838\ttrain-rmspe:0.101677\teval-rmspe:0.099114\n",
      "[900]\ttrain-rmse:0.079123\teval-rmse:0.098296\ttrain-rmspe:0.095888\teval-rmspe:0.098661\n",
      "[1000]\ttrain-rmse:0.077968\teval-rmse:0.097893\ttrain-rmspe:0.092453\teval-rmspe:0.098338\n",
      "[1100]\ttrain-rmse:0.076898\teval-rmse:0.097617\ttrain-rmspe:0.088678\teval-rmspe:0.098089\n",
      "[1200]\ttrain-rmse:0.075908\teval-rmse:0.097274\ttrain-rmspe:0.085174\teval-rmspe:0.09778\n",
      "[1300]\ttrain-rmse:0.074913\teval-rmse:0.096968\ttrain-rmspe:0.082357\teval-rmspe:0.097516\n",
      "[1400]\ttrain-rmse:0.074094\teval-rmse:0.096762\ttrain-rmspe:0.0808\teval-rmspe:0.097347\n",
      "[1500]\ttrain-rmse:0.073305\teval-rmse:0.096589\ttrain-rmspe:0.079638\teval-rmspe:0.097177\n",
      "[1600]\ttrain-rmse:0.072539\teval-rmse:0.096503\ttrain-rmspe:0.078269\teval-rmspe:0.097157\n",
      "[1700]\ttrain-rmse:0.071876\teval-rmse:0.096396\ttrain-rmspe:0.077256\teval-rmspe:0.09703\n",
      "[1800]\ttrain-rmse:0.071246\teval-rmse:0.096286\ttrain-rmspe:0.076432\teval-rmspe:0.096975\n",
      "[1900]\ttrain-rmse:0.070619\teval-rmse:0.096216\ttrain-rmspe:0.075446\teval-rmspe:0.096917\n",
      "[2000]\ttrain-rmse:0.069994\teval-rmse:0.096151\ttrain-rmspe:0.074544\teval-rmspe:0.096858\n",
      "[2100]\ttrain-rmse:0.069446\teval-rmse:0.096142\ttrain-rmspe:0.073782\teval-rmspe:0.096886\n",
      "[2200]\ttrain-rmse:0.068892\teval-rmse:0.096102\ttrain-rmspe:0.072992\teval-rmspe:0.096855\n",
      "[2300]\ttrain-rmse:0.06833\teval-rmse:0.096083\ttrain-rmspe:0.072203\teval-rmspe:0.096844\n",
      "[2400]\ttrain-rmse:0.067818\teval-rmse:0.096039\ttrain-rmspe:0.07152\teval-rmspe:0.096811\n",
      "[2500]\ttrain-rmse:0.067361\teval-rmse:0.096013\ttrain-rmspe:0.070958\teval-rmspe:0.096785\n",
      "[2600]\ttrain-rmse:0.066861\teval-rmse:0.096016\ttrain-rmspe:0.070276\teval-rmspe:0.096813\n",
      "[2700]\ttrain-rmse:0.066422\teval-rmse:0.096011\ttrain-rmspe:0.069735\teval-rmspe:0.09681\n",
      "[2800]\ttrain-rmse:0.065958\teval-rmse:0.09596\ttrain-rmspe:0.069155\teval-rmspe:0.096789\n",
      "Stopping. Best iteration:\n",
      "[2550]\ttrain-rmse:0.067122\teval-rmse:0.095978\ttrain-rmspe:0.070655\teval-rmspe:0.096759\n",
      "\n",
      "Validating\n",
      "RMSPE: 0.097813\n",
      "Make predictions on the test set\n",
      "Train a XGBoost model\n",
      "[0]\ttrain-rmse:8.10123\teval-rmse:8.11863\ttrain-rmspe:0.999838\teval-rmspe:0.999842\n",
      "Multiple eval metrics have been passed: 'eval-rmspe' will be used for early stopping.\n",
      "\n",
      "Will train until eval-rmspe hasn't improved in 300 rounds.\n",
      "[100]\ttrain-rmse:1.08161\teval-rmse:1.08351\ttrain-rmspe:0.658026\teval-rmspe:0.657513\n",
      "[200]\ttrain-rmse:0.175907\teval-rmse:0.183524\ttrain-rmspe:0.175146\teval-rmspe:0.162113\n",
      "[300]\ttrain-rmse:0.096922\teval-rmse:0.112539\ttrain-rmspe:0.126661\teval-rmspe:0.10989\n",
      "[400]\ttrain-rmse:0.089791\teval-rmse:0.106255\ttrain-rmspe:0.122963\teval-rmspe:0.106251\n",
      "[500]\ttrain-rmse:0.086008\teval-rmse:0.103032\ttrain-rmspe:0.116873\teval-rmspe:0.103752\n"
     ]
    },
    {
     "name": "stdout",
     "output_type": "stream",
     "text": [
      "[600]\ttrain-rmse:0.083385\teval-rmse:0.101137\ttrain-rmspe:0.110688\teval-rmspe:0.102102\n",
      "[700]\ttrain-rmse:0.081519\teval-rmse:0.100266\ttrain-rmspe:0.104446\teval-rmspe:0.101343\n",
      "[800]\ttrain-rmse:0.080027\teval-rmse:0.099748\ttrain-rmspe:0.099125\teval-rmspe:0.100901\n",
      "[900]\ttrain-rmse:0.07878\teval-rmse:0.099189\ttrain-rmspe:0.093301\teval-rmspe:0.100451\n",
      "[1000]\ttrain-rmse:0.077686\teval-rmse:0.098889\ttrain-rmspe:0.089557\teval-rmspe:0.100202\n",
      "[1100]\ttrain-rmse:0.076687\teval-rmse:0.098488\ttrain-rmspe:0.086457\teval-rmspe:0.099797\n",
      "[1200]\ttrain-rmse:0.075771\teval-rmse:0.098201\ttrain-rmspe:0.083892\teval-rmspe:0.099544\n",
      "[1300]\ttrain-rmse:0.074876\teval-rmse:0.09792\ttrain-rmspe:0.082003\teval-rmspe:0.099315\n",
      "[1400]\ttrain-rmse:0.074001\teval-rmse:0.097719\ttrain-rmspe:0.080302\teval-rmspe:0.099137\n",
      "[1500]\ttrain-rmse:0.073219\teval-rmse:0.097552\ttrain-rmspe:0.079064\teval-rmspe:0.098986\n",
      "[1600]\ttrain-rmse:0.072497\teval-rmse:0.097409\ttrain-rmspe:0.077987\teval-rmspe:0.098863\n",
      "[1700]\ttrain-rmse:0.071761\teval-rmse:0.097321\ttrain-rmspe:0.076925\teval-rmspe:0.098799\n",
      "[1800]\ttrain-rmse:0.071093\teval-rmse:0.097244\ttrain-rmspe:0.075912\teval-rmspe:0.098743\n",
      "[1900]\ttrain-rmse:0.070439\teval-rmse:0.097165\ttrain-rmspe:0.074929\teval-rmspe:0.098672\n",
      "[2000]\ttrain-rmse:0.069867\teval-rmse:0.097104\ttrain-rmspe:0.074152\teval-rmspe:0.098619\n",
      "[2100]\ttrain-rmse:0.069317\teval-rmse:0.097056\ttrain-rmspe:0.07343\teval-rmspe:0.098609\n",
      "[2200]\ttrain-rmse:0.068806\teval-rmse:0.096996\ttrain-rmspe:0.072752\teval-rmspe:0.098535\n",
      "[2300]\ttrain-rmse:0.068372\teval-rmse:0.096988\ttrain-rmspe:0.072179\teval-rmspe:0.09854\n",
      "[2400]\ttrain-rmse:0.067859\teval-rmse:0.096905\ttrain-rmspe:0.071465\teval-rmspe:0.098453\n",
      "[2500]\ttrain-rmse:0.067366\teval-rmse:0.096852\ttrain-rmspe:0.070811\teval-rmspe:0.098437\n",
      "[2600]\ttrain-rmse:0.066879\teval-rmse:0.096873\ttrain-rmspe:0.070158\teval-rmspe:0.098476\n",
      "[2700]\ttrain-rmse:0.066401\teval-rmse:0.096861\ttrain-rmspe:0.069547\teval-rmspe:0.098467\n",
      "Stopping. Best iteration:\n",
      "[2433]\ttrain-rmse:0.067702\teval-rmse:0.096846\ttrain-rmspe:0.071242\teval-rmspe:0.098408\n",
      "\n",
      "Validating\n",
      "RMSPE: 0.097848\n",
      "Make predictions on the test set\n",
      "Train a XGBoost model\n",
      "[0]\ttrain-rmse:8.10123\teval-rmse:8.11865\ttrain-rmspe:0.999838\teval-rmspe:0.999842\n",
      "Multiple eval metrics have been passed: 'eval-rmspe' will be used for early stopping.\n",
      "\n",
      "Will train until eval-rmspe hasn't improved in 300 rounds.\n",
      "[100]\ttrain-rmse:1.08137\teval-rmse:1.08394\ttrain-rmspe:0.65808\teval-rmspe:0.657745\n",
      "[200]\ttrain-rmse:0.175892\teval-rmse:0.183261\ttrain-rmspe:0.182152\teval-rmspe:0.161785\n",
      "[300]\ttrain-rmse:0.096988\teval-rmse:0.113338\ttrain-rmspe:0.137475\teval-rmspe:0.110204\n",
      "[400]\ttrain-rmse:0.090337\teval-rmse:0.107303\ttrain-rmspe:0.132337\teval-rmspe:0.106919\n",
      "[500]\ttrain-rmse:0.086309\teval-rmse:0.103743\ttrain-rmspe:0.125802\teval-rmspe:0.104141\n",
      "[600]\ttrain-rmse:0.08364\teval-rmse:0.101978\ttrain-rmspe:0.119885\teval-rmspe:0.10252\n",
      "[700]\ttrain-rmse:0.081873\teval-rmse:0.101024\ttrain-rmspe:0.112159\teval-rmspe:0.101602\n",
      "[800]\ttrain-rmse:0.08034\teval-rmse:0.100418\ttrain-rmspe:0.101741\teval-rmspe:0.10114\n",
      "[900]\ttrain-rmse:0.078918\teval-rmse:0.099952\ttrain-rmspe:0.096545\teval-rmspe:0.100752\n",
      "[1000]\ttrain-rmse:0.077795\teval-rmse:0.099559\ttrain-rmspe:0.092071\teval-rmspe:0.100409\n",
      "[1100]\ttrain-rmse:0.076777\teval-rmse:0.099285\ttrain-rmspe:0.090346\teval-rmspe:0.100225\n",
      "[1200]\ttrain-rmse:0.075769\teval-rmse:0.099055\ttrain-rmspe:0.088395\teval-rmspe:0.099985\n"
     ]
    }
   ],
   "source": [
    "for eta in [0.02]:\n",
    "    for seed in range(45,52):\n",
    "        params = {\"objective\": \"reg:linear\",\n",
    "                  \"booster\" : \"gbtree\",\n",
    "                  \"eta\": eta,\n",
    "                  \"max_depth\": 10,\n",
    "                  \"subsample\": 0.9,\n",
    "                  \"colsample_bytree\": 0.7,\n",
    "                  \"silent\": 1,\n",
    "                  \"seed\": seed,\n",
    "                  \"nthread\":8\n",
    "                  }\n",
    "        num_boost_round = 15000\n",
    "        #0.1 [52]\ttrain-rmse:0.101232\teval-rmse:0.112216\ttrain-rmspe:0.14783\teval-rmspe:0.113482\n",
    "\n",
    "        print(\"Train a XGBoost model\")\n",
    "        #     X_train, X_valid = train_test_split(train, test_size=0.012, random_state=10)\n",
    "        X_train = train.loc[~(train.Date>'2015-07-15')]\n",
    "        X_valid = train.loc[(train.Date>'2015-07-15')]\n",
    "        y_train = np.log1p(X_train.Sales)\n",
    "        y_valid = np.log1p(X_valid.Sales)\n",
    "        dtrain = xgb.DMatrix(X_train[features], y_train)\n",
    "        dvalid = xgb.DMatrix(X_valid[features], y_valid)\n",
    "\n",
    "        watchlist = [(dtrain, 'train'), (dvalid, 'eval')]\n",
    "        gbm = xgb.train(params, dtrain, num_boost_round, evals=watchlist, \\\n",
    "          early_stopping_rounds=300, feval=rmspe_xg, verbose_eval=100)\n",
    "\n",
    "\n",
    "        print(\"Validating\")\n",
    "        yhat = gbm.predict(xgb.DMatrix(X_valid[features]))\n",
    "        error = rmspe(X_valid.Sales.values, np.expm1(yhat))\n",
    "        print('RMSPE: {:.6f}'.format(error))\n",
    "\n",
    "        print(\"Make predictions on the test set\")\n",
    "        dtest = xgb.DMatrix(test[features])\n",
    "        test_probs = gbm.predict(dtest)\n",
    "        # Make Submission\n",
    "  \n",
    "        result = pd.DataFrame({\"Id\": test[\"Id\"], 'Sales': np.expm1(test_probs)})\n",
    "        \n",
    "        process_sub(result,seed, eta)\n"
   ]
  },
  {
   "cell_type": "code",
   "execution_count": 11,
   "metadata": {
    "ExecuteTime": {
     "end_time": "2018-11-23T17:26:48.138906Z",
     "start_time": "2018-11-23T15:55:20.811063Z"
    },
    "scrolled": true
   },
   "outputs": [
    {
     "name": "stdout",
     "output_type": "stream",
     "text": [
      "Train a XGBoost model\n",
      "[0]\ttrain-rmse:8.10123\teval-rmse:8.11868\ttrain-rmspe:0.999838\teval-rmspe:0.999842\n",
      "Multiple eval metrics have been passed: 'eval-rmspe' will be used for early stopping.\n",
      "\n",
      "Will train until eval-rmspe hasn't improved in 300 rounds.\n",
      "[100]\ttrain-rmse:1.08124\teval-rmse:1.08469\ttrain-rmspe:0.658113\teval-rmspe:0.65808\n",
      "[200]\ttrain-rmse:0.175217\teval-rmse:0.185561\ttrain-rmspe:0.175156\teval-rmspe:0.163703\n",
      "[300]\ttrain-rmse:0.096546\teval-rmse:0.113008\ttrain-rmspe:0.126785\teval-rmspe:0.109547\n",
      "[400]\ttrain-rmse:0.089907\teval-rmse:0.106615\ttrain-rmspe:0.123102\teval-rmspe:0.106039\n",
      "[500]\ttrain-rmse:0.086123\teval-rmse:0.103428\ttrain-rmspe:0.118541\teval-rmspe:0.103407\n",
      "[600]\ttrain-rmse:0.083875\teval-rmse:0.101941\ttrain-rmspe:0.110191\teval-rmspe:0.102105\n",
      "[700]\ttrain-rmse:0.082014\teval-rmse:0.100857\ttrain-rmspe:0.104765\teval-rmspe:0.101114\n",
      "[800]\ttrain-rmse:0.080374\teval-rmse:0.099952\ttrain-rmspe:0.097873\teval-rmspe:0.100285\n",
      "[900]\ttrain-rmse:0.079047\teval-rmse:0.099465\ttrain-rmspe:0.093374\teval-rmspe:0.099903\n",
      "[1000]\ttrain-rmse:0.077829\teval-rmse:0.099025\ttrain-rmspe:0.089601\teval-rmspe:0.099554\n",
      "[1100]\ttrain-rmse:0.076755\teval-rmse:0.098611\ttrain-rmspe:0.086349\teval-rmspe:0.099184\n",
      "[1200]\ttrain-rmse:0.075779\teval-rmse:0.098314\ttrain-rmspe:0.085109\teval-rmspe:0.098942\n",
      "[1300]\ttrain-rmse:0.074898\teval-rmse:0.098022\ttrain-rmspe:0.082967\teval-rmspe:0.098716\n",
      "[1400]\ttrain-rmse:0.074045\teval-rmse:0.09783\ttrain-rmspe:0.081286\teval-rmspe:0.098582\n",
      "[1500]\ttrain-rmse:0.073195\teval-rmse:0.097664\ttrain-rmspe:0.079744\teval-rmspe:0.098451\n",
      "[1600]\ttrain-rmse:0.072419\teval-rmse:0.097529\ttrain-rmspe:0.078324\teval-rmspe:0.098381\n",
      "[1700]\ttrain-rmse:0.07175\teval-rmse:0.097425\ttrain-rmspe:0.077219\teval-rmspe:0.098274\n",
      "[1800]\ttrain-rmse:0.071071\teval-rmse:0.097348\ttrain-rmspe:0.076007\teval-rmspe:0.098213\n",
      "[1900]\ttrain-rmse:0.070447\teval-rmse:0.097271\ttrain-rmspe:0.075145\teval-rmspe:0.098151\n",
      "[2000]\ttrain-rmse:0.069879\teval-rmse:0.097214\ttrain-rmspe:0.074305\teval-rmspe:0.098085\n",
      "[2100]\ttrain-rmse:0.069293\teval-rmse:0.097187\ttrain-rmspe:0.073529\teval-rmspe:0.09807\n",
      "[2200]\ttrain-rmse:0.068746\teval-rmse:0.097188\ttrain-rmspe:0.072704\teval-rmspe:0.098105\n",
      "[2300]\ttrain-rmse:0.068206\teval-rmse:0.097142\ttrain-rmspe:0.071973\teval-rmspe:0.098083\n",
      "Stopping. Best iteration:\n",
      "[2031]\ttrain-rmse:0.06971\teval-rmse:0.097167\ttrain-rmspe:0.074089\teval-rmspe:0.098035\n",
      "\n",
      "Validating\n",
      "RMSPE: 0.098866\n",
      "Make predictions on the test set\n",
      "Train a XGBoost model\n",
      "[0]\ttrain-rmse:8.10123\teval-rmse:8.11866\ttrain-rmspe:0.999838\teval-rmspe:0.999842\n",
      "Multiple eval metrics have been passed: 'eval-rmspe' will be used for early stopping.\n",
      "\n",
      "Will train until eval-rmspe hasn't improved in 300 rounds.\n",
      "[100]\ttrain-rmse:1.08129\teval-rmse:1.0829\ttrain-rmspe:0.658115\teval-rmspe:0.657498\n",
      "[200]\ttrain-rmse:0.175704\teval-rmse:0.184682\ttrain-rmspe:0.180102\teval-rmspe:0.162934\n",
      "[300]\ttrain-rmse:0.096967\teval-rmse:0.113507\ttrain-rmspe:0.133993\teval-rmspe:0.110092\n",
      "[400]\ttrain-rmse:0.090049\teval-rmse:0.106735\ttrain-rmspe:0.126855\teval-rmspe:0.106255\n",
      "[500]\ttrain-rmse:0.086109\teval-rmse:0.10315\ttrain-rmspe:0.121315\teval-rmspe:0.10339\n",
      "[600]\ttrain-rmse:0.083448\teval-rmse:0.101631\ttrain-rmspe:0.115286\teval-rmspe:0.10208\n",
      "[700]\ttrain-rmse:0.081481\teval-rmse:0.100553\ttrain-rmspe:0.10935\teval-rmspe:0.10105\n",
      "[800]\ttrain-rmse:0.079976\teval-rmse:0.099822\ttrain-rmspe:0.100253\teval-rmspe:0.100372\n",
      "[900]\ttrain-rmse:0.078641\teval-rmse:0.099415\ttrain-rmspe:0.094661\teval-rmspe:0.100049\n",
      "[1000]\ttrain-rmse:0.077555\teval-rmse:0.099033\ttrain-rmspe:0.090593\teval-rmspe:0.09972\n",
      "[1100]\ttrain-rmse:0.076545\teval-rmse:0.098714\ttrain-rmspe:0.087269\teval-rmspe:0.099439\n",
      "[1200]\ttrain-rmse:0.075605\teval-rmse:0.098425\ttrain-rmspe:0.084837\teval-rmspe:0.099164\n",
      "[1300]\ttrain-rmse:0.07474\teval-rmse:0.098275\ttrain-rmspe:0.082589\teval-rmspe:0.099038\n",
      "[1400]\ttrain-rmse:0.0739\teval-rmse:0.098092\ttrain-rmspe:0.081316\teval-rmspe:0.09888\n",
      "[1500]\ttrain-rmse:0.073077\teval-rmse:0.098049\ttrain-rmspe:0.079449\teval-rmspe:0.098842\n",
      "[1600]\ttrain-rmse:0.072366\teval-rmse:0.09794\ttrain-rmspe:0.078109\teval-rmspe:0.098738\n",
      "[1700]\ttrain-rmse:0.071731\teval-rmse:0.097856\ttrain-rmspe:0.07717\teval-rmspe:0.098675\n",
      "[1800]\ttrain-rmse:0.071112\teval-rmse:0.09778\ttrain-rmspe:0.076264\teval-rmspe:0.098592\n",
      "[1900]\ttrain-rmse:0.070487\teval-rmse:0.097729\ttrain-rmspe:0.07532\teval-rmspe:0.09856\n",
      "[2000]\ttrain-rmse:0.069896\teval-rmse:0.097605\ttrain-rmspe:0.07451\teval-rmspe:0.098468\n",
      "[2100]\ttrain-rmse:0.06936\teval-rmse:0.097616\ttrain-rmspe:0.073765\teval-rmspe:0.098472\n",
      "[2200]\ttrain-rmse:0.068753\teval-rmse:0.097567\ttrain-rmspe:0.072753\teval-rmspe:0.098433\n",
      "[2300]\ttrain-rmse:0.068192\teval-rmse:0.097617\ttrain-rmspe:0.071942\teval-rmspe:0.098494\n",
      "[2400]\ttrain-rmse:0.067656\teval-rmse:0.097612\ttrain-rmspe:0.071214\teval-rmspe:0.098501\n",
      "[2500]\ttrain-rmse:0.067169\teval-rmse:0.097604\ttrain-rmspe:0.070557\teval-rmspe:0.098479\n",
      "Stopping. Best iteration:\n",
      "[2222]\ttrain-rmse:0.068637\teval-rmse:0.097555\ttrain-rmspe:0.072611\teval-rmspe:0.098427\n",
      "\n",
      "Validating\n",
      "RMSPE: 0.099429\n",
      "Make predictions on the test set\n",
      "Train a XGBoost model\n",
      "[0]\ttrain-rmse:8.10151\teval-rmse:8.11925\ttrain-rmspe:0.999837\teval-rmspe:0.999841\n",
      "Multiple eval metrics have been passed: 'eval-rmspe' will be used for early stopping.\n",
      "\n",
      "Will train until eval-rmspe hasn't improved in 300 rounds.\n",
      "[100]\ttrain-rmse:1.08151\teval-rmse:1.08467\ttrain-rmspe:0.658046\teval-rmspe:0.657962\n",
      "[200]\ttrain-rmse:0.175514\teval-rmse:0.184922\ttrain-rmspe:0.178621\teval-rmspe:0.163156\n",
      "[300]\ttrain-rmse:0.096768\teval-rmse:0.112983\ttrain-rmspe:0.130321\teval-rmspe:0.109723\n",
      "[400]\ttrain-rmse:0.089796\teval-rmse:0.106748\ttrain-rmspe:0.127274\teval-rmspe:0.106149\n",
      "[500]\ttrain-rmse:0.086037\teval-rmse:0.103144\ttrain-rmspe:0.120075\teval-rmspe:0.103404\n",
      "[600]\ttrain-rmse:0.083597\teval-rmse:0.101711\ttrain-rmspe:0.113586\teval-rmspe:0.102103\n",
      "[700]\ttrain-rmse:0.081661\teval-rmse:0.100512\ttrain-rmspe:0.106634\teval-rmspe:0.10105\n",
      "[800]\ttrain-rmse:0.08017\teval-rmse:0.099801\ttrain-rmspe:0.099012\teval-rmspe:0.100436\n",
      "[900]\ttrain-rmse:0.078956\teval-rmse:0.099411\ttrain-rmspe:0.093693\teval-rmspe:0.100105\n",
      "[1000]\ttrain-rmse:0.077856\teval-rmse:0.099\ttrain-rmspe:0.091323\teval-rmspe:0.099751\n",
      "[1100]\ttrain-rmse:0.076817\teval-rmse:0.098646\ttrain-rmspe:0.089162\teval-rmspe:0.099435\n",
      "[1200]\ttrain-rmse:0.075814\teval-rmse:0.098245\ttrain-rmspe:0.085533\teval-rmspe:0.099101\n",
      "[1300]\ttrain-rmse:0.074881\teval-rmse:0.098108\ttrain-rmspe:0.083444\teval-rmspe:0.098991\n",
      "[1400]\ttrain-rmse:0.07407\teval-rmse:0.097965\ttrain-rmspe:0.081597\teval-rmspe:0.098896\n",
      "[1500]\ttrain-rmse:0.073294\teval-rmse:0.09789\ttrain-rmspe:0.079348\teval-rmspe:0.098881\n",
      "[1600]\ttrain-rmse:0.072556\teval-rmse:0.097761\ttrain-rmspe:0.078288\teval-rmspe:0.098793\n",
      "[1700]\ttrain-rmse:0.071837\teval-rmse:0.097686\ttrain-rmspe:0.077181\teval-rmspe:0.098703\n",
      "[1800]\ttrain-rmse:0.071276\teval-rmse:0.097627\ttrain-rmspe:0.076466\teval-rmspe:0.098648\n",
      "[1900]\ttrain-rmse:0.070625\teval-rmse:0.097546\ttrain-rmspe:0.075333\teval-rmspe:0.098555\n",
      "[2000]\ttrain-rmse:0.069999\teval-rmse:0.097479\ttrain-rmspe:0.074342\teval-rmspe:0.098515\n",
      "[2100]\ttrain-rmse:0.069397\teval-rmse:0.097434\ttrain-rmspe:0.073476\teval-rmspe:0.098501\n",
      "[2200]\ttrain-rmse:0.068857\teval-rmse:0.097416\ttrain-rmspe:0.072669\teval-rmspe:0.0985\n",
      "[2300]\ttrain-rmse:0.068359\teval-rmse:0.097432\ttrain-rmspe:0.072006\teval-rmspe:0.098528\n",
      "[2400]\ttrain-rmse:0.067877\teval-rmse:0.097439\ttrain-rmspe:0.071386\teval-rmspe:0.098536\n",
      "Stopping. Best iteration:\n",
      "[2150]\ttrain-rmse:0.069123\teval-rmse:0.097375\ttrain-rmspe:0.073038\teval-rmspe:0.098456\n",
      "\n",
      "Validating\n",
      "RMSPE: 0.099037\n",
      "Make predictions on the test set\n",
      "Train a XGBoost model\n",
      "[0]\ttrain-rmse:8.10123\teval-rmse:8.11865\ttrain-rmspe:0.999838\teval-rmspe:0.999842\n",
      "Multiple eval metrics have been passed: 'eval-rmspe' will be used for early stopping.\n",
      "\n",
      "Will train until eval-rmspe hasn't improved in 300 rounds.\n",
      "[100]\ttrain-rmse:1.08137\teval-rmse:1.08448\ttrain-rmspe:0.658093\teval-rmspe:0.65793\n",
      "[200]\ttrain-rmse:0.175664\teval-rmse:0.185579\ttrain-rmspe:0.179826\teval-rmspe:0.16368\n",
      "[300]\ttrain-rmse:0.096955\teval-rmse:0.113612\ttrain-rmspe:0.13349\teval-rmspe:0.110252\n",
      "[400]\ttrain-rmse:0.090146\teval-rmse:0.107292\ttrain-rmspe:0.127819\teval-rmspe:0.10664\n",
      "[500]\ttrain-rmse:0.086355\teval-rmse:0.103914\ttrain-rmspe:0.123979\teval-rmspe:0.103826\n",
      "[600]\ttrain-rmse:0.083537\teval-rmse:0.102172\ttrain-rmspe:0.115111\teval-rmspe:0.102285\n"
     ]
    },
    {
     "name": "stdout",
     "output_type": "stream",
     "text": [
      "[700]\ttrain-rmse:0.08171\teval-rmse:0.101314\ttrain-rmspe:0.103559\teval-rmspe:0.10157\n",
      "[800]\ttrain-rmse:0.080207\teval-rmse:0.100717\ttrain-rmspe:0.09931\teval-rmspe:0.100993\n",
      "[900]\ttrain-rmse:0.078882\teval-rmse:0.100003\ttrain-rmspe:0.093687\teval-rmspe:0.100377\n",
      "[1000]\ttrain-rmse:0.077735\teval-rmse:0.099649\ttrain-rmspe:0.090432\teval-rmspe:0.100001\n",
      "[1100]\ttrain-rmse:0.076807\teval-rmse:0.099526\ttrain-rmspe:0.087253\teval-rmspe:0.099925\n",
      "[1200]\ttrain-rmse:0.075858\teval-rmse:0.099272\ttrain-rmspe:0.085086\teval-rmspe:0.099693\n",
      "[1300]\ttrain-rmse:0.0749\teval-rmse:0.099041\ttrain-rmspe:0.083326\teval-rmspe:0.099477\n",
      "[1400]\ttrain-rmse:0.074026\teval-rmse:0.098821\ttrain-rmspe:0.081693\teval-rmspe:0.09929\n",
      "[1500]\ttrain-rmse:0.073216\teval-rmse:0.098642\ttrain-rmspe:0.079626\teval-rmspe:0.099162\n",
      "[1600]\ttrain-rmse:0.072447\teval-rmse:0.098442\ttrain-rmspe:0.078176\teval-rmspe:0.098994\n",
      "[1700]\ttrain-rmse:0.071792\teval-rmse:0.098307\ttrain-rmspe:0.077112\teval-rmspe:0.098882\n",
      "[1800]\ttrain-rmse:0.071127\teval-rmse:0.098204\ttrain-rmspe:0.076122\teval-rmspe:0.098813\n",
      "[1900]\ttrain-rmse:0.070546\teval-rmse:0.09814\ttrain-rmspe:0.075306\teval-rmspe:0.098742\n",
      "[2000]\ttrain-rmse:0.069953\teval-rmse:0.098087\ttrain-rmspe:0.074471\teval-rmspe:0.09871\n",
      "[2100]\ttrain-rmse:0.069383\teval-rmse:0.098044\ttrain-rmspe:0.073607\teval-rmspe:0.098687\n",
      "[2200]\ttrain-rmse:0.068861\teval-rmse:0.097969\ttrain-rmspe:0.072854\teval-rmspe:0.098619\n",
      "[2300]\ttrain-rmse:0.068309\teval-rmse:0.097907\ttrain-rmspe:0.072112\teval-rmspe:0.098552\n",
      "[2400]\ttrain-rmse:0.06776\teval-rmse:0.097886\ttrain-rmspe:0.071384\teval-rmspe:0.098544\n",
      "[2500]\ttrain-rmse:0.067261\teval-rmse:0.097989\ttrain-rmspe:0.070718\teval-rmspe:0.098662\n",
      "[2600]\ttrain-rmse:0.066768\teval-rmse:0.097924\ttrain-rmspe:0.070113\teval-rmspe:0.098611\n",
      "[2700]\ttrain-rmse:0.066286\teval-rmse:0.097903\ttrain-rmspe:0.069512\teval-rmspe:0.09861\n",
      "Stopping. Best iteration:\n",
      "[2414]\ttrain-rmse:0.067697\teval-rmse:0.097874\ttrain-rmspe:0.071292\teval-rmspe:0.098533\n",
      "\n",
      "Validating\n",
      "RMSPE: 0.100052\n",
      "Make predictions on the test set\n",
      "Train a XGBoost model\n",
      "[0]\ttrain-rmse:8.10123\teval-rmse:8.11868\ttrain-rmspe:0.999838\teval-rmspe:0.999842\n",
      "Multiple eval metrics have been passed: 'eval-rmspe' will be used for early stopping.\n",
      "\n",
      "Will train until eval-rmspe hasn't improved in 300 rounds.\n",
      "[100]\ttrain-rmse:1.0814\teval-rmse:1.08353\ttrain-rmspe:0.658079\teval-rmspe:0.65759\n",
      "[200]\ttrain-rmse:0.175764\teval-rmse:0.184227\ttrain-rmspe:0.179498\teval-rmspe:0.162577\n",
      "[300]\ttrain-rmse:0.097009\teval-rmse:0.113023\ttrain-rmspe:0.135014\teval-rmspe:0.109765\n",
      "[400]\ttrain-rmse:0.090109\teval-rmse:0.106938\ttrain-rmspe:0.127313\teval-rmspe:0.106479\n",
      "[500]\ttrain-rmse:0.086132\teval-rmse:0.102869\ttrain-rmspe:0.119951\teval-rmspe:0.103087\n",
      "[600]\ttrain-rmse:0.083517\teval-rmse:0.101282\ttrain-rmspe:0.114246\teval-rmspe:0.10167\n",
      "[700]\ttrain-rmse:0.081556\teval-rmse:0.100227\ttrain-rmspe:0.1074\teval-rmspe:0.100685\n",
      "[800]\ttrain-rmse:0.08\teval-rmse:0.09971\ttrain-rmspe:0.100259\teval-rmspe:0.100205\n",
      "[900]\ttrain-rmse:0.078803\teval-rmse:0.099257\ttrain-rmspe:0.094935\teval-rmspe:0.099864\n",
      "[1000]\ttrain-rmse:0.07755\teval-rmse:0.09886\ttrain-rmspe:0.088398\teval-rmspe:0.099528\n",
      "[1100]\ttrain-rmse:0.076543\teval-rmse:0.098547\ttrain-rmspe:0.085805\teval-rmspe:0.099281\n",
      "[1200]\ttrain-rmse:0.07555\teval-rmse:0.098041\ttrain-rmspe:0.083686\teval-rmspe:0.098767\n",
      "[1300]\ttrain-rmse:0.074583\teval-rmse:0.097858\ttrain-rmspe:0.081375\teval-rmspe:0.098601\n",
      "[1400]\ttrain-rmse:0.073771\teval-rmse:0.097663\ttrain-rmspe:0.079905\teval-rmspe:0.098429\n",
      "[1500]\ttrain-rmse:0.073012\teval-rmse:0.097498\ttrain-rmspe:0.07864\teval-rmspe:0.098263\n",
      "[1600]\ttrain-rmse:0.07225\teval-rmse:0.097376\ttrain-rmspe:0.077542\teval-rmspe:0.098162\n",
      "[1700]\ttrain-rmse:0.071612\teval-rmse:0.097281\ttrain-rmspe:0.076525\teval-rmspe:0.09808\n",
      "[1800]\ttrain-rmse:0.071039\teval-rmse:0.097192\ttrain-rmspe:0.075767\teval-rmspe:0.098008\n",
      "[1900]\ttrain-rmse:0.070391\teval-rmse:0.097101\ttrain-rmspe:0.074853\teval-rmspe:0.09792\n",
      "[2000]\ttrain-rmse:0.069801\teval-rmse:0.096996\ttrain-rmspe:0.073955\teval-rmspe:0.097827\n",
      "[2100]\ttrain-rmse:0.06921\teval-rmse:0.096942\ttrain-rmspe:0.073193\teval-rmspe:0.09778\n",
      "[2200]\ttrain-rmse:0.068648\teval-rmse:0.096915\ttrain-rmspe:0.072466\teval-rmspe:0.097768\n",
      "[2300]\ttrain-rmse:0.068096\teval-rmse:0.0969\ttrain-rmspe:0.071699\teval-rmspe:0.097762\n",
      "[2400]\ttrain-rmse:0.067587\teval-rmse:0.096848\ttrain-rmspe:0.071059\teval-rmspe:0.097699\n",
      "[2500]\ttrain-rmse:0.067096\teval-rmse:0.096823\ttrain-rmspe:0.070442\teval-rmspe:0.097664\n",
      "[2600]\ttrain-rmse:0.066644\teval-rmse:0.096841\ttrain-rmspe:0.06987\teval-rmspe:0.097693\n",
      "[2700]\ttrain-rmse:0.066158\teval-rmse:0.096832\ttrain-rmspe:0.069266\teval-rmspe:0.097701\n",
      "Stopping. Best iteration:\n",
      "[2479]\ttrain-rmse:0.067203\teval-rmse:0.096809\ttrain-rmspe:0.070582\teval-rmspe:0.097653\n",
      "\n",
      "Validating\n",
      "RMSPE: 0.098631\n",
      "Make predictions on the test set\n",
      "Train a XGBoost model\n",
      "[0]\ttrain-rmse:8.10123\teval-rmse:8.11849\ttrain-rmspe:0.999838\teval-rmspe:0.999842\n",
      "Multiple eval metrics have been passed: 'eval-rmspe' will be used for early stopping.\n",
      "\n",
      "Will train until eval-rmspe hasn't improved in 300 rounds.\n",
      "[100]\ttrain-rmse:1.08137\teval-rmse:1.08387\ttrain-rmspe:0.658108\teval-rmspe:0.657722\n",
      "[200]\ttrain-rmse:0.175604\teval-rmse:0.184726\ttrain-rmspe:0.182022\teval-rmspe:0.162919\n",
      "[300]\ttrain-rmse:0.096749\teval-rmse:0.113286\ttrain-rmspe:0.139515\teval-rmspe:0.109848\n",
      "[400]\ttrain-rmse:0.090262\teval-rmse:0.107112\ttrain-rmspe:0.134657\teval-rmspe:0.10631\n",
      "[500]\ttrain-rmse:0.086214\teval-rmse:0.103603\ttrain-rmspe:0.13052\teval-rmspe:0.103439\n",
      "[600]\ttrain-rmse:0.083519\teval-rmse:0.101356\ttrain-rmspe:0.125867\teval-rmspe:0.101538\n",
      "[700]\ttrain-rmse:0.081722\teval-rmse:0.100447\ttrain-rmspe:0.120962\teval-rmspe:0.100682\n",
      "[800]\ttrain-rmse:0.080204\teval-rmse:0.099566\ttrain-rmspe:0.111118\teval-rmspe:0.099955\n",
      "[900]\ttrain-rmse:0.079001\teval-rmse:0.099026\ttrain-rmspe:0.103675\teval-rmspe:0.099496\n",
      "[1000]\ttrain-rmse:0.07777\teval-rmse:0.098527\ttrain-rmspe:0.095832\teval-rmspe:0.099108\n",
      "[1100]\ttrain-rmse:0.076692\teval-rmse:0.098336\ttrain-rmspe:0.091983\teval-rmspe:0.098948\n",
      "[1200]\ttrain-rmse:0.07572\teval-rmse:0.098114\ttrain-rmspe:0.087301\teval-rmspe:0.098764\n",
      "[1300]\ttrain-rmse:0.074782\teval-rmse:0.097978\ttrain-rmspe:0.084586\teval-rmspe:0.098699\n",
      "[1400]\ttrain-rmse:0.07391\teval-rmse:0.097751\ttrain-rmspe:0.082392\teval-rmspe:0.098485\n",
      "[1500]\ttrain-rmse:0.07314\teval-rmse:0.097562\ttrain-rmspe:0.080382\teval-rmspe:0.098342\n",
      "[1600]\ttrain-rmse:0.072441\teval-rmse:0.097499\ttrain-rmspe:0.078634\teval-rmspe:0.098279\n",
      "[1700]\ttrain-rmse:0.07176\teval-rmse:0.097417\ttrain-rmspe:0.077372\teval-rmspe:0.098209\n",
      "[1800]\ttrain-rmse:0.071152\teval-rmse:0.097406\ttrain-rmspe:0.076515\teval-rmspe:0.098235\n",
      "[1900]\ttrain-rmse:0.070426\teval-rmse:0.097377\ttrain-rmspe:0.075303\teval-rmspe:0.098229\n",
      "[2000]\ttrain-rmse:0.069821\teval-rmse:0.097231\ttrain-rmspe:0.074447\teval-rmspe:0.098079\n",
      "[2100]\ttrain-rmse:0.069298\teval-rmse:0.097186\ttrain-rmspe:0.073693\teval-rmspe:0.098038\n",
      "[2200]\ttrain-rmse:0.068766\teval-rmse:0.097117\ttrain-rmspe:0.072917\teval-rmspe:0.09798\n",
      "[2300]\ttrain-rmse:0.068197\teval-rmse:0.09711\ttrain-rmspe:0.072123\teval-rmspe:0.097967\n",
      "[2400]\ttrain-rmse:0.067699\teval-rmse:0.097068\ttrain-rmspe:0.071489\teval-rmspe:0.097929\n",
      "[2500]\ttrain-rmse:0.067245\teval-rmse:0.097081\ttrain-rmspe:0.070865\teval-rmspe:0.09795\n",
      "[2600]\ttrain-rmse:0.06676\teval-rmse:0.097066\ttrain-rmspe:0.070181\teval-rmspe:0.097937\n",
      "[2700]\ttrain-rmse:0.066295\teval-rmse:0.097015\ttrain-rmspe:0.069547\teval-rmspe:0.097887\n",
      "[2800]\ttrain-rmse:0.065827\teval-rmse:0.096966\ttrain-rmspe:0.068954\teval-rmspe:0.097853\n",
      "[2900]\ttrain-rmse:0.065366\teval-rmse:0.096889\ttrain-rmspe:0.068391\teval-rmspe:0.097793\n",
      "[3000]\ttrain-rmse:0.064918\teval-rmse:0.096886\ttrain-rmspe:0.067808\teval-rmspe:0.0978\n",
      "[3100]\ttrain-rmse:0.064522\teval-rmse:0.096844\ttrain-rmspe:0.067335\teval-rmspe:0.097761\n",
      "[3200]\ttrain-rmse:0.064088\teval-rmse:0.096811\ttrain-rmspe:0.066802\teval-rmspe:0.097742\n",
      "[3300]\ttrain-rmse:0.063716\teval-rmse:0.096827\ttrain-rmspe:0.06634\teval-rmspe:0.097751\n",
      "[3400]\ttrain-rmse:0.063328\teval-rmse:0.096853\ttrain-rmspe:0.06587\teval-rmspe:0.097785\n",
      "[3500]\ttrain-rmse:0.06294\teval-rmse:0.096866\ttrain-rmspe:0.065387\teval-rmspe:0.097798\n",
      "Stopping. Best iteration:\n",
      "[3244]\ttrain-rmse:0.06394\teval-rmse:0.096801\ttrain-rmspe:0.066628\teval-rmspe:0.097729\n",
      "\n",
      "Validating\n",
      "RMSPE: 0.098614\n",
      "Make predictions on the test set\n"
     ]
    }
   ],
   "source": [
    "for eta in [0.02]:\n",
    "    for seed in range(46,52):\n",
    "        params = {\"objective\": \"reg:linear\",\n",
    "                  \"booster\" : \"gbtree\",\n",
    "                  \"eta\": eta,\n",
    "                  \"max_depth\": 10,\n",
    "                  \"subsample\": 0.9,\n",
    "                  \"colsample_bytree\": 0.7,\n",
    "                  \"silent\": 1,\n",
    "                  \"seed\": seed,\n",
    "                  \"nthread\":8\n",
    "                  }\n",
    "        num_boost_round = 15000\n",
    "        #0.1 [52]\ttrain-rmse:0.101232\teval-rmse:0.112216\ttrain-rmspe:0.14783\teval-rmspe:0.113482\n",
    "\n",
    "        print(\"Train a XGBoost model\")\n",
    "        #     X_train, X_valid = train_test_split(train, test_size=0.012, random_state=10)\n",
    "        X_train = train.loc[~(train.Date>'2015-07-15')]\n",
    "        X_valid = train.loc[(train.Date>'2015-07-15')]\n",
    "        y_train = np.log1p(X_train.Sales)\n",
    "        y_valid = np.log1p(X_valid.Sales)\n",
    "        dtrain = xgb.DMatrix(X_train[features], y_train)\n",
    "        dvalid = xgb.DMatrix(X_valid[features], y_valid)\n",
    "\n",
    "        watchlist = [(dtrain, 'train'), (dvalid, 'eval')]\n",
    "        gbm = xgb.train(params, dtrain, num_boost_round, evals=watchlist, \\\n",
    "          early_stopping_rounds=300, feval=rmspe_xg, verbose_eval=100)\n",
    "\n",
    "\n",
    "        print(\"Validating\")\n",
    "        yhat = gbm.predict(xgb.DMatrix(X_valid[features]))\n",
    "        error = rmspe(X_valid.Sales.values, np.expm1(yhat))\n",
    "        print('RMSPE: {:.6f}'.format(error))\n",
    "\n",
    "        print(\"Make predictions on the test set\")\n",
    "        dtest = xgb.DMatrix(test[features])\n",
    "        test_probs = gbm.predict(dtest)\n",
    "        # Make Submission\n",
    "  \n",
    "        result = pd.DataFrame({\"Id\": test[\"Id\"], 'Sales': np.expm1(test_probs)})\n",
    "        \n",
    "        process_sub(result,seed, eta)\n"
   ]
  },
  {
   "cell_type": "markdown",
   "metadata": {},
   "source": [
    "#### Final Parameter Choice"
   ]
  },
  {
   "cell_type": "markdown",
   "metadata": {},
   "source": [
    "|Parameter       | Number   | \n",
    "|---|----|\n",
    "| eta    | 0.02\t |     \n",
    "| max_depth     |   10   |     \n",
    "| cols_sample|   0.9    |  \n",
    "| subsample|   0.9    |  \n",
    "| Time Split|   2015-07-15   |  "
   ]
  }
 ],
 "metadata": {
  "kernelspec": {
   "display_name": "Python 3",
   "language": "python",
   "name": "python3"
  },
  "language_info": {
   "codemirror_mode": {
    "name": "ipython",
    "version": 3
   },
   "file_extension": ".py",
   "mimetype": "text/x-python",
   "name": "python",
   "nbconvert_exporter": "python",
   "pygments_lexer": "ipython3",
   "version": "3.6.5"
  },
  "latex_envs": {
   "LaTeX_envs_menu_present": true,
   "autoclose": false,
   "autocomplete": true,
   "bibliofile": "biblio.bib",
   "cite_by": "apalike",
   "current_citInitial": 1,
   "eqLabelWithNumbers": true,
   "eqNumInitial": 1,
   "hotkeys": {
    "equation": "Ctrl-E",
    "itemize": "Ctrl-I"
   },
   "labels_anchors": false,
   "latex_user_defs": false,
   "report_style_numbering": false,
   "user_envs_cfg": false
  },
  "toc": {
   "base_numbering": 1,
   "nav_menu": {},
   "number_sections": true,
   "sideBar": true,
   "skip_h1_title": true,
   "title_cell": "Table of Contents",
   "title_sidebar": "Contents",
   "toc_cell": true,
   "toc_position": {
    "height": "calc(100% - 180px)",
    "left": "10px",
    "top": "150px",
    "width": "358px"
   },
   "toc_section_display": true,
   "toc_window_display": false
  },
  "varInspector": {
   "cols": {
    "lenName": 16,
    "lenType": 16,
    "lenVar": 40
   },
   "kernels_config": {
    "python": {
     "delete_cmd_postfix": "",
     "delete_cmd_prefix": "del ",
     "library": "var_list.py",
     "varRefreshCmd": "print(var_dic_list())"
    },
    "r": {
     "delete_cmd_postfix": ") ",
     "delete_cmd_prefix": "rm(",
     "library": "var_list.r",
     "varRefreshCmd": "cat(var_dic_list()) "
    }
   },
   "types_to_exclude": [
    "module",
    "function",
    "builtin_function_or_method",
    "instance",
    "_Feature"
   ],
   "window_display": false
  }
 },
 "nbformat": 4,
 "nbformat_minor": 2
}
